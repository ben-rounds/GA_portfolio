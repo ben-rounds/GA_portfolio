{
 "cells": [
  {
   "cell_type": "markdown",
   "metadata": {},
   "source": [
    "# Homework 1"
   ]
  },
  {
   "cell_type": "code",
   "execution_count": 122,
   "metadata": {
    "collapsed": false
   },
   "outputs": [],
   "source": [
    "import pandas as pd\n",
    "import numpy as np\n",
    "import matplotlib.pyplot as plt\n",
    "%matplotlib inline\n",
    "\n",
    "df = pd.read_csv('titanic.csv.gz', compression='gzip', header=0, sep=',')"
   ]
  },
  {
   "cell_type": "markdown",
   "metadata": {},
   "source": [
    "# What do you notice about the data\n",
    "\n",
    "* 'PassengerID' is unique (and ordered) for all indiiduals, and can thus be used as an index or removed altogether\n",
    "* Other column names are less-than-straightforward - e.g. 'Embarked', 'Parch', 'SibSp'\n",
    "* 'Embarked' has an 'nan' value for some passengers\n",
    "* Passengers paid a wide range of different fares, far exceeding the range of accomodations."
   ]
  },
  {
   "cell_type": "code",
   "execution_count": 123,
   "metadata": {
    "collapsed": false,
    "scrolled": true
   },
   "outputs": [
    {
     "name": "stdout",
     "output_type": "stream",
     "text": [
      "The 'survived' variable has possible values 0 and 1.\n",
      "The 'Pclass' variable has possible values 3, 1 and 2.\n",
      "The 'Sex' variable has possible values 'male' and 'female'.\n",
      "The 'SibSp' variable has 7 possible values: 1, 0, 3, 4, 2, 5 and 8.\n",
      "The 'Parch' variable also has 7 possible values: 0, 1, 2, 5, 3, 4 and 6.\n",
      "The 'Embarked' variable has 4 possible values: 'S', 'C', 'Q' and nan. \n",
      "\n",
      "Otherwise, the other column headers 'Name', 'Age', 'Fare' and 'Cabin' have 891, 89, 248 and 148 possible values respectively.\n"
     ]
    }
   ],
   "source": [
    "print \"The 'survived' variable has possible values %r and %r.\" % (\n",
    "    df.Survived.unique()[0], df.Survived.unique()[1])\n",
    "print \"The 'Pclass' variable has possible values %r, %r and %r.\" % (\n",
    "    df.Pclass.unique()[0], df.Pclass.unique()[1], df.Pclass.unique()[2])\n",
    "print \"The 'Sex' variable has possible values %r and %r.\" % (\n",
    "    df.Sex.unique()[0], df.Sex.unique()[1])\n",
    "print \"The 'SibSp' variable has %d possible values: %r, %r, %r, %r, %r, %r and %r.\" % (\n",
    "    len(df.SibSp.unique()), df.SibSp.unique()[0], df.SibSp.unique()[1], df.SibSp.unique()[2], \n",
    "    df.SibSp.unique()[3], df.SibSp.unique()[4], df.SibSp.unique()[5], df.SibSp.unique()[6])\n",
    "print \"The 'Parch' variable also has %d possible values: %r, %r, %r, %r, %r, %r and %r.\" % (\n",
    "    len(df.Parch.unique()), df.Parch.unique()[0], df.Parch.unique()[1], df.Parch.unique()[2], \n",
    "    df.Parch.unique()[3], df.Parch.unique()[4], df.Parch.unique()[5], df.Parch.unique()[6])\n",
    "print \"The 'Embarked' variable has %d possible values: %r, %r, %r and %r. \\n\" % (\n",
    "    len(df.Embarked.unique()), df.Embarked.unique()[0], df.Embarked.unique()[1], \n",
    "    df.Embarked.unique()[2], df.Embarked.unique()[3])\n",
    "print \"Otherwise, the other column headers 'Name', 'Age', 'Fare' and 'Cabin' have\", \\\n",
    "      \"%d, %d, %d and %d possible values respectively.\" % ( \n",
    "    len(df.Name.unique()), len(df.Age.unique()), len(df.Fare.unique()), len(df.Cabin.unique()))"
   ]
  },
  {
   "cell_type": "code",
   "execution_count": 124,
   "metadata": {
    "collapsed": false
   },
   "outputs": [
    {
     "data": {
      "text/plain": [
       "count    891.000000\n",
       "mean      32.204208\n",
       "std       49.693429\n",
       "min        0.000000\n",
       "25%        7.910400\n",
       "50%       14.454200\n",
       "75%       31.000000\n",
       "max      512.329200\n",
       "Name: Fare, dtype: float64"
      ]
     },
     "execution_count": 124,
     "metadata": {},
     "output_type": "execute_result"
    },
    {
     "data": {
      "image/png": "[encoded data removed]",
      "text/plain": [
       "<matplotlib.figure.Figure at 0x269b5550>"
      ]
     },
     "metadata": {},
     "output_type": "display_data"
    }
   ],
   "source": [
    "plt.figure(2, figsize=(8,6))\n",
    "df.Fare.plot(kind='hist', color='green', bins=20,title='Varying Fares of Titanic Passenges')\n",
    "\n",
    "df.Fare.describe()"
   ]
  },
  {
   "cell_type": "markdown",
   "metadata": {},
   "source": [
    "# What is the overall survival rate"
   ]
  },
  {
   "cell_type": "code",
   "execution_count": 125,
   "metadata": {
    "collapsed": false
   },
   "outputs": [
    {
     "name": "stdout",
     "output_type": "stream",
     "text": [
      "The probability of survival for Titanic passengers at large was 38.38%.\n"
     ]
    }
   ],
   "source": [
    "perc_surv_all = float(sum(df.Survived))/len(df.Survived)*100\n",
    "print \"The probability of survival for Titanic passengers at large was %.2f%%.\" % perc_surv_all"
   ]
  },
  {
   "cell_type": "code",
   "execution_count": 126,
   "metadata": {
    "collapsed": false
   },
   "outputs": [
    {
     "data": {
      "text/plain": [
       "<matplotlib.axes._subplots.AxesSubplot at 0x270ac630>"
      ]
     },
     "execution_count": 126,
     "metadata": {},
     "output_type": "execute_result"
    },
    {
     "data": {
      "image/png": "[encoded data removed]",
      "text/plain": [
       "<matplotlib.figure.Figure at 0x272ba4a8>"
      ]
     },
     "metadata": {},
     "output_type": "display_data"
    }
   ],
   "source": [
    "# Pie chart for survival rate\n",
    "perc_series = pd.Series((perc_surv_all, 100-perc_surv_all), \n",
    "                        index = ['Surivived', 'Died'], name = 'Survival on the Titanic')\n",
    "perc_series.plot(kind = 'pie', figsize = (6, 6))"
   ]
  },
  {
   "cell_type": "markdown",
   "metadata": {},
   "source": [
    "# What role does gender play in surviving?"
   ]
  },
  {
   "cell_type": "code",
   "execution_count": 127,
   "metadata": {
    "collapsed": false
   },
   "outputs": [
    {
     "name": "stdout",
     "output_type": "stream",
     "text": [
      "In the dataset, there are 577 men and 314 women.\n",
      "Out of the 577 men 109 survived, while out of the 314 women 233 survived.\n",
      "\n",
      "This shows survival rates of 18.89% for men and 74.20% for women respectively, while\n",
      "the probability of survival irregardless of sex is 38.38%, as shown above.\n"
     ]
    },
    {
     "data": {
      "text/plain": [
       "<matplotlib.axes._subplots.AxesSubplot at 0x274265c0>"
      ]
     },
     "execution_count": 127,
     "metadata": {},
     "output_type": "execute_result"
    },
    {
     "data": {
      "image/png": "[encoded data removed]",
      "text/plain": [
       "<matplotlib.figure.Figure at 0x2738dba8>"
      ]
     },
     "metadata": {},
     "output_type": "display_data"
    }
   ],
   "source": [
    "print \"In the dataset, there are %d men and %d women.\" % (len(df.Sex[df.Sex=='male']), len(df.Sex[df.Sex=='female']))\n",
    "print 'Out of the %d men %d survived, while out of the %d women %d survived.' % (\n",
    "    len(df.Sex[df.Sex=='male']), sum(df.Survived[df.Sex=='male']), \n",
    "    len(df.Sex[df.Sex=='female']), sum(df.Survived[df.Sex=='female']))\n",
    "\n",
    "men_survive_rate = float(sum(df.Survived[df.Sex=='male']))/len(df.Sex[df.Sex=='male']) * 100\n",
    "women_survive_rate = float(sum(df.Survived[df.Sex=='female']))/len(df.Sex[df.Sex=='female']) * 100\n",
    "perc_surv_all = float(sum(df.Survived))/len(df.Survived)*100\n",
    "\n",
    "print '\\nThis shows survival rates of %.2f%% for men and %.2f%% for women respectively, while' % (\n",
    "    men_survive_rate, women_survive_rate)\n",
    "print \"the probability of survival irregardless of sex is %.2f%%, as shown above.\" % perc_surv_all\n",
    "\n",
    "# Pie chart for survival rate\n",
    "perc_series = pd.Series((men_survive_rate, perc_surv_all, women_survive_rate), \n",
    "                        index = [\"Men's Survival Rate (%)\", \"General Survival Rate (%)\", \"Women's Survival Rate (%)\"],\n",
    "                        name = 'Survival on the Titanic by Sex')\n",
    "perc_series.plot(kind = 'bar', figsize = (6, 6), color = 'rgb')"
   ]
  },
  {
   "cell_type": "code",
   "execution_count": 128,
   "metadata": {
    "collapsed": false
   },
   "outputs": [
    {
     "name": "stdout",
     "output_type": "stream",
     "text": [
      "\n",
      "From this data we might infer that being a woman increases one's chance of survival. \n",
      "Let's look at this a little further using 'Sex' as a dummy variable in a regression.\n",
      "\n"
     ]
    }
   ],
   "source": [
    "print \"\\nFrom this data we might infer that being a woman increases one's chance of survival.\" ,\\\n",
    "      \"\\nLet's look at this a little further using 'Sex' as a dummy variable in a regression.\\n\""
   ]
  },
  {
   "cell_type": "code",
   "execution_count": 129,
   "metadata": {
    "collapsed": false
   },
   "outputs": [
    {
     "name": "stdout",
     "output_type": "stream",
     "text": [
      "The results of a regression using 'Sex' as a dummy variable are below:\n",
      "[('Intercept', 0.18890814558058774), (['Gender'], array([ 0.55313007]))]\n",
      "The R-squared of the regression is 0.295.\n",
      "\n",
      "These values affirm the survival rates of men and women shown above, but do not\n",
      "necessarily lead one to reject a null hypothesis that sex does not impact likelihood\n",
      "of surival.\n"
     ]
    }
   ],
   "source": [
    "# make copy of the data to change variables\n",
    "data = df.copy()\n",
    "\n",
    "# import the scikit-learn linear regression package\n",
    "from sklearn.linear_model import LinearRegression\n",
    "lm = LinearRegression()\n",
    "y = data.Survived\n",
    "\n",
    "# Create binary dummy variable for independent variable 'Sex'\n",
    "data['Gender'] = data.Sex.map({'male':0, 'female':1})\n",
    "used_col = ['Gender']\n",
    "X = data[used_col]\n",
    "lm.fit(X, y)\n",
    "\n",
    "# pair the feature names with coefficients\n",
    "print \"The results of a regression using 'Sex' as a dummy variable are below:\"\n",
    "print zip(('Intercept', used_col), (lm.intercept_, lm.coef_))\n",
    "print \"The R-squared of the regression is %.3f.\" % lm.score(X, y)\n",
    "\n",
    "print \"\\nThese values affirm the survival rates of men and women shown above, but do not\\n\", \\\n",
    "      \"necessarily lead one to reject a null hypothesis that sex does not impact likelihood\\n\", \\\n",
    "      \"of surival.\""
   ]
  },
  {
   "cell_type": "markdown",
   "metadata": {},
   "source": [
    "# What role does class play in surviving?"
   ]
  },
  {
   "cell_type": "code",
   "execution_count": 131,
   "metadata": {
    "collapsed": false
   },
   "outputs": [
    {
     "name": "stdout",
     "output_type": "stream",
     "text": [
      "I'll approach this problem similarly to the question of sex.\n",
      "In the dataset, there are 216 people in 1st class, 184 people in 2nd class and 491 in 3rd class.\n",
      "Of the 216 passengers in 1st class, 184 in 2nd class and 491 in 3rd,\n",
      "136 in 1st class surived, 87 in 2nd class survied and 119 in 3rd class survived.\n",
      "\n",
      "This shows survival rates of 62.96%, 47.28% and 24.24% for 1st, 2nd and 3rd class respectively,\n",
      "which appears to be a reasonably transparent linear relationship, though I will explore this further.\n",
      "Again, let's look at this problem using class as a dummy variable.\n",
      "\n",
      "Plot #1 - Class Survival Percentage vs. Average\n"
     ]
    },
    {
     "data": {
      "text/plain": [
       "<matplotlib.axes._subplots.AxesSubplot at 0x27238048>"
      ]
     },
     "execution_count": 131,
     "metadata": {},
     "output_type": "execute_result"
    },
    {
     "data": {
      "image/png": "[encoded data removed]",
      "text/plain": [
       "<matplotlib.figure.Figure at 0x27247be0>"
      ]
     },
     "metadata": {},
     "output_type": "display_data"
    }
   ],
   "source": [
    "print \"I'll approach this problem similarly to the question of sex.\"\n",
    "print \"In the dataset, there are %d people in 1st class, %d people in 2nd class and %d in 3rd class.\" % (\n",
    "        len(df.Pclass[df.Pclass==1]), len(df.Pclass[df.Pclass==2]), len(df.Pclass[df.Pclass==3]))\n",
    "print \"Of the %d passengers in 1st class, %d in 2nd class and %d in 3rd,\" % (\n",
    "    len(df.Pclass[df.Pclass==1]), len(df.Pclass[df.Pclass==2]), len(df.Pclass[df.Pclass==3])) \n",
    "print \"%d in 1st class surived, %d in 2nd class survied and %d in 3rd class survived.\" % (\n",
    "    sum(df.Survived[df.Pclass==1]), sum(df.Survived[df.Pclass==2]), sum(df.Survived[df.Pclass==3]))\n",
    "\n",
    "survive_first = float(sum(df.Survived[df.Pclass==1]))/len(df.Pclass[df.Pclass==1]) * 100\n",
    "survive_second = float(sum(df.Survived[df.Pclass==2]))/len(df.Pclass[df.Pclass==2]) * 100\n",
    "survive_third = float(sum(df.Survived[df.Pclass==3]))/len(df.Pclass[df.Pclass==3]) * 100\n",
    "\n",
    "print \"\\nThis shows survival rates of %.2f%%, %.2f%% and %.2f%% for 1st, 2nd and 3rd class respectively,\" % (\n",
    "    survive_first, survive_second, survive_third)\n",
    "print \"which appears to be a reasonably transparent linear relationship, though I will explore this further.\"\n",
    "print \"Again, let's look at this problem using class as a dummy variable.\"\n",
    "\n",
    "# Bar chart for survival rate\n",
    "print \"\\nPlot #1 - Class Survival Percentage vs. Average\"\n",
    "perc_series = pd.Series((survive_first, survive_second, survive_third, perc_surv_all), \n",
    "                        index = [\"First Class Survival Rate (%)\", \"Second Class Survival Rate (%)\", \n",
    "                                 \"Third Class Survival Rate (%)\", \"General Survival Rate (%)\"],\n",
    "                        name = 'Survival on the Titanic by Sex')\n",
    "\n",
    "perc_series.plot(kind = 'bar', figsize = (6, 6), color = ['orange', 'blue', 'gray', 'purple'])"
   ]
  },
  {
   "cell_type": "code",
   "execution_count": 132,
   "metadata": {
    "collapsed": false
   },
   "outputs": [
    {
     "name": "stdout",
     "output_type": "stream",
     "text": [
      "Plot #2 - Class Survival Percentage vs. Average\n"
     ]
    },
    {
     "data": {
      "text/plain": [
       "<matplotlib.axes._subplots.AxesSubplot at 0x26c04358>"
      ]
     },
     "execution_count": 132,
     "metadata": {},
     "output_type": "execute_result"
    },
    {
     "data": {
      "image/png": "[encoded data removed]",
      "text/plain": [
       "<matplotlib.figure.Figure at 0x2741a278>"
      ]
     },
     "metadata": {},
     "output_type": "display_data"
    }
   ],
   "source": [
    "print \"Plot #2 - Class Survival Percentage vs. Average\"\n",
    "\n",
    "bar_series1 = pd.Series((survive_third, survive_second, survive_first))\n",
    "bar_series2 = pd.Series([perc_surv_all]*3)\n",
    "combo_df = pd.DataFrame(zip(bar_series1, bar_series2),\n",
    "                        index = ['Third Class','Second Class', 'First Class'],\n",
    "                        columns = ['Class','Average'])\n",
    "\n",
    "combo_df.plot(kind='barh')"
   ]
  },
  {
   "cell_type": "code",
   "execution_count": 133,
   "metadata": {
    "collapsed": false
   },
   "outputs": [
    {
     "name": "stdout",
     "output_type": "stream",
     "text": [
      "The results of a regression using the 'Pclass' dummy variables are below:\n",
      "Intercept = 0.630\n",
      "Pclass_2 = -0.157\n",
      "Pclass_3 = -0.387\n",
      "The R-squared of the regression is 0.115.\n",
      "\n",
      "This shows that passengers realized significantly reduced chances of survival at descending levels of class.\n",
      "Again, this affirms the probabilities seen above, but with a low R-squared, suggesting poor model fit.\n"
     ]
    }
   ],
   "source": [
    "# Create 2 binary dummy variables for the 3 levels of Pclass\n",
    "data = df.copy()\n",
    "class_dummies = pd.get_dummies(data.Pclass, prefix = 'Pclass').iloc[:, 1:]\n",
    "data = pd.concat([data, class_dummies], axis=1)\n",
    "\n",
    "# Define columns to be used in regression, here the two Pclass dummy variables\n",
    "used_col = ['Pclass_2', 'Pclass_3']\n",
    "X = data[used_col]\n",
    "\n",
    "# instantiate fit\n",
    "lm.fit(X, y)\n",
    "\n",
    "# pair the feature names with coefficients\n",
    "print \"The results of a regression using the 'Pclass' dummy variables are below:\"\n",
    "print 'Intercept = %.3f' % lm.intercept_\n",
    "print 'Pclass_2 = %.3f' % lm.coef_[0]\n",
    "print 'Pclass_3 = %.3f' % lm.coef_[1]\n",
    "print \"The R-squared of the regression is %.3f.\" % lm.score(X, y)\n",
    "print \"\\nThis shows that passengers realized significantly reduced chances of survival at descending levels of class.\"\n",
    "print \"Again, this affirms the probabilities seen above, but with a low R-squared, suggesting poor model fit.\""
   ]
  },
  {
   "cell_type": "markdown",
   "metadata": {},
   "source": [
    "# What role does age play in surviving?"
   ]
  },
  {
   "cell_type": "code",
   "execution_count": 134,
   "metadata": {
    "collapsed": false
   },
   "outputs": [
    {
     "name": "stdout",
     "output_type": "stream",
     "text": [
      "First observe the summary statistics of the age variable in the dataset:\n",
      "\n",
      "count    714.000000\n",
      "mean      29.699118\n",
      "std       14.526497\n",
      "min        0.420000\n",
      "25%       20.125000\n",
      "50%       28.000000\n",
      "75%       38.000000\n",
      "max       80.000000\n",
      "Name: Age, dtype: float64\n",
      "\n",
      "We observe a distribution comprised of 714 observations, with a minimum of 0.42 and a\n",
      "and a max of 80.00.\n"
     ]
    }
   ],
   "source": [
    "print \"First observe the summary statistics of the age variable in the dataset:\\n\"\n",
    "print df.Age.describe()\n",
    "print \"\\nWe observe a distribution comprised of %d observations, with a minimum of %.2f and a\" % (df.Age.count(), df.Age.min())\n",
    "print \"and a max of %.2f.\" % df.Age.max()"
   ]
  },
  {
   "cell_type": "code",
   "execution_count": 135,
   "metadata": {
    "collapsed": false
   },
   "outputs": [
    {
     "data": {
      "text/plain": [
       "<matplotlib.axes._subplots.AxesSubplot at 0x250e4ba8>"
      ]
     },
     "execution_count": 135,
     "metadata": {},
     "output_type": "execute_result"
    },
    {
     "data": {
      "image/png": "[encoded data removed]",
      "text/plain": [
       "<matplotlib.figure.Figure at 0x26312358>"
      ]
     },
     "metadata": {},
     "output_type": "display_data"
    }
   ],
   "source": [
    "plt.figure(1, figsize=(8,6))\n",
    "df.Age.plot(kind='hist', ylim=(0,200),\n",
    "            color='teal', title = 'Age Distribution of Titanic Passengers')"
   ]
  },
  {
   "cell_type": "code",
   "execution_count": 136,
   "metadata": {
    "collapsed": false
   },
   "outputs": [
    {
     "name": "stdout",
     "output_type": "stream",
     "text": [
      "\n",
      "To approach this question further, I will break individuals into decade quantiles.\n",
      "We thus have 62 people between 0 and 10, 102 people between 10 and 20, 220 people between 20 and 30,\n",
      "167 people between 30 and 40, 89 people between 40 and 50, 48 people between 50 and 60, 19 people between 60 and 70,\n",
      "and 7 people between 70 and 80, including 80 for a total of 714 people, as seen above in the summary statistics.\n"
     ]
    }
   ],
   "source": [
    "print \"\\nTo approach this question further, I will break individuals into decade quantiles.\"\n",
    "print \"We thus have %d people between 0 and 10, %d people between 10 and 20, %d people between 20 and 30,\" % (\n",
    "    len(df.Age[(df.Age >= 0) & (df.Age < 10)]), len(df.Age[(df.Age >= 10) & (df.Age < 20)]), \n",
    "    len(df.Age[(df.Age >= 20) & (df.Age < 30)]))\n",
    "print \"%d people between 30 and 40, %d people between 40 and 50, %d people between 50 and 60, %d people between 60 and 70,\" % (\n",
    "    len(df.Age[(df.Age >= 30) & (df.Age < 40)]), len(df.Age[(df.Age >= 40) & (df.Age < 50)]), \n",
    "    len(df.Age[(df.Age >= 50) & (df.Age < 60)]), len(df.Age[(df.Age >= 60) & (df.Age < 70)]))\n",
    "print \"and %d people between 70 and 80, including 80 for a total of %d people, as seen above in the summary statistics.\" % (\n",
    "    len(df.Age[(df.Age >= 70) & (df.Age <= 80)]), len(df.Age[df.Age <= 80]))"
   ]
  },
  {
   "cell_type": "code",
   "execution_count": 137,
   "metadata": {
    "collapsed": false
   },
   "outputs": [
    {
     "name": "stdout",
     "output_type": "stream",
     "text": [
      "Survival for the age cohorts was as follows:\n",
      "\n",
      " 0 - 10: 61.29% \n",
      "10 - 20: 40.20% \n",
      "20 - 30: 35.00% \n",
      "30 - 40: 43.71% \n",
      "40 - 50: 38.20% \n",
      "50 - 60: 41.67% \n",
      "60 - 70: 31.58% \n",
      "60 - 70: 14.29%\n",
      "\n",
      "This seems to suggest that being in the youngest or oldest quantile was a significant determinant of survival \n",
      "on the Titanic, while those between 10 and 70 had roughly similar probabilities of survival.\n"
     ]
    }
   ],
   "source": [
    "surv_perc_less_10 = float(sum(df.Survived[(df.Age >= 0) & (df.Age < 10)]))/len(df.Age[(df.Age >= 0) & (df.Age < 10)]) *100\n",
    "surv_perc_10_20 = float(sum(df.Survived[(df.Age >= 10) & (df.Age < 20)]))/len(df.Age[(df.Age >= 10) & (df.Age < 20)]) *100\n",
    "surv_perc_20_30 = float(sum(df.Survived[(df.Age >= 20) & (df.Age < 30)]))/len(df.Age[(df.Age >= 20) & (df.Age < 30)]) *100\n",
    "surv_perc_30_40 = float(sum(df.Survived[(df.Age >= 30) & (df.Age < 40)]))/len(df.Age[(df.Age >= 30) & (df.Age < 40)]) *100\n",
    "surv_perc_40_50 = float(sum(df.Survived[(df.Age >= 40) & (df.Age < 50)]))/len(df.Age[(df.Age >= 40) & (df.Age < 50)]) *100\n",
    "surv_perc_50_60 = float(sum(df.Survived[(df.Age >= 50) & (df.Age < 60)]))/len(df.Age[(df.Age >= 50) & (df.Age < 60)]) *100\n",
    "surv_perc_60_70 = float(sum(df.Survived[(df.Age >= 60) & (df.Age < 70)]))/len(df.Age[(df.Age >= 60) & (df.Age < 70)]) *100\n",
    "surv_perc_more_70 = float(sum(df.Survived[(df.Age >= 70)]))/len(df.Age[(df.Age >= 70)]) *100\n",
    "\n",
    "print \"Survival for the age cohorts was as follows:\\n\\n 0 - 10: %.2f%% \\n10 - 20: %.2f%% \\n20 - 30: %.2f%% \\n30 - 40: %.2f%% \\n40 - 50: %.2f%% \\n50 - 60: %.2f%% \\n60 - 70: %.2f%% \\n60 - 70: %.2f%%\" % (\n",
    "    surv_perc_less_10, surv_perc_10_20, surv_perc_20_30, surv_perc_30_40,\n",
    "    surv_perc_40_50, surv_perc_50_60, surv_perc_60_70, surv_perc_more_70)\n",
    "print \"\\nThis seems to suggest that being in the youngest or oldest quantile was a significant determinant of survival \\n\", \\\n",
    "      \"on the Titanic, while those between 10 and 70 had roughly similar probabilities of survival.\""
   ]
  },
  {
   "cell_type": "markdown",
   "metadata": {},
   "source": [
    "# Given the above, do you have any guesses on what predicts survival?"
   ]
  },
  {
   "cell_type": "code",
   "execution_count": 314,
   "metadata": {
    "collapsed": false
   },
   "outputs": [
    {
     "name": "stdout",
     "output_type": "stream",
     "text": [
      "Observing the three key variables gender, class and age in terms of their predictive ability \n",
      "on survival outcomes, it seems that survival can best be expected for females in the youngest\n",
      "age cohort (<10) who were 1st class passengers aboard the Titanic.\n"
     ]
    }
   ],
   "source": [
    "print \"Observing the three key variables gender, class and age in terms of their predictive ability \\n\", \\\n",
    "      \"on survival outcomes, it seems that survival can best be expected for females in the youngest\\n\", \\\n",
    "      \"age cohort (<10) who were 1st class passengers aboard the Titanic.\""
   ]
  },
  {
   "cell_type": "markdown",
   "metadata": {},
   "source": [
    "# Do you have any ideas for new features?"
   ]
  },
  {
   "cell_type": "code",
   "execution_count": 145,
   "metadata": {
    "collapsed": false
   },
   "outputs": [
    {
     "name": "stdout",
     "output_type": "stream",
     "text": [
      "Some possible improvements to the data include:\n",
      "\n",
      "\t- Grouped data for indiduals, where individuals have attributes 'Age', 'Sex', and 'Pclass'\n",
      "\t- Data could used more usable dummy variables, as I added for regression on the key variables analyzed\n"
     ]
    }
   ],
   "source": [
    "print \"Some possible improvements to the data include:\\n\"\n",
    "print \"\\t- Grouped data for indiduals, where individuals have attributes 'Age', 'Sex', and 'Pclass'\"\n",
    "print \"\\t- Data could used more usable dummy variables, as I added for regression on the key variables analyzed\""
   ]
  }
 ],
 "metadata": {
  "kernelspec": {
   "display_name": "Python 2",
   "language": "python",
   "name": "python2"
  },
  "language_info": {
   "codemirror_mode": {
    "name": "ipython",
    "version": 2
   },
   "file_extension": ".py",
   "mimetype": "text/x-python",
   "name": "python",
   "nbconvert_exporter": "python",
   "pygments_lexer": "ipython2",
   "version": "2.7.11"
  }
 },
 "nbformat": 4,
 "nbformat_minor": 0
}
