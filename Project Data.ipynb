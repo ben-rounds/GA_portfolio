{
 "cells": [
  {
   "cell_type": "markdown",
   "metadata": {},
   "source": [
    "# Project Data"
   ]
  },
  {
   "cell_type": "markdown",
   "metadata": {},
   "source": [
    "Below I've pulled FX rates for a basket of currencies with respect to the US dollar. Lower I've written a helper function that, given a single time series and two frequencies will then provide a buy signal (+1) or sell signal (-1) when the faster moving average crosses the slower moving average moving positively or negatively respectively. I plan to apply this function across the basket of currencies for a number of different moving average frequencies and use a learnin algorithm to determine to strength/predictive power of the trading signals and decide which to implement."
   ]
  },
  {
   "cell_type": "code",
   "execution_count": 86,
   "metadata": {
    "collapsed": false
   },
   "outputs": [],
   "source": [
    "import pandas as pd\n",
    "import numpy as np\n",
    "import matplotlib.pyplot as plt\n",
    "% matplotlib inline"
   ]
  },
  {
   "cell_type": "code",
   "execution_count": 10,
   "metadata": {
    "collapsed": false
   },
   "outputs": [
    {
     "data": {
      "text/plain": [
       "'C:\\\\Users\\\\Ben\\\\My Documents\\\\DAT-NYC-30\\\\project'"
      ]
     },
     "execution_count": 10,
     "metadata": {},
     "output_type": "execute_result"
    }
   ],
   "source": [
    "import os\n",
    "os.getcwd()"
   ]
  },
  {
   "cell_type": "code",
   "execution_count": null,
   "metadata": {
    "collapsed": true
   },
   "outputs": [],
   "source": [
    "# Quandl API in case I come back to this approach\n",
    "key = '8kx5ntFkPhpwX7Nhs6fN'"
   ]
  },
  {
   "cell_type": "code",
   "execution_count": 293,
   "metadata": {
    "collapsed": false
   },
   "outputs": [],
   "source": [
    "# Use default Pandas Yahoo! Finance interface\n",
    "import pandas.io.data as web\n",
    "all_data = {}\n",
    "currencies = ['JPY=X','RUB=X','EUR=X','CAD=X','BRL=X',\n",
    "              'GBP=X','AUD=X','NZD=X','MXN=X']\n",
    "\n",
    "for ticker in currencies:\n",
    "    all_data[ticker] = web.get_data_yahoo(ticker, '6/1/2006', '2/1/2016')\n",
    "    \n",
    "rates = pd.DataFrame({tic: data['Adj Close'] for tic, data in all_data.items()})"
   ]
  },
  {
   "cell_type": "code",
   "execution_count": 294,
   "metadata": {
    "collapsed": false
   },
   "outputs": [
    {
     "data": {
      "text/html": [
       "<div>\n",
       "<table border=\"1\" class=\"dataframe\">\n",
       "  <thead>\n",
       "    <tr style=\"text-align: right;\">\n",
       "      <th></th>\n",
       "      <th>AUD=X</th>\n",
       "      <th>BRL=X</th>\n",
       "      <th>CAD=X</th>\n",
       "      <th>EUR=X</th>\n",
       "      <th>GBP=X</th>\n",
       "      <th>JPY=X</th>\n",
       "      <th>MXN=X</th>\n",
       "      <th>NZD=X</th>\n",
       "      <th>RUB=X</th>\n",
       "    </tr>\n",
       "    <tr>\n",
       "      <th>Date</th>\n",
       "      <th></th>\n",
       "      <th></th>\n",
       "      <th></th>\n",
       "      <th></th>\n",
       "      <th></th>\n",
       "      <th></th>\n",
       "      <th></th>\n",
       "      <th></th>\n",
       "      <th></th>\n",
       "    </tr>\n",
       "  </thead>\n",
       "  <tbody>\n",
       "    <tr>\n",
       "      <th>2006-06-01</th>\n",
       "      <td>1.3371</td>\n",
       "      <td>2.2672</td>\n",
       "      <td>1.1025</td>\n",
       "      <td>0.78058</td>\n",
       "      <td>0.53579</td>\n",
       "      <td>112.480</td>\n",
       "      <td>11.221</td>\n",
       "      <td>1.5916</td>\n",
       "      <td>27.09</td>\n",
       "    </tr>\n",
       "    <tr>\n",
       "      <th>2006-06-02</th>\n",
       "      <td>1.3314</td>\n",
       "      <td>2.2823</td>\n",
       "      <td>1.1011</td>\n",
       "      <td>0.77411</td>\n",
       "      <td>0.53129</td>\n",
       "      <td>111.730</td>\n",
       "      <td>11.301</td>\n",
       "      <td>1.5853</td>\n",
       "      <td>26.76</td>\n",
       "    </tr>\n",
       "    <tr>\n",
       "      <th>2006-06-05</th>\n",
       "      <td>1.3364</td>\n",
       "      <td>2.2823</td>\n",
       "      <td>1.1054</td>\n",
       "      <td>0.77513</td>\n",
       "      <td>0.53436</td>\n",
       "      <td>112.340</td>\n",
       "      <td>11.325</td>\n",
       "      <td>1.5808</td>\n",
       "      <td>26.71</td>\n",
       "    </tr>\n",
       "    <tr>\n",
       "      <th>2006-06-06</th>\n",
       "      <td>1.3488</td>\n",
       "      <td>2.2670</td>\n",
       "      <td>1.1132</td>\n",
       "      <td>0.77991</td>\n",
       "      <td>0.53737</td>\n",
       "      <td>113.215</td>\n",
       "      <td>11.275</td>\n",
       "      <td>1.5924</td>\n",
       "      <td>26.81</td>\n",
       "    </tr>\n",
       "    <tr>\n",
       "      <th>2006-06-07</th>\n",
       "      <td>1.3470</td>\n",
       "      <td>2.2565</td>\n",
       "      <td>1.1120</td>\n",
       "      <td>0.78113</td>\n",
       "      <td>0.53844</td>\n",
       "      <td>113.430</td>\n",
       "      <td>11.325</td>\n",
       "      <td>1.5860</td>\n",
       "      <td>26.85</td>\n",
       "    </tr>\n",
       "  </tbody>\n",
       "</table>\n",
       "</div>"
      ],
      "text/plain": [
       "             AUD=X   BRL=X   CAD=X    EUR=X    GBP=X    JPY=X   MXN=X   NZD=X  \\\n",
       "Date                                                                            \n",
       "2006-06-01  1.3371  2.2672  1.1025  0.78058  0.53579  112.480  11.221  1.5916   \n",
       "2006-06-02  1.3314  2.2823  1.1011  0.77411  0.53129  111.730  11.301  1.5853   \n",
       "2006-06-05  1.3364  2.2823  1.1054  0.77513  0.53436  112.340  11.325  1.5808   \n",
       "2006-06-06  1.3488  2.2670  1.1132  0.77991  0.53737  113.215  11.275  1.5924   \n",
       "2006-06-07  1.3470  2.2565  1.1120  0.78113  0.53844  113.430  11.325  1.5860   \n",
       "\n",
       "            RUB=X  \n",
       "Date               \n",
       "2006-06-01  27.09  \n",
       "2006-06-02  26.76  \n",
       "2006-06-05  26.71  \n",
       "2006-06-06  26.81  \n",
       "2006-06-07  26.85  "
      ]
     },
     "execution_count": 294,
     "metadata": {},
     "output_type": "execute_result"
    }
   ],
   "source": [
    "rates.head()"
   ]
  },
  {
   "cell_type": "markdown",
   "metadata": {},
   "source": [
    "I found that Christmas day 2006 has shit data. Remove this day."
   ]
  },
  {
   "cell_type": "code",
   "execution_count": 105,
   "metadata": {
    "collapsed": false
   },
   "outputs": [
    {
     "data": {
      "text/plain": [
       "(2516, 9)"
      ]
     },
     "execution_count": 105,
     "metadata": {},
     "output_type": "execute_result"
    }
   ],
   "source": [
    "rates.shape"
   ]
  },
  {
   "cell_type": "code",
   "execution_count": 362,
   "metadata": {
    "collapsed": false
   },
   "outputs": [],
   "source": [
    "# Having troublt removing this! wtf\n",
    "rates = rates.drop(['2006-12-25'])"
   ]
  },
  {
   "cell_type": "code",
   "execution_count": 118,
   "metadata": {
    "collapsed": false
   },
   "outputs": [
    {
     "data": {
      "text/plain": [
       "(2516, 9)"
      ]
     },
     "execution_count": 118,
     "metadata": {},
     "output_type": "execute_result"
    }
   ],
   "source": [
    "rates.shape"
   ]
  },
  {
   "cell_type": "code",
   "execution_count": 68,
   "metadata": {
    "collapsed": false
   },
   "outputs": [
    {
     "data": {
      "text/html": [
       "<div>\n",
       "<table border=\"1\" class=\"dataframe\">\n",
       "  <thead>\n",
       "    <tr style=\"text-align: right;\">\n",
       "      <th></th>\n",
       "      <th>AUD=X</th>\n",
       "      <th>BRL=X</th>\n",
       "      <th>CAD=X</th>\n",
       "      <th>EUR=X</th>\n",
       "      <th>GBP=X</th>\n",
       "      <th>JPY=X</th>\n",
       "      <th>MXN=X</th>\n",
       "      <th>NZD=X</th>\n",
       "      <th>RUB=X</th>\n",
       "    </tr>\n",
       "  </thead>\n",
       "  <tbody>\n",
       "    <tr>\n",
       "      <th>count</th>\n",
       "      <td>2513.000000</td>\n",
       "      <td>2491.000000</td>\n",
       "      <td>2513.000000</td>\n",
       "      <td>2498.000000</td>\n",
       "      <td>2511.000000</td>\n",
       "      <td>2498.000000</td>\n",
       "      <td>2514.000000</td>\n",
       "      <td>2515.000000</td>\n",
       "      <td>2493.000000</td>\n",
       "    </tr>\n",
       "    <tr>\n",
       "      <th>mean</th>\n",
       "      <td>1.143865</td>\n",
       "      <td>2.132181</td>\n",
       "      <td>1.085132</td>\n",
       "      <td>0.758459</td>\n",
       "      <td>0.606179</td>\n",
       "      <td>99.703765</td>\n",
       "      <td>12.790008</td>\n",
       "      <td>1.361193</td>\n",
       "      <td>33.823658</td>\n",
       "    </tr>\n",
       "    <tr>\n",
       "      <th>std</th>\n",
       "      <td>0.157169</td>\n",
       "      <td>0.529254</td>\n",
       "      <td>0.101031</td>\n",
       "      <td>0.065491</td>\n",
       "      <td>0.058184</td>\n",
       "      <td>14.934695</td>\n",
       "      <td>1.593555</td>\n",
       "      <td>0.164573</td>\n",
       "      <td>11.333317</td>\n",
       "    </tr>\n",
       "    <tr>\n",
       "      <th>min</th>\n",
       "      <td>0.218820</td>\n",
       "      <td>1.533700</td>\n",
       "      <td>0.918700</td>\n",
       "      <td>0.625470</td>\n",
       "      <td>0.474340</td>\n",
       "      <td>75.740000</td>\n",
       "      <td>9.866500</td>\n",
       "      <td>1.133300</td>\n",
       "      <td>0.716200</td>\n",
       "    </tr>\n",
       "    <tr>\n",
       "      <th>25%</th>\n",
       "      <td>1.015300</td>\n",
       "      <td>1.765000</td>\n",
       "      <td>1.010200</td>\n",
       "      <td>0.721140</td>\n",
       "      <td>0.585840</td>\n",
       "      <td>85.912750</td>\n",
       "      <td>11.624750</td>\n",
       "      <td>1.235750</td>\n",
       "      <td>27.369000</td>\n",
       "    </tr>\n",
       "    <tr>\n",
       "      <th>50%</th>\n",
       "      <td>1.110400</td>\n",
       "      <td>2.023000</td>\n",
       "      <td>1.052700</td>\n",
       "      <td>0.750495</td>\n",
       "      <td>0.622740</td>\n",
       "      <td>99.133000</td>\n",
       "      <td>12.870350</td>\n",
       "      <td>1.318400</td>\n",
       "      <td>30.681000</td>\n",
       "    </tr>\n",
       "    <tr>\n",
       "      <th>75%</th>\n",
       "      <td>1.264400</td>\n",
       "      <td>2.256250</td>\n",
       "      <td>1.131600</td>\n",
       "      <td>0.782597</td>\n",
       "      <td>0.645360</td>\n",
       "      <td>115.377500</td>\n",
       "      <td>13.339975</td>\n",
       "      <td>1.443200</td>\n",
       "      <td>33.130600</td>\n",
       "    </tr>\n",
       "    <tr>\n",
       "      <th>max</th>\n",
       "      <td>1.652000</td>\n",
       "      <td>4.175100</td>\n",
       "      <td>1.457800</td>\n",
       "      <td>0.954050</td>\n",
       "      <td>0.725530</td>\n",
       "      <td>125.629000</td>\n",
       "      <td>18.709000</td>\n",
       "      <td>2.029200</td>\n",
       "      <td>82.900000</td>\n",
       "    </tr>\n",
       "  </tbody>\n",
       "</table>\n",
       "</div>"
      ],
      "text/plain": [
       "             AUD=X        BRL=X        CAD=X        EUR=X        GBP=X  \\\n",
       "count  2513.000000  2491.000000  2513.000000  2498.000000  2511.000000   \n",
       "mean      1.143865     2.132181     1.085132     0.758459     0.606179   \n",
       "std       0.157169     0.529254     0.101031     0.065491     0.058184   \n",
       "min       0.218820     1.533700     0.918700     0.625470     0.474340   \n",
       "25%       1.015300     1.765000     1.010200     0.721140     0.585840   \n",
       "50%       1.110400     2.023000     1.052700     0.750495     0.622740   \n",
       "75%       1.264400     2.256250     1.131600     0.782597     0.645360   \n",
       "max       1.652000     4.175100     1.457800     0.954050     0.725530   \n",
       "\n",
       "             JPY=X        MXN=X        NZD=X        RUB=X  \n",
       "count  2498.000000  2514.000000  2515.000000  2493.000000  \n",
       "mean     99.703765    12.790008     1.361193    33.823658  \n",
       "std      14.934695     1.593555     0.164573    11.333317  \n",
       "min      75.740000     9.866500     1.133300     0.716200  \n",
       "25%      85.912750    11.624750     1.235750    27.369000  \n",
       "50%      99.133000    12.870350     1.318400    30.681000  \n",
       "75%     115.377500    13.339975     1.443200    33.130600  \n",
       "max     125.629000    18.709000     2.029200    82.900000  "
      ]
     },
     "execution_count": 68,
     "metadata": {},
     "output_type": "execute_result"
    }
   ],
   "source": [
    "rates.describe()"
   ]
  },
  {
   "cell_type": "code",
   "execution_count": 74,
   "metadata": {
    "collapsed": false
   },
   "outputs": [],
   "source": [
    "# Ask if there's a better way to do this: bad programming\n",
    "cum_rates = rates.copy()\n",
    "for col in range(rates.shape[1]):\n",
    "    for row in range(rates.shape[0]):\n",
    "        if row == 0:\n",
    "            cum_rates.ix[row,col]=1\n",
    "        else:\n",
    "            cum_rates.ix[row,col] = cum_rates.ix[row-1,col]*(\n",
    "                                     rates.iloc[row,col]/rates.iloc[row-1,col])"
   ]
  },
  {
   "cell_type": "code",
   "execution_count": 75,
   "metadata": {
    "collapsed": false
   },
   "outputs": [
    {
     "data": {
      "text/html": [
       "<div>\n",
       "<table border=\"1\" class=\"dataframe\">\n",
       "  <thead>\n",
       "    <tr style=\"text-align: right;\">\n",
       "      <th></th>\n",
       "      <th>AUD=X</th>\n",
       "      <th>BRL=X</th>\n",
       "      <th>CAD=X</th>\n",
       "      <th>EUR=X</th>\n",
       "      <th>GBP=X</th>\n",
       "      <th>JPY=X</th>\n",
       "      <th>MXN=X</th>\n",
       "      <th>NZD=X</th>\n",
       "      <th>RUB=X</th>\n",
       "    </tr>\n",
       "    <tr>\n",
       "      <th>Date</th>\n",
       "      <th></th>\n",
       "      <th></th>\n",
       "      <th></th>\n",
       "      <th></th>\n",
       "      <th></th>\n",
       "      <th></th>\n",
       "      <th></th>\n",
       "      <th></th>\n",
       "      <th></th>\n",
       "    </tr>\n",
       "  </thead>\n",
       "  <tbody>\n",
       "    <tr>\n",
       "      <th>2006-06-01</th>\n",
       "      <td>1.000000</td>\n",
       "      <td>1.000000</td>\n",
       "      <td>1.000000</td>\n",
       "      <td>1.000000</td>\n",
       "      <td>1.000000</td>\n",
       "      <td>1.000000</td>\n",
       "      <td>1.000000</td>\n",
       "      <td>1.000000</td>\n",
       "      <td>1.000000</td>\n",
       "    </tr>\n",
       "    <tr>\n",
       "      <th>2006-06-02</th>\n",
       "      <td>0.995737</td>\n",
       "      <td>1.006660</td>\n",
       "      <td>0.998730</td>\n",
       "      <td>0.991711</td>\n",
       "      <td>0.991601</td>\n",
       "      <td>0.993332</td>\n",
       "      <td>1.007129</td>\n",
       "      <td>0.996042</td>\n",
       "      <td>0.987818</td>\n",
       "    </tr>\n",
       "    <tr>\n",
       "      <th>2006-06-05</th>\n",
       "      <td>0.999476</td>\n",
       "      <td>1.006660</td>\n",
       "      <td>1.002630</td>\n",
       "      <td>0.993018</td>\n",
       "      <td>0.997331</td>\n",
       "      <td>0.998755</td>\n",
       "      <td>1.009268</td>\n",
       "      <td>0.993214</td>\n",
       "      <td>0.985973</td>\n",
       "    </tr>\n",
       "    <tr>\n",
       "      <th>2006-06-06</th>\n",
       "      <td>1.008750</td>\n",
       "      <td>0.999912</td>\n",
       "      <td>1.009705</td>\n",
       "      <td>0.999142</td>\n",
       "      <td>1.002949</td>\n",
       "      <td>1.006534</td>\n",
       "      <td>1.004812</td>\n",
       "      <td>1.000503</td>\n",
       "      <td>0.989664</td>\n",
       "    </tr>\n",
       "    <tr>\n",
       "      <th>2006-06-07</th>\n",
       "      <td>1.007404</td>\n",
       "      <td>0.995281</td>\n",
       "      <td>1.008617</td>\n",
       "      <td>1.000705</td>\n",
       "      <td>1.004946</td>\n",
       "      <td>1.008446</td>\n",
       "      <td>1.009268</td>\n",
       "      <td>0.996482</td>\n",
       "      <td>0.991141</td>\n",
       "    </tr>\n",
       "  </tbody>\n",
       "</table>\n",
       "</div>"
      ],
      "text/plain": [
       "               AUD=X     BRL=X     CAD=X     EUR=X     GBP=X     JPY=X  \\\n",
       "Date                                                                     \n",
       "2006-06-01  1.000000  1.000000  1.000000  1.000000  1.000000  1.000000   \n",
       "2006-06-02  0.995737  1.006660  0.998730  0.991711  0.991601  0.993332   \n",
       "2006-06-05  0.999476  1.006660  1.002630  0.993018  0.997331  0.998755   \n",
       "2006-06-06  1.008750  0.999912  1.009705  0.999142  1.002949  1.006534   \n",
       "2006-06-07  1.007404  0.995281  1.008617  1.000705  1.004946  1.008446   \n",
       "\n",
       "               MXN=X     NZD=X     RUB=X  \n",
       "Date                                      \n",
       "2006-06-01  1.000000  1.000000  1.000000  \n",
       "2006-06-02  1.007129  0.996042  0.987818  \n",
       "2006-06-05  1.009268  0.993214  0.985973  \n",
       "2006-06-06  1.004812  1.000503  0.989664  \n",
       "2006-06-07  1.009268  0.996482  0.991141  "
      ]
     },
     "execution_count": 75,
     "metadata": {},
     "output_type": "execute_result"
    }
   ],
   "source": [
    "cum_rates.head()"
   ]
  },
  {
   "cell_type": "markdown",
   "metadata": {},
   "source": [
    "Load Bloomberg currency data\n",
    "\n",
    "Note: trying to do this with Yahoo! Finance data above"
   ]
  },
  {
   "cell_type": "code",
   "execution_count": 49,
   "metadata": {
    "collapsed": false
   },
   "outputs": [],
   "source": [
    "levels = pd.read_excel('FX_data.xlsx', sheetname=0)\n",
    "#levels.head()"
   ]
  },
  {
   "cell_type": "code",
   "execution_count": 63,
   "metadata": {
    "collapsed": false
   },
   "outputs": [],
   "source": [
    "#levels.iloc[98:105,]"
   ]
  },
  {
   "cell_type": "code",
   "execution_count": 57,
   "metadata": {
    "collapsed": false
   },
   "outputs": [],
   "source": [
    "cum_levels = pd.read_excel('FX_data.xlsx', sheetname=1)\n",
    "#cum_levels.head()"
   ]
  },
  {
   "cell_type": "code",
   "execution_count": 76,
   "metadata": {
    "collapsed": false
   },
   "outputs": [],
   "source": [
    "#cum_levels.iloc[98:103,]"
   ]
  },
  {
   "cell_type": "code",
   "execution_count": 20,
   "metadata": {
    "collapsed": false
   },
   "outputs": [
    {
     "ename": "AttributeError",
     "evalue": "'module' object has no attribute 'subplots'",
     "output_type": "error",
     "traceback": [
      "\u001b[1;31m---------------------------------------------------------------------------\u001b[0m",
      "\u001b[1;31mAttributeError\u001b[0m                            Traceback (most recent call last)",
      "\u001b[1;32m<ipython-input-20-835778fba2a0>\u001b[0m in \u001b[0;36m<module>\u001b[1;34m()\u001b[0m\n\u001b[0;32m      3\u001b[0m \u001b[1;33m\u001b[0m\u001b[0m\n\u001b[0;32m      4\u001b[0m \u001b[0mcorrmat\u001b[0m \u001b[1;33m=\u001b[0m \u001b[0mlevels\u001b[0m\u001b[1;33m.\u001b[0m\u001b[0mcorr\u001b[0m\u001b[1;33m(\u001b[0m\u001b[1;33m)\u001b[0m\u001b[1;33m\u001b[0m\u001b[0m\n\u001b[1;32m----> 5\u001b[1;33m \u001b[0mf\u001b[0m\u001b[1;33m,\u001b[0m \u001b[0max\u001b[0m \u001b[1;33m=\u001b[0m \u001b[0mplt\u001b[0m\u001b[1;33m.\u001b[0m\u001b[0msubplots\u001b[0m\u001b[1;33m(\u001b[0m\u001b[0mfigsize\u001b[0m\u001b[1;33m=\u001b[0m\u001b[1;33m(\u001b[0m\u001b[1;36m12\u001b[0m\u001b[1;33m,\u001b[0m\u001b[1;36m9\u001b[0m\u001b[1;33m)\u001b[0m\u001b[1;33m)\u001b[0m\u001b[1;33m\u001b[0m\u001b[0m\n\u001b[0m\u001b[0;32m      6\u001b[0m \u001b[1;33m\u001b[0m\u001b[0m\n\u001b[0;32m      7\u001b[0m \u001b[1;31m# draw heatmap\u001b[0m\u001b[1;33m\u001b[0m\u001b[1;33m\u001b[0m\u001b[0m\n",
      "\u001b[1;31mAttributeError\u001b[0m: 'module' object has no attribute 'subplots'"
     ]
    }
   ],
   "source": [
    "import seaborn as sns\n",
    "sns.set(context=\"paper\", font=\"monospace\")\n",
    "\n",
    "corrmat = levels.corr()\n",
    "f, ax = plt.subplots(figsize=(12,9))\n",
    "\n",
    "# draw heatmap\n",
    "sns.heatmap(corrmat, vmax=0.8, square=True)"
   ]
  },
  {
   "cell_type": "code",
   "execution_count": 82,
   "metadata": {
    "collapsed": true
   },
   "outputs": [],
   "source": [
    "t = range(0,cum_rates.shape[0])"
   ]
  },
  {
   "cell_type": "code",
   "execution_count": 132,
   "metadata": {
    "collapsed": false
   },
   "outputs": [
    {
     "data": {
      "image/png": "[encoded data removed]",
      "text/plain": [
       "<matplotlib.figure.Figure at 0xde35d30>"
      ]
     },
     "metadata": {},
     "output_type": "display_data"
    }
   ],
   "source": [
    "plt.plot(figsize=[12,10])\n",
    "plt.plot(t,cum_rates.ix[:,0],'r',t,cum_rates.ix[:,1],'b',t,cum_rates.ix[:,2],'g',\n",
    "         t,cum_rates.ix[:,3],'c',t,cum_rates.ix[:,4],'m',t,cum_rates.ix[:,5],'o',\n",
    "         t,cum_rates.ix[:,6],'r',t,cum_rates.ix[:,7],'k',t,cum_rates.ix[:,8],'y')\n",
    "plt.show()"
   ]
  },
  {
   "cell_type": "code",
   "execution_count": 130,
   "metadata": {
    "collapsed": false
   },
   "outputs": [
    {
     "data": {
      "text/plain": [
       "Date\n",
       "2006-11-30    0.948396\n",
       "2006-12-01    0.944806\n",
       "2006-12-04    0.948097\n",
       "2006-12-05    0.950639\n",
       "2006-12-06    0.953182\n",
       "2006-12-07    0.948396\n",
       "2006-12-08    0.950565\n",
       "2006-12-11    0.951986\n",
       "2006-12-12    0.949592\n",
       "2006-12-13    0.950789\n",
       "2006-12-14    0.954304\n",
       "2006-12-15    0.954902\n",
       "2006-12-18    0.957146\n",
       "2006-12-19    0.952509\n",
       "2006-12-20    0.951612\n",
       "2006-12-21    0.953481\n",
       "2006-12-22    0.954528\n",
       "2006-12-25    0.163653\n",
       "2006-12-26    0.955650\n",
       "2006-12-27    0.952584\n",
       "Name: AUD=X, dtype: float64"
      ]
     },
     "execution_count": 130,
     "metadata": {},
     "output_type": "execute_result"
    }
   ],
   "source": [
    "cum_rates.ix[130:150,0]"
   ]
  },
  {
   "cell_type": "code",
   "execution_count": 131,
   "metadata": {
    "collapsed": false
   },
   "outputs": [
    {
     "data": {
      "text/plain": [
       "Date\n",
       "2006-11-30    1.26810\n",
       "2006-12-01    1.26330\n",
       "2006-12-04    1.26770\n",
       "2006-12-05    1.27110\n",
       "2006-12-06    1.27450\n",
       "2006-12-07    1.26810\n",
       "2006-12-08    1.27100\n",
       "2006-12-11    1.27290\n",
       "2006-12-12    1.26970\n",
       "2006-12-13    1.27130\n",
       "2006-12-14    1.27600\n",
       "2006-12-15    1.27680\n",
       "2006-12-18    1.27980\n",
       "2006-12-19    1.27360\n",
       "2006-12-20    1.27240\n",
       "2006-12-21    1.27490\n",
       "2006-12-22    1.27630\n",
       "2006-12-25    0.21882\n",
       "2006-12-26    1.27780\n",
       "2006-12-27    1.27370\n",
       "Name: AUD=X, dtype: float64"
      ]
     },
     "execution_count": 131,
     "metadata": {},
     "output_type": "execute_result"
    }
   ],
   "source": [
    "rates.ix[130:150,0]"
   ]
  },
  {
   "cell_type": "code",
   "execution_count": 204,
   "metadata": {
    "collapsed": false
   },
   "outputs": [
    {
     "data": {
      "image/png": "[encoded data removed]",
      "text/plain": [
       "<matplotlib.figure.Figure at 0x20cde550>"
      ]
     },
     "metadata": {},
     "output_type": "display_data"
    }
   ],
   "source": [
    "corrmat = rates.corr()\n",
    "# reference http://stackoverflow.com/questions/21071128/matplotlib-plot-numpy-matrix-as-0-index\n",
    "labels = ['AUD', 'BRL','CAD','EUR','GBP','JPY','MXN','NZD','RUB']\n",
    "column_labels, row_labels = labels, labels\n",
    "\n",
    "fig, ax = plt.subplots()\n",
    "plt.imshow(corrmat, interpolation='nearest', cmap=plt.cm.Blues)\n",
    "plt.colorbar()\n",
    "\n",
    "# Set tick marks in middle of cells\n",
    "ax.set_xticks(np.arange(corrmat.shape[0]), minor=False)\n",
    "ax.set_yticks(np.arange(corrmat.shape[1]), minor=False)\n",
    "\n",
    "ax.set_xticklabels(row_labels, minor=False)\n",
    "ax.set_yticklabels(column_labels, minor=False)\n",
    "plt.show()"
   ]
  },
  {
   "cell_type": "code",
   "execution_count": 198,
   "metadata": {
    "collapsed": false
   },
   "outputs": [
    {
     "data": {
      "text/plain": [
       "<function matplotlib.pyplot.show>"
      ]
     },
     "execution_count": 198,
     "metadata": {},
     "output_type": "execute_result"
    },
    {
     "data": {
      "image/png": "[encoded data removed]",
      "text/plain": [
       "<matplotlib.figure.Figure at 0x212c6240>"
      ]
     },
     "metadata": {},
     "output_type": "display_data"
    }
   ],
   "source": [
    "# Correlation heat map\n",
    "labels = ['AUD', 'BRL','CAD','EUR','GBP','JPY','MXN','NZD','RUB']\n",
    "column_labels, row_labels = labels, labels\n",
    "data = corrmat\n",
    "fig, ax = plt.subplots()\n",
    "heatmap = ax.pcolor(data, cmap=plt.cm.Blues)\n",
    "\n",
    "plt.imshow(data, cmap=plt.cm.Blues,\n",
    "          extent=(0,np.shape(corrmat)[0],0,np.shape(corrmat)[1]))\n",
    "plt.colorbar()\n",
    "\n",
    "# put the major ticks at the middle of each cell\n",
    "ax.set_xticks(np.arange(data.shape[0])+0.5, minor=False)\n",
    "ax.set_yticks(np.arange(data.shape[1])+0.5, minor=False)\n",
    "\n",
    "# want a more natural, table-like display\n",
    "#ax.invert_yaxis()\n",
    "#ax.xaxis.tick_top()\n",
    "\n",
    "ax.set_xticklabels(row_labels, minor=False)\n",
    "ax.set_yticklabels(column_labels, minor=False)\n",
    "plt.show"
   ]
  },
  {
   "cell_type": "code",
   "execution_count": 446,
   "metadata": {
    "collapsed": false
   },
   "outputs": [],
   "source": [
    "def cross_over(data, freq1, freq2):\n",
    "    # function to create a crossover trading signal with \n",
    "    # values -1 = sell, 0 = hold, 1 = buy\n",
    "    # INPUTS: data = vector, freq1 and freq2 should be integers\n",
    "    \n",
    "    #data = pd.Series(data)\n",
    "    # Show error message if freq1 = freq2\n",
    "    if freq1 == freq2:\n",
    "        print \"Error: freq1 and freq2 parameters cannot be equal. Please use different values.\" \n",
    "        return None\n",
    "      \n",
    "    slow = max(freq1, freq2)\n",
    "    fast = min(freq1, freq2)\n",
    "\n",
    "    # Create vectors for the respective moving averages \n",
    "    # Can I do this as fast_pst = fast_fwd = slow_fwd =[] or will this create dependency???\n",
    "    fast_pst = ([0]*slow)\n",
    "    fast_fwd = ([0]*slow)\n",
    "    slow_fwd = ([0]*slow)\n",
    "\n",
    "    # Create three vectors to test equality in signal creation\n",
    "    # NOTE: previously had nested if loop asking 'if date > slow:' but added condition into the range\n",
    "    for date in range(slow, len(data)):\n",
    "        fast_fwd.append(data.iloc[date-fast:date].mean())\n",
    "        fast_pst.append(fast_fwd[-2])\n",
    "        slow_fwd.append(data.iloc[date-slow:date].mean())\n",
    "\n",
    "    # Use inequality to create binary signal vector\n",
    "    buy_signal = ((pd.Series(fast_fwd)>pd.Series(slow_fwd)) & (pd.Series(slow_fwd)>pd.Series(fast_pst))).map({False: 0, True: 1})\n",
    "    sell_signal = ((pd.Series(fast_fwd)<pd.Series(slow_fwd)) & (pd.Series(slow_fwd)<pd.Series(fast_pst))).map({False: 0, True: -1})\n",
    "\n",
    "    signal = pd.Series(zip(buy_signal, sell_signal)).apply(lambda x: sum(x))\n",
    "    return signal    "
   ]
  },
  {
   "cell_type": "code",
   "execution_count": 450,
   "metadata": {
    "collapsed": false
   },
   "outputs": [
    {
     "data": {
      "text/plain": [
       "0     0\n",
       "1     0\n",
       "2     0\n",
       "3     0\n",
       "4     0\n",
       "5     0\n",
       "6     0\n",
       "7     0\n",
       "8     0\n",
       "9     0\n",
       "10    0\n",
       "11    0\n",
       "12    0\n",
       "13    0\n",
       "14    0\n",
       "15    0\n",
       "16    0\n",
       "17    0\n",
       "18    0\n",
       "19    0\n",
       "20    0\n",
       "21    0\n",
       "22    0\n",
       "23    0\n",
       "24    0\n",
       "25    0\n",
       "26    0\n",
       "27    0\n",
       "28    0\n",
       "29    0\n",
       "     ..\n",
       "70    0\n",
       "71    0\n",
       "72    0\n",
       "73    0\n",
       "74    0\n",
       "75    0\n",
       "76    0\n",
       "77    1\n",
       "78    0\n",
       "79    0\n",
       "80    0\n",
       "81    0\n",
       "82    0\n",
       "83    0\n",
       "84    0\n",
       "85    0\n",
       "86    0\n",
       "87    0\n",
       "88    0\n",
       "89    0\n",
       "90    0\n",
       "91    0\n",
       "92    0\n",
       "93    0\n",
       "94    0\n",
       "95    0\n",
       "96    0\n",
       "97    0\n",
       "98    0\n",
       "99    0\n",
       "dtype: int64"
      ]
     },
     "execution_count": 450,
     "metadata": {},
     "output_type": "execute_result"
    }
   ],
   "source": [
    "signal = cross_over(rates.iloc[:,0],10,50)\n",
    "signal[:100]"
   ]
  },
  {
   "cell_type": "code",
   "execution_count": 441,
   "metadata": {
    "collapsed": false
   },
   "outputs": [
    {
     "name": "stdout",
     "output_type": "stream",
     "text": [
      "20 5\n",
      "0     0\n",
      "1     0\n",
      "2     0\n",
      "3     0\n",
      "4     0\n",
      "5     0\n",
      "6     0\n",
      "7     0\n",
      "8     0\n",
      "9     0\n",
      "10    0\n",
      "11    0\n",
      "12    0\n",
      "13    0\n",
      "14    0\n",
      "15    0\n",
      "16    0\n",
      "17    0\n",
      "18    0\n",
      "19    0\n",
      "20    1\n",
      "21    0\n",
      "22    0\n",
      "23    0\n",
      "24   -1\n",
      "25    0\n",
      "26    0\n",
      "27    0\n",
      "28    0\n",
      "29    0\n",
      "     ..\n",
      "70    0\n",
      "71    0\n",
      "72    0\n",
      "73    1\n",
      "74    0\n",
      "75    0\n",
      "76    0\n",
      "77    0\n",
      "78    0\n",
      "79    0\n",
      "80    0\n",
      "81    0\n",
      "82    0\n",
      "83    0\n",
      "84    0\n",
      "85    0\n",
      "86    0\n",
      "87    0\n",
      "88    0\n",
      "89    0\n",
      "90    0\n",
      "91    0\n",
      "92    0\n",
      "93    0\n",
      "94    0\n",
      "95    0\n",
      "96    0\n",
      "97    0\n",
      "98    0\n",
      "99   -1\n",
      "dtype: int64\n"
     ]
    }
   ],
   "source": [
    "data = rates.iloc[:100,0]\n",
    "freq1 = 5\n",
    "freq2 = 20\n",
    "\n",
    "if freq1 == freq2:\n",
    "    print \"Error: freq1 and freq2 parameters cannot be equal. Please use different values.\" \n",
    "#    return None\n",
    "\n",
    "slow = max(freq1,freq2)\n",
    "fast = min(freq1,freq2)\n",
    "\n",
    "# Create empty lists for the respective moving averages - does this create dependency?\n",
    "fast_pst = ([0]*slow)\n",
    "fast_fwd = ([0]*slow)\n",
    "slow_fwd = ([0]*slow)\n",
    "\n",
    "print slow, fast\n",
    "\n",
    "for date in range(slow, len(data)):\n",
    "    fast_fwd.append(data.iloc[date-fast:date].mean())\n",
    "    fast_pst.append(fast_fwd[-2])\n",
    "    slow_fwd.append(data.iloc[date-slow:date].mean())\n",
    "    \n",
    "buy_signal = ((pd.Series(fast_fwd)>pd.Series(slow_fwd)) & (pd.Series(slow_fwd)>pd.Series(fast_pst))).map({False: 0, True: 1})\n",
    "sell_signal = ((pd.Series(fast_fwd)<pd.Series(slow_fwd)) & (pd.Series(slow_fwd)<pd.Series(fast_pst))).map({False: 0, True: -1})\n",
    "\n",
    "signal = pd.Series(zip(buy_signal, sell_signal)).apply(lambda x: sum(x))\n",
    "print signal\n",
    "    "
   ]
  },
  {
   "cell_type": "code",
   "execution_count": 437,
   "metadata": {
    "collapsed": false
   },
   "outputs": [
    {
     "data": {
      "text/plain": [
       "True"
      ]
     },
     "execution_count": 437,
     "metadata": {},
     "output_type": "execute_result"
    }
   ],
   "source": [
    "(fast_fwd) > (slow_fwd) #& (pd.Series(slow_fwd)>pd.Series(fast_pst))).map({False: 0, True: 1})\n",
    "#print len(slow_fwd)\n",
    "#print len(slow_fwd)"
   ]
  },
  {
   "cell_type": "code",
   "execution_count": 438,
   "metadata": {
    "collapsed": false
   },
   "outputs": [
    {
     "data": {
      "text/plain": [
       "[0,\n",
       " 0,\n",
       " 0,\n",
       " 0,\n",
       " 0,\n",
       " 0,\n",
       " 0,\n",
       " 0,\n",
       " 0,\n",
       " 0,\n",
       " 0,\n",
       " 0,\n",
       " 0,\n",
       " 0,\n",
       " 0,\n",
       " 0,\n",
       " 0,\n",
       " 0,\n",
       " 0,\n",
       " 0,\n",
       " 1.36634,\n",
       " 1.3642,\n",
       " 1.3602400000000001,\n",
       " 1.3566200000000002,\n",
       " 1.3522000000000003,\n",
       " 1.34746,\n",
       " 1.34518,\n",
       " 1.3418800000000002,\n",
       " 1.3402200000000002,\n",
       " 1.3370600000000001,\n",
       " 1.33316,\n",
       " 1.3303600000000002,\n",
       " 1.32948,\n",
       " 1.3293,\n",
       " 1.33132,\n",
       " 1.3321,\n",
       " 1.33316,\n",
       " 1.33326,\n",
       " 1.33124,\n",
       " 1.3289199999999999,\n",
       " 1.32534,\n",
       " 1.32104,\n",
       " 1.3167199999999997,\n",
       " 1.31246,\n",
       " 1.3084799999999999,\n",
       " 1.30718,\n",
       " 1.30776,\n",
       " 1.3081399999999999,\n",
       " 1.3089799999999998,\n",
       " 1.31142,\n",
       " 1.31098,\n",
       " 1.3084799999999999,\n",
       " 1.3080399999999999,\n",
       " 1.30922,\n",
       " 1.3067,\n",
       " 1.3057,\n",
       " 1.3079999999999998,\n",
       " 1.3101800000000001,\n",
       " 1.3093400000000002,\n",
       " 1.3102800000000001,\n",
       " 1.3125,\n",
       " 1.31266,\n",
       " 1.31356,\n",
       " 1.3145399999999998,\n",
       " 1.3140800000000001,\n",
       " 1.3134599999999998,\n",
       " 1.31278,\n",
       " 1.30956,\n",
       " 1.3057,\n",
       " 1.3035400000000001,\n",
       " 1.3024799999999999,\n",
       " 1.3041399999999999,\n",
       " 1.30866,\n",
       " 1.31568,\n",
       " 1.32202,\n",
       " 1.32684,\n",
       " 1.3283,\n",
       " 1.32898,\n",
       " 1.32722,\n",
       " 1.3272,\n",
       " 1.32742,\n",
       " 1.32638,\n",
       " 1.32652,\n",
       " 1.32728,\n",
       " 1.32742,\n",
       " 1.3279800000000002,\n",
       " 1.3309799999999998,\n",
       " 1.3329,\n",
       " 1.33472,\n",
       " 1.33772,\n",
       " 1.33964,\n",
       " 1.34068,\n",
       " 1.34162,\n",
       " 1.34304,\n",
       " 1.34282,\n",
       " 1.34406,\n",
       " 1.34208,\n",
       " 1.33954,\n",
       " 1.3363,\n",
       " 1.3328]"
      ]
     },
     "execution_count": 438,
     "metadata": {},
     "output_type": "execute_result"
    }
   ],
   "source": [
    "fast_fwd"
   ]
  },
  {
   "cell_type": "code",
   "execution_count": 419,
   "metadata": {
    "collapsed": false
   },
   "outputs": [
    {
     "data": {
      "text/plain": [
       "0     False\n",
       "1     False\n",
       "2     False\n",
       "3     False\n",
       "4     False\n",
       "5     False\n",
       "6     False\n",
       "7     False\n",
       "8     False\n",
       "9     False\n",
       "10    False\n",
       "11    False\n",
       "12    False\n",
       "13    False\n",
       "14    False\n",
       "15    False\n",
       "16    False\n",
       "17    False\n",
       "18    False\n",
       "19    False\n",
       "20     True\n",
       "21     True\n",
       "22     True\n",
       "23     True\n",
       "24    False\n",
       "25    False\n",
       "26    False\n",
       "27    False\n",
       "28    False\n",
       "29    False\n",
       "      ...  \n",
       "70    False\n",
       "71    False\n",
       "72    False\n",
       "73     True\n",
       "74     True\n",
       "75     True\n",
       "76     True\n",
       "77     True\n",
       "78     True\n",
       "79     True\n",
       "80     True\n",
       "81     True\n",
       "82     True\n",
       "83     True\n",
       "84     True\n",
       "85     True\n",
       "86     True\n",
       "87     True\n",
       "88     True\n",
       "89     True\n",
       "90     True\n",
       "91     True\n",
       "92     True\n",
       "93     True\n",
       "94     True\n",
       "95     True\n",
       "96     True\n",
       "97     True\n",
       "98     True\n",
       "99    False\n",
       "dtype: bool"
      ]
     },
     "execution_count": 419,
     "metadata": {},
     "output_type": "execute_result"
    }
   ],
   "source": [
    "pd.Series(fast_fwd) > pd.Series(slow_fwd)"
   ]
  },
  {
   "cell_type": "code",
   "execution_count": 375,
   "metadata": {
    "collapsed": false
   },
   "outputs": [
    {
     "data": {
      "text/plain": [
       "Date\n",
       "2006-06-01    1.3371\n",
       "2006-06-02    1.3314\n",
       "2006-06-05    1.3364\n",
       "2006-06-06    1.3488\n",
       "2006-06-07    1.3470\n",
       "2006-06-08    1.3466\n",
       "2006-06-09    1.3324\n",
       "2006-06-12    1.3470\n",
       "2006-06-13    1.3557\n",
       "2006-06-14    1.3554\n",
       "Name: AUD=X, dtype: float64"
      ]
     },
     "execution_count": 375,
     "metadata": {},
     "output_type": "execute_result"
    }
   ],
   "source": [
    "data.iloc[date-fast:date]"
   ]
  },
  {
   "cell_type": "code",
   "execution_count": 291,
   "metadata": {
    "collapsed": false
   },
   "outputs": [
    {
     "name": "stdout",
     "output_type": "stream",
     "text": [
      "0    0\n",
      "1    0\n",
      "2    1\n",
      "3    0\n",
      "4    0\n",
      "5   -1\n",
      "dtype: int64\n"
     ]
    }
   ],
   "source": [
    "## Example for creting the signal\n",
    "fast_fwd = pd.Series([1,3,5,6,5,4])\n",
    "fast_pst = pd.Series([0,1,3,5,6,5])\n",
    "slow =     pd.Series([1,3,4,4,4,4.5])\n",
    "\n",
    "# Use inequality to create binary signal vector\n",
    "buy_signal = pd.Series((fast_fwd>slow) & (slow>fast_pst)).map({False: 0, True: 1})\n",
    "sell_signal = pd.Series((fast_fwd<slow) & (slow<fast_pst)).map({False: 0, True: -1})\n",
    "\n",
    "signal = pd.Series(zip(buy_signal, sell_signal)).apply(lambda x: sum(x))\n",
    "\n",
    "print signal"
   ]
  },
  {
   "cell_type": "code",
   "execution_count": 285,
   "metadata": {
    "collapsed": true
   },
   "outputs": [],
   "source": [
    "fast_fwd = pd.Series([1,3,5,6,5,4])\n",
    "slow =     pd.Series([1,3,4,4,4,4.5])\n",
    "fast_pst = pd.Series([0,1,3,5,6,5])"
   ]
  },
  {
   "cell_type": "code",
   "execution_count": 284,
   "metadata": {
    "collapsed": false
   },
   "outputs": [
    {
     "data": {
      "text/plain": [
       "0    False\n",
       "1    False\n",
       "2     True\n",
       "3    False\n",
       "4    False\n",
       "5    False\n",
       "dtype: bool"
      ]
     },
     "execution_count": 284,
     "metadata": {},
     "output_type": "execute_result"
    }
   ],
   "source": [
    "signal"
   ]
  },
  {
   "cell_type": "code",
   "execution_count": 222,
   "metadata": {
    "collapsed": false
   },
   "outputs": [
    {
     "data": {
      "text/html": [
       "<div>\n",
       "<table border=\"1\" class=\"dataframe\">\n",
       "  <thead>\n",
       "    <tr style=\"text-align: right;\">\n",
       "      <th></th>\n",
       "      <th>AUD=X</th>\n",
       "      <th>BRL=X</th>\n",
       "      <th>CAD=X</th>\n",
       "      <th>EUR=X</th>\n",
       "      <th>GBP=X</th>\n",
       "      <th>JPY=X</th>\n",
       "      <th>MXN=X</th>\n",
       "      <th>NZD=X</th>\n",
       "      <th>RUB=X</th>\n",
       "    </tr>\n",
       "  </thead>\n",
       "  <tbody>\n",
       "    <tr>\n",
       "      <th>AUD=X</th>\n",
       "      <td>1.000000</td>\n",
       "      <td>0.599684</td>\n",
       "      <td>0.859534</td>\n",
       "      <td>0.456079</td>\n",
       "      <td>0.051430</td>\n",
       "      <td>0.630243</td>\n",
       "      <td>0.340065</td>\n",
       "      <td>0.848330</td>\n",
       "      <td>0.399152</td>\n",
       "    </tr>\n",
       "    <tr>\n",
       "      <th>BRL=X</th>\n",
       "      <td>0.599684</td>\n",
       "      <td>1.000000</td>\n",
       "      <td>0.859098</td>\n",
       "      <td>0.826392</td>\n",
       "      <td>0.335809</td>\n",
       "      <td>0.593849</td>\n",
       "      <td>0.787613</td>\n",
       "      <td>0.276394</td>\n",
       "      <td>0.888988</td>\n",
       "    </tr>\n",
       "    <tr>\n",
       "      <th>CAD=X</th>\n",
       "      <td>0.859534</td>\n",
       "      <td>0.859098</td>\n",
       "      <td>1.000000</td>\n",
       "      <td>0.702546</td>\n",
       "      <td>0.269251</td>\n",
       "      <td>0.627139</td>\n",
       "      <td>0.659784</td>\n",
       "      <td>0.625787</td>\n",
       "      <td>0.735863</td>\n",
       "    </tr>\n",
       "    <tr>\n",
       "      <th>EUR=X</th>\n",
       "      <td>0.456079</td>\n",
       "      <td>0.826392</td>\n",
       "      <td>0.702546</td>\n",
       "      <td>1.000000</td>\n",
       "      <td>0.494575</td>\n",
       "      <td>0.384598</td>\n",
       "      <td>0.745468</td>\n",
       "      <td>0.245687</td>\n",
       "      <td>0.809361</td>\n",
       "    </tr>\n",
       "    <tr>\n",
       "      <th>GBP=X</th>\n",
       "      <td>0.051430</td>\n",
       "      <td>0.335809</td>\n",
       "      <td>0.269251</td>\n",
       "      <td>0.494575</td>\n",
       "      <td>1.000000</td>\n",
       "      <td>-0.407103</td>\n",
       "      <td>0.758858</td>\n",
       "      <td>0.147749</td>\n",
       "      <td>0.495122</td>\n",
       "    </tr>\n",
       "    <tr>\n",
       "      <th>JPY=X</th>\n",
       "      <td>0.630243</td>\n",
       "      <td>0.593849</td>\n",
       "      <td>0.627139</td>\n",
       "      <td>0.384598</td>\n",
       "      <td>-0.407103</td>\n",
       "      <td>1.000000</td>\n",
       "      <td>0.065789</td>\n",
       "      <td>0.250794</td>\n",
       "      <td>0.409340</td>\n",
       "    </tr>\n",
       "    <tr>\n",
       "      <th>MXN=X</th>\n",
       "      <td>0.340065</td>\n",
       "      <td>0.787613</td>\n",
       "      <td>0.659784</td>\n",
       "      <td>0.745468</td>\n",
       "      <td>0.758858</td>\n",
       "      <td>0.065789</td>\n",
       "      <td>1.000000</td>\n",
       "      <td>0.202828</td>\n",
       "      <td>0.867021</td>\n",
       "    </tr>\n",
       "    <tr>\n",
       "      <th>NZD=X</th>\n",
       "      <td>0.848330</td>\n",
       "      <td>0.276394</td>\n",
       "      <td>0.625787</td>\n",
       "      <td>0.245687</td>\n",
       "      <td>0.147749</td>\n",
       "      <td>0.250794</td>\n",
       "      <td>0.202828</td>\n",
       "      <td>1.000000</td>\n",
       "      <td>0.126750</td>\n",
       "    </tr>\n",
       "    <tr>\n",
       "      <th>RUB=X</th>\n",
       "      <td>0.399152</td>\n",
       "      <td>0.888988</td>\n",
       "      <td>0.735863</td>\n",
       "      <td>0.809361</td>\n",
       "      <td>0.495122</td>\n",
       "      <td>0.409340</td>\n",
       "      <td>0.867021</td>\n",
       "      <td>0.126750</td>\n",
       "      <td>1.000000</td>\n",
       "    </tr>\n",
       "  </tbody>\n",
       "</table>\n",
       "</div>"
      ],
      "text/plain": [
       "          AUD=X     BRL=X     CAD=X     EUR=X     GBP=X     JPY=X     MXN=X  \\\n",
       "AUD=X  1.000000  0.599684  0.859534  0.456079  0.051430  0.630243  0.340065   \n",
       "BRL=X  0.599684  1.000000  0.859098  0.826392  0.335809  0.593849  0.787613   \n",
       "CAD=X  0.859534  0.859098  1.000000  0.702546  0.269251  0.627139  0.659784   \n",
       "EUR=X  0.456079  0.826392  0.702546  1.000000  0.494575  0.384598  0.745468   \n",
       "GBP=X  0.051430  0.335809  0.269251  0.494575  1.000000 -0.407103  0.758858   \n",
       "JPY=X  0.630243  0.593849  0.627139  0.384598 -0.407103  1.000000  0.065789   \n",
       "MXN=X  0.340065  0.787613  0.659784  0.745468  0.758858  0.065789  1.000000   \n",
       "NZD=X  0.848330  0.276394  0.625787  0.245687  0.147749  0.250794  0.202828   \n",
       "RUB=X  0.399152  0.888988  0.735863  0.809361  0.495122  0.409340  0.867021   \n",
       "\n",
       "          NZD=X     RUB=X  \n",
       "AUD=X  0.848330  0.399152  \n",
       "BRL=X  0.276394  0.888988  \n",
       "CAD=X  0.625787  0.735863  \n",
       "EUR=X  0.245687  0.809361  \n",
       "GBP=X  0.147749  0.495122  \n",
       "JPY=X  0.250794  0.409340  \n",
       "MXN=X  0.202828  0.867021  \n",
       "NZD=X  1.000000  0.126750  \n",
       "RUB=X  0.126750  1.000000  "
      ]
     },
     "execution_count": 222,
     "metadata": {},
     "output_type": "execute_result"
    }
   ],
   "source": [
    "data"
   ]
  },
  {
   "cell_type": "code",
   "execution_count": null,
   "metadata": {
    "collapsed": true
   },
   "outputs": [],
   "source": []
  }
 ],
 "metadata": {
  "kernelspec": {
   "display_name": "Python 2",
   "language": "python",
   "name": "python2"
  },
  "language_info": {
   "codemirror_mode": {
    "name": "ipython",
    "version": 2
   },
   "file_extension": ".py",
   "mimetype": "text/x-python",
   "name": "python",
   "nbconvert_exporter": "python",
   "pygments_lexer": "ipython2",
   "version": "2.7.11"
  }
 },
 "nbformat": 4,
 "nbformat_minor": 0
}
