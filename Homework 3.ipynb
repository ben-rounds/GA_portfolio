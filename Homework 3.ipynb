{
 "cells": [
  {
   "cell_type": "markdown",
   "metadata": {},
   "source": [
    "# Homework 3: Unsupervised Learning"
   ]
  },
  {
   "cell_type": "markdown",
   "metadata": {},
   "source": [
    "**Give an overall summary of perfomance from Homework 2**"
   ]
  },
  {
   "cell_type": "markdown",
   "metadata": {},
   "source": [
    "Prediction accuracy of the various learning algorithms employed in Homework 2 seemed to hover between 70% and 80%. While other measures of performance would likely demonstrate different and potentially better suited evaluations, I relied on prediction accuracy. \n",
    "\n",
    "I thus evaluated the best suited classifier on raw prediction accuracy, run-time, and interpretability. In terms of raw prediction accuracy, variability in the regard was rather muted, with the trained algorithms all providing prediction accuracy within the 75% range +/- 5%. Given the low variability, this led me to put a greater emphasis on interpretability, as the run-time in this example - while divergent across algorithms - was less a concern given the managable size of the dataset. With interpretability in mind, I chose a nearest neighbors algorithm fit with a smaller number of neighbors (relative to other tested parameters) as to compromise between acceptable accuracy, run-time, and easy understanding. "
   ]
  },
  {
   "cell_type": "markdown",
   "metadata": {},
   "source": [
    "**Do you see any areas for improvement?**"
   ]
  },
  {
   "cell_type": "markdown",
   "metadata": {},
   "source": [
    "As noted throughout my submission for Homework 2, I saw potential areas of improvement in the realms of feature engineering as well as the employment of alternative measures of success - e.g. precision, recall. Utilizing clustering here will provide serious headway into the feature engineering, while I have also employed the alternative measures of prediction success below.\n",
    "\n",
    "There are also potential improvements to be made by employing feature reduction, as several of the features symptomatic of being overweight appeared correlated in the previous homework."
   ]
  },
  {
   "cell_type": "markdown",
   "metadata": {},
   "source": [
    "**Run k-Means on the dataset and describe your results**"
   ]
  },
  {
   "cell_type": "code",
   "execution_count": 1,
   "metadata": {
    "collapsed": true
   },
   "outputs": [],
   "source": [
    "import pandas as pd\n",
    "import numpy as np\n",
    "from sklearn.preprocessing import StandardScaler\n",
    "from sklearn.cluster import KMeans\n",
    "from sklearn.neighbors import KNeighborsClassifier\n",
    "from sklearn.grid_search import GridSearchCV\n",
    "from sklearn.cross_validation import train_test_split, ShuffleSplit\n",
    "from sklearn.metrics import silhouette_score\n",
    "from sklearn.metrics import precision_recall_fscore_support\n",
    "from sklearn.svm import SVC\n",
    "import matplotlib.pyplot as plt\n",
    "from sklearn.decomposition import PCA\n",
    "%matplotlib inline"
   ]
  },
  {
   "cell_type": "code",
   "execution_count": 2,
   "metadata": {
    "collapsed": false
   },
   "outputs": [
    {
     "data": {
      "text/html": [
       "<div>\n",
       "<table border=\"1\" class=\"dataframe\">\n",
       "  <thead>\n",
       "    <tr style=\"text-align: right;\">\n",
       "      <th></th>\n",
       "      <th>preg</th>\n",
       "      <th>plas</th>\n",
       "      <th>pres</th>\n",
       "      <th>skin</th>\n",
       "      <th>insu</th>\n",
       "      <th>mass</th>\n",
       "      <th>pedi</th>\n",
       "      <th>age</th>\n",
       "      <th>class</th>\n",
       "    </tr>\n",
       "  </thead>\n",
       "  <tbody>\n",
       "    <tr>\n",
       "      <th>0</th>\n",
       "      <td>6</td>\n",
       "      <td>148</td>\n",
       "      <td>72</td>\n",
       "      <td>35</td>\n",
       "      <td>0</td>\n",
       "      <td>33.6</td>\n",
       "      <td>0.627</td>\n",
       "      <td>50</td>\n",
       "      <td>1</td>\n",
       "    </tr>\n",
       "    <tr>\n",
       "      <th>1</th>\n",
       "      <td>1</td>\n",
       "      <td>85</td>\n",
       "      <td>66</td>\n",
       "      <td>29</td>\n",
       "      <td>0</td>\n",
       "      <td>26.6</td>\n",
       "      <td>0.351</td>\n",
       "      <td>31</td>\n",
       "      <td>0</td>\n",
       "    </tr>\n",
       "    <tr>\n",
       "      <th>2</th>\n",
       "      <td>8</td>\n",
       "      <td>183</td>\n",
       "      <td>64</td>\n",
       "      <td>0</td>\n",
       "      <td>0</td>\n",
       "      <td>23.3</td>\n",
       "      <td>0.672</td>\n",
       "      <td>32</td>\n",
       "      <td>1</td>\n",
       "    </tr>\n",
       "    <tr>\n",
       "      <th>3</th>\n",
       "      <td>1</td>\n",
       "      <td>89</td>\n",
       "      <td>66</td>\n",
       "      <td>23</td>\n",
       "      <td>94</td>\n",
       "      <td>28.1</td>\n",
       "      <td>0.167</td>\n",
       "      <td>21</td>\n",
       "      <td>0</td>\n",
       "    </tr>\n",
       "    <tr>\n",
       "      <th>4</th>\n",
       "      <td>0</td>\n",
       "      <td>137</td>\n",
       "      <td>40</td>\n",
       "      <td>35</td>\n",
       "      <td>168</td>\n",
       "      <td>43.1</td>\n",
       "      <td>2.288</td>\n",
       "      <td>33</td>\n",
       "      <td>1</td>\n",
       "    </tr>\n",
       "  </tbody>\n",
       "</table>\n",
       "</div>"
      ],
      "text/plain": [
       "   preg  plas  pres  skin  insu  mass   pedi  age  class\n",
       "0     6   148    72    35     0  33.6  0.627   50      1\n",
       "1     1    85    66    29     0  26.6  0.351   31      0\n",
       "2     8   183    64     0     0  23.3  0.672   32      1\n",
       "3     1    89    66    23    94  28.1  0.167   21      0\n",
       "4     0   137    40    35   168  43.1  2.288   33      1"
      ]
     },
     "execution_count": 2,
     "metadata": {},
     "output_type": "execute_result"
    }
   ],
   "source": [
    "# Load data from URL\n",
    "data = pd.read_csv('https://archive.ics.uci.edu/ml/machine-learning-databases/pima-indians-diabetes/pima-indians-diabetes.data',\n",
    "                    sep = \",\", header = None)\n",
    "\n",
    "colnames =  ['preg', 'plas', 'pres', 'skin', 'insu', 'mass', 'pedi', 'age', 'class']\n",
    "data.columns = colnames\n",
    "data.head()"
   ]
  },
  {
   "cell_type": "code",
   "execution_count": 3,
   "metadata": {
    "collapsed": false
   },
   "outputs": [
    {
     "name": "stdout",
     "output_type": "stream",
     "text": [
      "(768, 9)\n",
      "<class 'pandas.core.frame.DataFrame'>\n",
      "Int64Index: 768 entries, 0 to 767\n",
      "Data columns (total 9 columns):\n",
      "preg     768 non-null int64\n",
      "plas     768 non-null int64\n",
      "pres     768 non-null int64\n",
      "skin     768 non-null int64\n",
      "insu     768 non-null int64\n",
      "mass     768 non-null float64\n",
      "pedi     768 non-null float64\n",
      "age      768 non-null int64\n",
      "class    768 non-null int64\n",
      "dtypes: float64(2), int64(7)\n",
      "memory usage: 60.0 KB\n"
     ]
    }
   ],
   "source": [
    "print data.shape\n",
    "data.info()"
   ]
  },
  {
   "cell_type": "code",
   "execution_count": 138,
   "metadata": {
    "collapsed": false
   },
   "outputs": [],
   "source": [
    "# UPDATE: removed due to error using categorical test variable in GNB\n",
    "# convert class to a categorical\n",
    "#data['class'] = pd.Categorical(data['class'])\n",
    "#data.info()"
   ]
  },
  {
   "cell_type": "code",
   "execution_count": 4,
   "metadata": {
    "collapsed": false
   },
   "outputs": [
    {
     "data": {
      "text/html": [
       "<div>\n",
       "<table border=\"1\" class=\"dataframe\">\n",
       "  <thead>\n",
       "    <tr style=\"text-align: right;\">\n",
       "      <th></th>\n",
       "      <th>preg</th>\n",
       "      <th>plas</th>\n",
       "      <th>pres</th>\n",
       "      <th>skin</th>\n",
       "      <th>insu</th>\n",
       "      <th>mass</th>\n",
       "      <th>pedi</th>\n",
       "      <th>age</th>\n",
       "      <th>class</th>\n",
       "    </tr>\n",
       "  </thead>\n",
       "  <tbody>\n",
       "    <tr>\n",
       "      <th>count</th>\n",
       "      <td>768.000000</td>\n",
       "      <td>768.000000</td>\n",
       "      <td>768.000000</td>\n",
       "      <td>768.000000</td>\n",
       "      <td>768.000000</td>\n",
       "      <td>768.000000</td>\n",
       "      <td>768.000000</td>\n",
       "      <td>768.000000</td>\n",
       "      <td>768.000000</td>\n",
       "    </tr>\n",
       "    <tr>\n",
       "      <th>mean</th>\n",
       "      <td>3.845052</td>\n",
       "      <td>120.894531</td>\n",
       "      <td>69.105469</td>\n",
       "      <td>20.536458</td>\n",
       "      <td>79.799479</td>\n",
       "      <td>31.992578</td>\n",
       "      <td>0.471876</td>\n",
       "      <td>33.240885</td>\n",
       "      <td>0.348958</td>\n",
       "    </tr>\n",
       "    <tr>\n",
       "      <th>std</th>\n",
       "      <td>3.369578</td>\n",
       "      <td>31.972618</td>\n",
       "      <td>19.355807</td>\n",
       "      <td>15.952218</td>\n",
       "      <td>115.244002</td>\n",
       "      <td>7.884160</td>\n",
       "      <td>0.331329</td>\n",
       "      <td>11.760232</td>\n",
       "      <td>0.476951</td>\n",
       "    </tr>\n",
       "    <tr>\n",
       "      <th>min</th>\n",
       "      <td>0.000000</td>\n",
       "      <td>0.000000</td>\n",
       "      <td>0.000000</td>\n",
       "      <td>0.000000</td>\n",
       "      <td>0.000000</td>\n",
       "      <td>0.000000</td>\n",
       "      <td>0.078000</td>\n",
       "      <td>21.000000</td>\n",
       "      <td>0.000000</td>\n",
       "    </tr>\n",
       "    <tr>\n",
       "      <th>25%</th>\n",
       "      <td>1.000000</td>\n",
       "      <td>99.000000</td>\n",
       "      <td>62.000000</td>\n",
       "      <td>0.000000</td>\n",
       "      <td>0.000000</td>\n",
       "      <td>27.300000</td>\n",
       "      <td>0.243750</td>\n",
       "      <td>24.000000</td>\n",
       "      <td>0.000000</td>\n",
       "    </tr>\n",
       "    <tr>\n",
       "      <th>50%</th>\n",
       "      <td>3.000000</td>\n",
       "      <td>117.000000</td>\n",
       "      <td>72.000000</td>\n",
       "      <td>23.000000</td>\n",
       "      <td>30.500000</td>\n",
       "      <td>32.000000</td>\n",
       "      <td>0.372500</td>\n",
       "      <td>29.000000</td>\n",
       "      <td>0.000000</td>\n",
       "    </tr>\n",
       "    <tr>\n",
       "      <th>75%</th>\n",
       "      <td>6.000000</td>\n",
       "      <td>140.250000</td>\n",
       "      <td>80.000000</td>\n",
       "      <td>32.000000</td>\n",
       "      <td>127.250000</td>\n",
       "      <td>36.600000</td>\n",
       "      <td>0.626250</td>\n",
       "      <td>41.000000</td>\n",
       "      <td>1.000000</td>\n",
       "    </tr>\n",
       "    <tr>\n",
       "      <th>max</th>\n",
       "      <td>17.000000</td>\n",
       "      <td>199.000000</td>\n",
       "      <td>122.000000</td>\n",
       "      <td>99.000000</td>\n",
       "      <td>846.000000</td>\n",
       "      <td>67.100000</td>\n",
       "      <td>2.420000</td>\n",
       "      <td>81.000000</td>\n",
       "      <td>1.000000</td>\n",
       "    </tr>\n",
       "  </tbody>\n",
       "</table>\n",
       "</div>"
      ],
      "text/plain": [
       "             preg        plas        pres        skin        insu        mass  \\\n",
       "count  768.000000  768.000000  768.000000  768.000000  768.000000  768.000000   \n",
       "mean     3.845052  120.894531   69.105469   20.536458   79.799479   31.992578   \n",
       "std      3.369578   31.972618   19.355807   15.952218  115.244002    7.884160   \n",
       "min      0.000000    0.000000    0.000000    0.000000    0.000000    0.000000   \n",
       "25%      1.000000   99.000000   62.000000    0.000000    0.000000   27.300000   \n",
       "50%      3.000000  117.000000   72.000000   23.000000   30.500000   32.000000   \n",
       "75%      6.000000  140.250000   80.000000   32.000000  127.250000   36.600000   \n",
       "max     17.000000  199.000000  122.000000   99.000000  846.000000   67.100000   \n",
       "\n",
       "             pedi         age       class  \n",
       "count  768.000000  768.000000  768.000000  \n",
       "mean     0.471876   33.240885    0.348958  \n",
       "std      0.331329   11.760232    0.476951  \n",
       "min      0.078000   21.000000    0.000000  \n",
       "25%      0.243750   24.000000    0.000000  \n",
       "50%      0.372500   29.000000    0.000000  \n",
       "75%      0.626250   41.000000    1.000000  \n",
       "max      2.420000   81.000000    1.000000  "
      ]
     },
     "execution_count": 4,
     "metadata": {},
     "output_type": "execute_result"
    }
   ],
   "source": [
    "data.describe()"
   ]
  },
  {
   "cell_type": "code",
   "execution_count": 5,
   "metadata": {
    "collapsed": true
   },
   "outputs": [],
   "source": [
    "# As in Homework 2, impute missing data with median values\n",
    "medians = data.apply(lambda col: col.median(), axis=0)\n",
    "data_clean = data.copy()\n",
    "\n",
    "missing_col = ['plas', 'pres', 'skin', 'insu', 'mass']\n",
    "for col in missing_col:\n",
    "    filler = data[col].replace(0,medians[col])\n",
    "    data_clean[col] = filler"
   ]
  },
  {
   "cell_type": "code",
   "execution_count": 6,
   "metadata": {
    "collapsed": false
   },
   "outputs": [
    {
     "data": {
      "text/html": [
       "<div>\n",
       "<table border=\"1\" class=\"dataframe\">\n",
       "  <thead>\n",
       "    <tr style=\"text-align: right;\">\n",
       "      <th></th>\n",
       "      <th>preg</th>\n",
       "      <th>plas</th>\n",
       "      <th>pres</th>\n",
       "      <th>skin</th>\n",
       "      <th>insu</th>\n",
       "      <th>mass</th>\n",
       "      <th>pedi</th>\n",
       "      <th>age</th>\n",
       "      <th>class</th>\n",
       "    </tr>\n",
       "  </thead>\n",
       "  <tbody>\n",
       "    <tr>\n",
       "      <th>count</th>\n",
       "      <td>768.000000</td>\n",
       "      <td>768.000000</td>\n",
       "      <td>768.000000</td>\n",
       "      <td>768.000000</td>\n",
       "      <td>768.000000</td>\n",
       "      <td>768.000000</td>\n",
       "      <td>768.000000</td>\n",
       "      <td>768.000000</td>\n",
       "      <td>768.000000</td>\n",
       "    </tr>\n",
       "    <tr>\n",
       "      <th>mean</th>\n",
       "      <td>3.845052</td>\n",
       "      <td>121.656250</td>\n",
       "      <td>72.386719</td>\n",
       "      <td>27.334635</td>\n",
       "      <td>94.652344</td>\n",
       "      <td>32.450911</td>\n",
       "      <td>0.471876</td>\n",
       "      <td>33.240885</td>\n",
       "      <td>0.348958</td>\n",
       "    </tr>\n",
       "    <tr>\n",
       "      <th>std</th>\n",
       "      <td>3.369578</td>\n",
       "      <td>30.438286</td>\n",
       "      <td>12.096642</td>\n",
       "      <td>9.229014</td>\n",
       "      <td>105.547598</td>\n",
       "      <td>6.875366</td>\n",
       "      <td>0.331329</td>\n",
       "      <td>11.760232</td>\n",
       "      <td>0.476951</td>\n",
       "    </tr>\n",
       "    <tr>\n",
       "      <th>min</th>\n",
       "      <td>0.000000</td>\n",
       "      <td>44.000000</td>\n",
       "      <td>24.000000</td>\n",
       "      <td>7.000000</td>\n",
       "      <td>14.000000</td>\n",
       "      <td>18.200000</td>\n",
       "      <td>0.078000</td>\n",
       "      <td>21.000000</td>\n",
       "      <td>0.000000</td>\n",
       "    </tr>\n",
       "    <tr>\n",
       "      <th>25%</th>\n",
       "      <td>1.000000</td>\n",
       "      <td>99.750000</td>\n",
       "      <td>64.000000</td>\n",
       "      <td>23.000000</td>\n",
       "      <td>30.500000</td>\n",
       "      <td>27.500000</td>\n",
       "      <td>0.243750</td>\n",
       "      <td>24.000000</td>\n",
       "      <td>0.000000</td>\n",
       "    </tr>\n",
       "    <tr>\n",
       "      <th>50%</th>\n",
       "      <td>3.000000</td>\n",
       "      <td>117.000000</td>\n",
       "      <td>72.000000</td>\n",
       "      <td>23.000000</td>\n",
       "      <td>31.250000</td>\n",
       "      <td>32.000000</td>\n",
       "      <td>0.372500</td>\n",
       "      <td>29.000000</td>\n",
       "      <td>0.000000</td>\n",
       "    </tr>\n",
       "    <tr>\n",
       "      <th>75%</th>\n",
       "      <td>6.000000</td>\n",
       "      <td>140.250000</td>\n",
       "      <td>80.000000</td>\n",
       "      <td>32.000000</td>\n",
       "      <td>127.250000</td>\n",
       "      <td>36.600000</td>\n",
       "      <td>0.626250</td>\n",
       "      <td>41.000000</td>\n",
       "      <td>1.000000</td>\n",
       "    </tr>\n",
       "    <tr>\n",
       "      <th>max</th>\n",
       "      <td>17.000000</td>\n",
       "      <td>199.000000</td>\n",
       "      <td>122.000000</td>\n",
       "      <td>99.000000</td>\n",
       "      <td>846.000000</td>\n",
       "      <td>67.100000</td>\n",
       "      <td>2.420000</td>\n",
       "      <td>81.000000</td>\n",
       "      <td>1.000000</td>\n",
       "    </tr>\n",
       "  </tbody>\n",
       "</table>\n",
       "</div>"
      ],
      "text/plain": [
       "             preg        plas        pres        skin        insu        mass  \\\n",
       "count  768.000000  768.000000  768.000000  768.000000  768.000000  768.000000   \n",
       "mean     3.845052  121.656250   72.386719   27.334635   94.652344   32.450911   \n",
       "std      3.369578   30.438286   12.096642    9.229014  105.547598    6.875366   \n",
       "min      0.000000   44.000000   24.000000    7.000000   14.000000   18.200000   \n",
       "25%      1.000000   99.750000   64.000000   23.000000   30.500000   27.500000   \n",
       "50%      3.000000  117.000000   72.000000   23.000000   31.250000   32.000000   \n",
       "75%      6.000000  140.250000   80.000000   32.000000  127.250000   36.600000   \n",
       "max     17.000000  199.000000  122.000000   99.000000  846.000000   67.100000   \n",
       "\n",
       "             pedi         age       class  \n",
       "count  768.000000  768.000000  768.000000  \n",
       "mean     0.471876   33.240885    0.348958  \n",
       "std      0.331329   11.760232    0.476951  \n",
       "min      0.078000   21.000000    0.000000  \n",
       "25%      0.243750   24.000000    0.000000  \n",
       "50%      0.372500   29.000000    0.000000  \n",
       "75%      0.626250   41.000000    1.000000  \n",
       "max      2.420000   81.000000    1.000000  "
      ]
     },
     "execution_count": 6,
     "metadata": {},
     "output_type": "execute_result"
    }
   ],
   "source": [
    "data_clean.describe()"
   ]
  },
  {
   "cell_type": "code",
   "execution_count": 7,
   "metadata": {
    "collapsed": false
   },
   "outputs": [],
   "source": [
    "# Separate data into independent and dependent variables\n",
    "X, y = data_clean.drop(['class'], axis=1), data_clean['class']\n",
    "X.columns = colnames[:len(colnames)-1]"
   ]
  },
  {
   "cell_type": "code",
   "execution_count": 26,
   "metadata": {
    "collapsed": false
   },
   "outputs": [],
   "source": [
    "# Transform independent variables to Gaussian\n",
    "scale = StandardScaler()\n",
    "X_std = pd.DataFrame(scale.fit_transform(X))\n",
    "\n",
    "# Separate X, y into training and testing data with Shufflesplit\n",
    "X_train, X_test, y_train, y_test = train_test_split(X_std, y, test_size=0.20, random_state=7)\n",
    "X_train.columns = X_test.columns = X.columns\n",
    "\n",
    "# Use Shufflesplit to cross-validate; choose 5 iterations\n",
    "cv = ShuffleSplit(X_train.shape[0], n_iter=10, test_size=0.2)"
   ]
  },
  {
   "cell_type": "code",
   "execution_count": 27,
   "metadata": {
    "collapsed": false
   },
   "outputs": [
    {
     "data": {
      "text/plain": [
       "<matplotlib.text.Text at 0x1f720320>"
      ]
     },
     "execution_count": 27,
     "metadata": {},
     "output_type": "execute_result"
    },
    {
     "data": {
      "image/png": "[encoded data removed]",
      "text/plain": [
       "<matplotlib.figure.Figure at 0x1f1eb9e8>"
      ]
     },
     "metadata": {},
     "output_type": "display_data"
    }
   ],
   "source": [
    "# Test kmeans for different number of cluster centers\n",
    "index, inertia = [], []\n",
    "for n in range(1,21):\n",
    "    km = KMeans(n_clusters=n)\n",
    "    km.fit(X_train)\n",
    "    index.append(n)\n",
    "    inertia.append(km.inertia_)\n",
    "    \n",
    "plt.plot(index,inertia)\n",
    "plt.title('K-means intertia for varying number of clusters')"
   ]
  },
  {
   "cell_type": "code",
   "execution_count": 28,
   "metadata": {
    "collapsed": false
   },
   "outputs": [
    {
     "data": {
      "text/plain": [
       "<matplotlib.text.Text at 0x1f86f710>"
      ]
     },
     "execution_count": 28,
     "metadata": {},
     "output_type": "execute_result"
    },
    {
     "data": {
      "image/png": "[encoded data removed]",
      "text/plain": [
       "<matplotlib.figure.Figure at 0x1dda5978>"
      ]
     },
     "metadata": {},
     "output_type": "display_data"
    }
   ],
   "source": [
    "# Test kmeans for different number of cluster centers\n",
    "index, inertia = [], []\n",
    "for n in range(1,8):\n",
    "    km = KMeans(n_clusters=n)\n",
    "    km.fit(X_train)\n",
    "    index.append(n)\n",
    "    inertia.append(km.inertia_)\n",
    "    \n",
    "plt.plot(index,inertia)\n",
    "plt.title('Zoomed-in K-means intertia for varying number of clusters')"
   ]
  },
  {
   "cell_type": "code",
   "execution_count": 29,
   "metadata": {
    "collapsed": false
   },
   "outputs": [
    {
     "data": {
      "text/plain": [
       "<matplotlib.text.Text at 0x1fb43208>"
      ]
     },
     "execution_count": 29,
     "metadata": {},
     "output_type": "execute_result"
    },
    {
     "data": {
      "image/png": "[encoded data removed]",
      "text/plain": [
       "<matplotlib.figure.Figure at 0x1f32b3c8>"
      ]
     },
     "metadata": {},
     "output_type": "display_data"
    }
   ],
   "source": [
    "index, s_score = [], []\n",
    "for n in range(2,21):\n",
    "    km = KMeans(n_clusters=n)\n",
    "    centers = km.fit_predict(X_train)\n",
    "    index.append(n)\n",
    "    s_score.append(silhouette_score(X_train, centers))\n",
    "plt.plot(index, s_score)\n",
    "plt.title('K-means silhouette score for varying number of clusters')"
   ]
  },
  {
   "cell_type": "markdown",
   "metadata": {},
   "source": [
    "Based on heuristic \"elbow method\" applied to both the inertia and silhouette score charts above, choose 5 clusters, as this feels to be an inflection point."
   ]
  },
  {
   "cell_type": "code",
   "execution_count": 30,
   "metadata": {
    "collapsed": false
   },
   "outputs": [
    {
     "name": "stdout",
     "output_type": "stream",
     "text": [
      "Wall time: 117 ms\n"
     ]
    }
   ],
   "source": [
    "%%time\n",
    "km = KMeans(n_clusters=5, n_init=20)\n",
    "km_train = km.fit(X_train)\n",
    "cluster_labels = km_train.predict(X_train)"
   ]
  },
  {
   "cell_type": "code",
   "execution_count": 31,
   "metadata": {
    "collapsed": true
   },
   "outputs": [],
   "source": [
    "# Run again not for time\n",
    "km = KMeans(n_clusters=5, n_init=20)\n",
    "km_train = km.fit(X_train)\n",
    "cluster_labels = km_train.predict(X_train)"
   ]
  },
  {
   "cell_type": "code",
   "execution_count": 32,
   "metadata": {
    "collapsed": false
   },
   "outputs": [
    {
     "name": "stdout",
     "output_type": "stream",
     "text": [
      "Inertia of the k-means model with 5 clusters is 2911.\n",
      "\n",
      "Silhouette score of the k-means model with 5 clusters is 0.173096067102.\n"
     ]
    }
   ],
   "source": [
    "print 'Inertia of the k-means model with 5 clusters is %d.' % km_train.inertia_\n",
    "print '\\nSilhouette score of the k-means model with 5 clusters is {}.'.format(silhouette_score(X_train, cluster_labels))"
   ]
  },
  {
   "cell_type": "code",
   "execution_count": 37,
   "metadata": {
    "collapsed": false,
    "scrolled": true
   },
   "outputs": [
    {
     "data": {
      "text/html": [
       "<div>\n",
       "<table border=\"1\" class=\"dataframe\">\n",
       "  <thead>\n",
       "    <tr style=\"text-align: right;\">\n",
       "      <th></th>\n",
       "      <th>0</th>\n",
       "      <th>1</th>\n",
       "      <th>2</th>\n",
       "      <th>3</th>\n",
       "      <th>4</th>\n",
       "    </tr>\n",
       "  </thead>\n",
       "  <tbody>\n",
       "    <tr>\n",
       "      <th>preg</th>\n",
       "      <td>2.367</td>\n",
       "      <td>4.415</td>\n",
       "      <td>1.867</td>\n",
       "      <td>7.239</td>\n",
       "      <td>2.000</td>\n",
       "    </tr>\n",
       "    <tr>\n",
       "      <th>plas</th>\n",
       "      <td>105.101</td>\n",
       "      <td>160.098</td>\n",
       "      <td>141.400</td>\n",
       "      <td>130.461</td>\n",
       "      <td>117.524</td>\n",
       "    </tr>\n",
       "    <tr>\n",
       "      <th>pres</th>\n",
       "      <td>66.115</td>\n",
       "      <td>71.220</td>\n",
       "      <td>76.533</td>\n",
       "      <td>77.656</td>\n",
       "      <td>73.131</td>\n",
       "    </tr>\n",
       "    <tr>\n",
       "      <th>skin</th>\n",
       "      <td>21.014</td>\n",
       "      <td>33.146</td>\n",
       "      <td>40.300</td>\n",
       "      <td>26.328</td>\n",
       "      <td>33.828</td>\n",
       "    </tr>\n",
       "    <tr>\n",
       "      <th>insu</th>\n",
       "      <td>63.472</td>\n",
       "      <td>357.537</td>\n",
       "      <td>134.917</td>\n",
       "      <td>60.786</td>\n",
       "      <td>86.900</td>\n",
       "    </tr>\n",
       "    <tr>\n",
       "      <th>mass</th>\n",
       "      <td>27.109</td>\n",
       "      <td>36.117</td>\n",
       "      <td>40.133</td>\n",
       "      <td>32.493</td>\n",
       "      <td>38.381</td>\n",
       "    </tr>\n",
       "    <tr>\n",
       "      <th>pedi</th>\n",
       "      <td>0.399</td>\n",
       "      <td>0.441</td>\n",
       "      <td>1.318</td>\n",
       "      <td>0.434</td>\n",
       "      <td>0.431</td>\n",
       "    </tr>\n",
       "    <tr>\n",
       "      <th>age</th>\n",
       "      <td>25.968</td>\n",
       "      <td>33.829</td>\n",
       "      <td>34.100</td>\n",
       "      <td>45.289</td>\n",
       "      <td>27.338</td>\n",
       "    </tr>\n",
       "  </tbody>\n",
       "</table>\n",
       "</div>"
      ],
      "text/plain": [
       "           0       1       2       3       4\n",
       "preg   2.367   4.415   1.867   7.239   2.000\n",
       "plas 105.101 160.098 141.400 130.461 117.524\n",
       "pres  66.115  71.220  76.533  77.656  73.131\n",
       "skin  21.014  33.146  40.300  26.328  33.828\n",
       "insu  63.472 357.537 134.917  60.786  86.900\n",
       "mass  27.109  36.117  40.133  32.493  38.381\n",
       "pedi   0.399   0.441   1.318   0.434   0.431\n",
       "age   25.968  33.829  34.100  45.289  27.338"
      ]
     },
     "execution_count": 37,
     "metadata": {},
     "output_type": "execute_result"
    }
   ],
   "source": [
    "#km.fit(X_train)\n",
    "pd.set_option('display.float_format', lambda x: '%.3f' % x)\n",
    "columns = {str(x): scale.inverse_transform(km_train.cluster_centers_[x]) for x in range(0,len(km_train.cluster_centers_))}\n",
    "clusters = pd.DataFrame(columns, index=X_train.columns)\n",
    "clusters.index = X_train.columns\n",
    "clusters"
   ]
  },
  {
   "cell_type": "code",
   "execution_count": 38,
   "metadata": {
    "collapsed": false
   },
   "outputs": [
    {
     "data": {
      "text/html": [
       "<div>\n",
       "<table border=\"1\" class=\"dataframe\">\n",
       "  <thead>\n",
       "    <tr style=\"text-align: right;\">\n",
       "      <th></th>\n",
       "      <th>count</th>\n",
       "      <th>mean</th>\n",
       "      <th>std</th>\n",
       "      <th>min</th>\n",
       "      <th>25%</th>\n",
       "      <th>50%</th>\n",
       "      <th>75%</th>\n",
       "      <th>max</th>\n",
       "    </tr>\n",
       "  </thead>\n",
       "  <tbody>\n",
       "    <tr>\n",
       "      <th>preg</th>\n",
       "      <td>768.000</td>\n",
       "      <td>3.845</td>\n",
       "      <td>3.370</td>\n",
       "      <td>0.000</td>\n",
       "      <td>1.000</td>\n",
       "      <td>3.000</td>\n",
       "      <td>6.000</td>\n",
       "      <td>17.000</td>\n",
       "    </tr>\n",
       "    <tr>\n",
       "      <th>plas</th>\n",
       "      <td>768.000</td>\n",
       "      <td>121.656</td>\n",
       "      <td>30.438</td>\n",
       "      <td>44.000</td>\n",
       "      <td>99.750</td>\n",
       "      <td>117.000</td>\n",
       "      <td>140.250</td>\n",
       "      <td>199.000</td>\n",
       "    </tr>\n",
       "    <tr>\n",
       "      <th>pres</th>\n",
       "      <td>768.000</td>\n",
       "      <td>72.387</td>\n",
       "      <td>12.097</td>\n",
       "      <td>24.000</td>\n",
       "      <td>64.000</td>\n",
       "      <td>72.000</td>\n",
       "      <td>80.000</td>\n",
       "      <td>122.000</td>\n",
       "    </tr>\n",
       "    <tr>\n",
       "      <th>skin</th>\n",
       "      <td>768.000</td>\n",
       "      <td>27.335</td>\n",
       "      <td>9.229</td>\n",
       "      <td>7.000</td>\n",
       "      <td>23.000</td>\n",
       "      <td>23.000</td>\n",
       "      <td>32.000</td>\n",
       "      <td>99.000</td>\n",
       "    </tr>\n",
       "    <tr>\n",
       "      <th>insu</th>\n",
       "      <td>768.000</td>\n",
       "      <td>94.652</td>\n",
       "      <td>105.548</td>\n",
       "      <td>14.000</td>\n",
       "      <td>30.500</td>\n",
       "      <td>31.250</td>\n",
       "      <td>127.250</td>\n",
       "      <td>846.000</td>\n",
       "    </tr>\n",
       "    <tr>\n",
       "      <th>mass</th>\n",
       "      <td>768.000</td>\n",
       "      <td>32.451</td>\n",
       "      <td>6.875</td>\n",
       "      <td>18.200</td>\n",
       "      <td>27.500</td>\n",
       "      <td>32.000</td>\n",
       "      <td>36.600</td>\n",
       "      <td>67.100</td>\n",
       "    </tr>\n",
       "    <tr>\n",
       "      <th>pedi</th>\n",
       "      <td>768.000</td>\n",
       "      <td>0.472</td>\n",
       "      <td>0.331</td>\n",
       "      <td>0.078</td>\n",
       "      <td>0.244</td>\n",
       "      <td>0.372</td>\n",
       "      <td>0.626</td>\n",
       "      <td>2.420</td>\n",
       "    </tr>\n",
       "    <tr>\n",
       "      <th>age</th>\n",
       "      <td>768.000</td>\n",
       "      <td>33.241</td>\n",
       "      <td>11.760</td>\n",
       "      <td>21.000</td>\n",
       "      <td>24.000</td>\n",
       "      <td>29.000</td>\n",
       "      <td>41.000</td>\n",
       "      <td>81.000</td>\n",
       "    </tr>\n",
       "  </tbody>\n",
       "</table>\n",
       "</div>"
      ],
      "text/plain": [
       "       count    mean     std    min    25%     50%     75%     max\n",
       "preg 768.000   3.845   3.370  0.000  1.000   3.000   6.000  17.000\n",
       "plas 768.000 121.656  30.438 44.000 99.750 117.000 140.250 199.000\n",
       "pres 768.000  72.387  12.097 24.000 64.000  72.000  80.000 122.000\n",
       "skin 768.000  27.335   9.229  7.000 23.000  23.000  32.000  99.000\n",
       "insu 768.000  94.652 105.548 14.000 30.500  31.250 127.250 846.000\n",
       "mass 768.000  32.451   6.875 18.200 27.500  32.000  36.600  67.100\n",
       "pedi 768.000   0.472   0.331  0.078  0.244   0.372   0.626   2.420\n",
       "age  768.000  33.241  11.760 21.000 24.000  29.000  41.000  81.000"
      ]
     },
     "execution_count": 38,
     "metadata": {},
     "output_type": "execute_result"
    }
   ],
   "source": [
    "data_clean.describe().T.drop('class', axis=0)"
   ]
  },
  {
   "cell_type": "code",
   "execution_count": 39,
   "metadata": {
    "collapsed": false
   },
   "outputs": [
    {
     "data": {
      "text/plain": [
       "0    183\n",
       "3    145\n",
       "4    107\n",
       "1     29\n",
       "2     27\n",
       "Name: clusters, dtype: int64"
      ]
     },
     "execution_count": 39,
     "metadata": {},
     "output_type": "execute_result"
    }
   ],
   "source": [
    "# Assess data with clusters\n",
    "cluster_check = pd.concat([pd.Series(cluster_labels), pd.Series(y_train)],axis=1,join='inner')\n",
    "cluster_check.columns = ['clusters','class']\n",
    "cluster_check['clusters'].value_counts()"
   ]
  },
  {
   "cell_type": "code",
   "execution_count": 40,
   "metadata": {
    "collapsed": false
   },
   "outputs": [
    {
     "name": "stdout",
     "output_type": "stream",
     "text": [
      "          0\n",
      "count 5.000\n",
      "mean  0.068\n",
      "std   0.048\n",
      "min   0.018\n",
      "25%   0.022\n",
      "50%   0.079\n",
      "75%   0.086\n",
      "max   0.134\n"
     ]
    },
    {
     "data": {
      "text/html": [
       "<div>\n",
       "<table border=\"1\" class=\"dataframe\">\n",
       "  <thead>\n",
       "    <tr style=\"text-align: right;\">\n",
       "      <th></th>\n",
       "      <th>0</th>\n",
       "    </tr>\n",
       "  </thead>\n",
       "  <tbody>\n",
       "    <tr>\n",
       "      <th>1</th>\n",
       "      <td>0.134</td>\n",
       "    </tr>\n",
       "    <tr>\n",
       "      <th>2</th>\n",
       "      <td>0.022</td>\n",
       "    </tr>\n",
       "    <tr>\n",
       "      <th>3</th>\n",
       "      <td>0.018</td>\n",
       "    </tr>\n",
       "    <tr>\n",
       "      <th>4</th>\n",
       "      <td>0.086</td>\n",
       "    </tr>\n",
       "    <tr>\n",
       "      <th>5</th>\n",
       "      <td>0.079</td>\n",
       "    </tr>\n",
       "  </tbody>\n",
       "</table>\n",
       "</div>"
      ],
      "text/plain": [
       "      0\n",
       "1 0.134\n",
       "2 0.022\n",
       "3 0.018\n",
       "4 0.086\n",
       "5 0.079"
      ]
     },
     "execution_count": 40,
     "metadata": {},
     "output_type": "execute_result"
    }
   ],
   "source": [
    "percentages = []\n",
    "for cls in range(len(cluster_check['clusters'].value_counts())):\n",
    "    percentages.append(float(sum(cluster_check[cluster_check['clusters']==cls]['class']))/len(cluster_check))\n",
    "    \n",
    "print pd.DataFrame(percentages).describe()\n",
    "perc = pd.DataFrame(percentages)\n",
    "perc.index=range(1,6)\n",
    "perc"
   ]
  },
  {
   "cell_type": "markdown",
   "metadata": {},
   "source": [
    "Assessing the 5 clusters, we begin to observe distinct groups in the population of Native American women. See below (note these are subject to reordering of the cluster matrix):\n",
    "\n",
    "**Cluster 1: \"Healthy Young Mommas\"**\n",
    "\n",
    "- members of this cohort are ths skinniest of the group, with BMI, skin fold thickness, and blood pressure all exhibiting the lowest levels of any cluster and falling near the bottom quartile\n",
    "- women exhibit a roughly average number of pregnancies\n",
    "\n",
    "**Cluster 2: \"Stressed Out Fat Mommas\"**\n",
    "\n",
    "- constituents tend to have more kids than the average, while also being generally overweight, with skin fold thickness and BMI hovering near the upper quartile range\n",
    "- the primary differentiator in this cluster is blood insulin levels which well into the top decile\n",
    "\n",
    "**Cluster 3: \"Genetically Predisposed Mommas\"**\n",
    "\n",
    "- members of this cohort appear to be generally overweight, with BMI and skin fold thickness near the top quartile mark\n",
    "- the key differentiator is the diabetes pedigree function, where members of this cluster have a pedigree level almost 2 SD above the 75th percentile\n",
    "\n",
    "**Cluster 4: \"Old Baby Machines\"**\n",
    "\n",
    "- constituents fall in the upper quartile range with respect to both age and number of pregnancies\n",
    "- this cohort is also notable for the highest blood pressure among the clusters \n",
    "- all other variables appear to imply these individuals are near the averages\n",
    "\n",
    "**Cluster 5: \"Young [Likely Single] Fatties\"**\n",
    "\n",
    "- constituents tend to be young and have had the fewest average pregnancies among the clusters, falling just above the lowest quartile boundary\n",
    "- the grouping is defined by the highest average BMI and skin fold thickness, both falling into the upper quartile\n"
   ]
  },
  {
   "cell_type": "markdown",
   "metadata": {},
   "source": [
    "Though more granularity in clusters may in practice provide additional predictive power, I've maintained a smaller number to better understand the demographic breakdown of the population. Without speaking to additive predictive power, the clusters help to see the beginning of a trend across a number of variables. \n",
    "\n",
    "Assessing likelihood of diabetes by cluster, we observe intuitive trends. Members of the cluster \"Young Fatties\" in the training data experience a likelihood of diabetes almost a full standard deviation above the average, while the instance of diabetes in the \"Healthy Young Mommas\" cluster fell significantly below the average. Also intuitively, women in the cohort \"Old Baby Machines\" experienced the highest rate of diabetes in the training set - around 12% - likely resulting from high blood pressure and age. "
   ]
  },
  {
   "cell_type": "markdown",
   "metadata": {},
   "source": [
    "**Run PCA on the dataset and describe results**"
   ]
  },
  {
   "cell_type": "code",
   "execution_count": 41,
   "metadata": {
    "collapsed": false
   },
   "outputs": [
    {
     "data": {
      "text/plain": [
       "<matplotlib.legend.Legend at 0x1fd984e0>"
      ]
     },
     "execution_count": 41,
     "metadata": {},
     "output_type": "execute_result"
    },
    {
     "data": {
      "image/png": "[encoded data removed]",
      "text/plain": [
       "<matplotlib.figure.Figure at 0x1fa9cb00>"
      ]
     },
     "metadata": {},
     "output_type": "display_data"
    }
   ],
   "source": [
    "# Begin with 8 components as the Native American dataset consists of 8 predictive variables\n",
    "pca = PCA(n_components=8, whiten=True)\n",
    "pca.fit(X_train)\n",
    "plt.figure(figsize=(10,6))\n",
    "plt.plot(range(1,9), pca.explained_variance_ratio_, 'o-',\n",
    "        label='Individual variance explained')\n",
    "plt.plot(range(1,9), np.cumsum(pca.explained_variance_ratio_),'o-',\n",
    "        label='Cumulative variance explained')\n",
    "for i in np.linspace(.2,.8,4):\n",
    "    plt.plot(range(1,9), [i]*8, color='k', alpha=0.2)\n",
    "plt.title('Variance explained by principal components')\n",
    "plt.ylabel('Explained variance')\n",
    "plt.xlabel('# of Principal Components')\n",
    "plt.legend(loc=\"best\")"
   ]
  },
  {
   "cell_type": "code",
   "execution_count": 42,
   "metadata": {
    "collapsed": false
   },
   "outputs": [
    {
     "data": {
      "text/plain": [
       "array([ 0.27793934,  0.48217221,  0.61189363,  0.72471662,  0.82382295,\n",
       "        0.89348175,  0.95305804,  1.        ])"
      ]
     },
     "execution_count": 42,
     "metadata": {},
     "output_type": "execute_result"
    }
   ],
   "source": [
    "np.cumsum(pca.explained_variance_ratio_)"
   ]
  },
  {
   "cell_type": "markdown",
   "metadata": {},
   "source": [
    "As the first 6 principal components explain almost 90% of the variance in the dataset, continue using the first 6 principal components and find correlation between these and the original features."
   ]
  },
  {
   "cell_type": "code",
   "execution_count": 43,
   "metadata": {
    "collapsed": false
   },
   "outputs": [],
   "source": [
    "pca = PCA(n_components=6, whiten=True)\n",
    "pca_train = pca.fit(X_train)\n",
    "pcs_train = pd.DataFrame(pca_train.transform(X_train))"
   ]
  },
  {
   "cell_type": "code",
   "execution_count": 44,
   "metadata": {
    "collapsed": false
   },
   "outputs": [
    {
     "data": {
      "text/html": [
       "<div>\n",
       "<table border=\"1\" class=\"dataframe\">\n",
       "  <thead>\n",
       "    <tr style=\"text-align: right;\">\n",
       "      <th></th>\n",
       "      <th>PC1</th>\n",
       "      <th>PC2</th>\n",
       "      <th>PC3</th>\n",
       "      <th>PC4</th>\n",
       "      <th>PC5</th>\n",
       "      <th>PC6</th>\n",
       "    </tr>\n",
       "  </thead>\n",
       "  <tbody>\n",
       "    <tr>\n",
       "      <th>0</th>\n",
       "      <td>-0.525</td>\n",
       "      <td>-0.243</td>\n",
       "      <td>1.046</td>\n",
       "      <td>0.144</td>\n",
       "      <td>-1.458</td>\n",
       "      <td>-0.245</td>\n",
       "    </tr>\n",
       "    <tr>\n",
       "      <th>1</th>\n",
       "      <td>-0.675</td>\n",
       "      <td>-0.924</td>\n",
       "      <td>2.142</td>\n",
       "      <td>-0.800</td>\n",
       "      <td>-0.258</td>\n",
       "      <td>0.837</td>\n",
       "    </tr>\n",
       "    <tr>\n",
       "      <th>2</th>\n",
       "      <td>-0.351</td>\n",
       "      <td>0.117</td>\n",
       "      <td>-0.503</td>\n",
       "      <td>0.240</td>\n",
       "      <td>1.574</td>\n",
       "      <td>-0.918</td>\n",
       "    </tr>\n",
       "    <tr>\n",
       "      <th>3</th>\n",
       "      <td>0.382</td>\n",
       "      <td>-0.137</td>\n",
       "      <td>0.941</td>\n",
       "      <td>-0.452</td>\n",
       "      <td>-0.188</td>\n",
       "      <td>-0.293</td>\n",
       "    </tr>\n",
       "    <tr>\n",
       "      <th>4</th>\n",
       "      <td>-0.136</td>\n",
       "      <td>-1.083</td>\n",
       "      <td>-0.504</td>\n",
       "      <td>0.293</td>\n",
       "      <td>-0.136</td>\n",
       "      <td>-0.073</td>\n",
       "    </tr>\n",
       "  </tbody>\n",
       "</table>\n",
       "</div>"
      ],
      "text/plain": [
       "     PC1    PC2    PC3    PC4    PC5    PC6\n",
       "0 -0.525 -0.243  1.046  0.144 -1.458 -0.245\n",
       "1 -0.675 -0.924  2.142 -0.800 -0.258  0.837\n",
       "2 -0.351  0.117 -0.503  0.240  1.574 -0.918\n",
       "3  0.382 -0.137  0.941 -0.452 -0.188 -0.293\n",
       "4 -0.136 -1.083 -0.504  0.293 -0.136 -0.073"
      ]
     },
     "execution_count": 44,
     "metadata": {},
     "output_type": "execute_result"
    }
   ],
   "source": [
    "pcs_train.columns = ['PC1','PC2','PC3','PC4','PC5','PC6']\n",
    "pcs_train.head()"
   ]
  },
  {
   "cell_type": "code",
   "execution_count": 45,
   "metadata": {
    "collapsed": false
   },
   "outputs": [
    {
     "data": {
      "text/html": [
       "<div>\n",
       "<table border=\"1\" class=\"dataframe\">\n",
       "  <thead>\n",
       "    <tr style=\"text-align: right;\">\n",
       "      <th></th>\n",
       "      <th>PC1</th>\n",
       "      <th>PC2</th>\n",
       "      <th>PC3</th>\n",
       "      <th>PC4</th>\n",
       "      <th>PC5</th>\n",
       "      <th>PC6</th>\n",
       "    </tr>\n",
       "  </thead>\n",
       "  <tbody>\n",
       "    <tr>\n",
       "      <th>0</th>\n",
       "      <td>-0.525</td>\n",
       "      <td>-0.243</td>\n",
       "      <td>1.046</td>\n",
       "      <td>0.144</td>\n",
       "      <td>-1.458</td>\n",
       "      <td>-0.245</td>\n",
       "    </tr>\n",
       "    <tr>\n",
       "      <th>1</th>\n",
       "      <td>-0.675</td>\n",
       "      <td>-0.924</td>\n",
       "      <td>2.142</td>\n",
       "      <td>-0.800</td>\n",
       "      <td>-0.258</td>\n",
       "      <td>0.837</td>\n",
       "    </tr>\n",
       "    <tr>\n",
       "      <th>2</th>\n",
       "      <td>-0.351</td>\n",
       "      <td>0.117</td>\n",
       "      <td>-0.503</td>\n",
       "      <td>0.240</td>\n",
       "      <td>1.574</td>\n",
       "      <td>-0.918</td>\n",
       "    </tr>\n",
       "    <tr>\n",
       "      <th>3</th>\n",
       "      <td>0.382</td>\n",
       "      <td>-0.137</td>\n",
       "      <td>0.941</td>\n",
       "      <td>-0.452</td>\n",
       "      <td>-0.188</td>\n",
       "      <td>-0.293</td>\n",
       "    </tr>\n",
       "    <tr>\n",
       "      <th>4</th>\n",
       "      <td>-0.136</td>\n",
       "      <td>-1.083</td>\n",
       "      <td>-0.504</td>\n",
       "      <td>0.293</td>\n",
       "      <td>-0.136</td>\n",
       "      <td>-0.073</td>\n",
       "    </tr>\n",
       "  </tbody>\n",
       "</table>\n",
       "</div>"
      ],
      "text/plain": [
       "     PC1    PC2    PC3    PC4    PC5    PC6\n",
       "0 -0.525 -0.243  1.046  0.144 -1.458 -0.245\n",
       "1 -0.675 -0.924  2.142 -0.800 -0.258  0.837\n",
       "2 -0.351  0.117 -0.503  0.240  1.574 -0.918\n",
       "3  0.382 -0.137  0.941 -0.452 -0.188 -0.293\n",
       "4 -0.136 -1.083 -0.504  0.293 -0.136 -0.073"
      ]
     },
     "execution_count": 45,
     "metadata": {},
     "output_type": "execute_result"
    }
   ],
   "source": [
    "# Confirm .fit_transform() is the same as .fit() -> .transform()\n",
    "pcs2 = pd.DataFrame(pca.fit_transform(X_train))\n",
    "pcs2.columns = pcs_train.columns\n",
    "pcs2.head()"
   ]
  },
  {
   "cell_type": "code",
   "execution_count": 46,
   "metadata": {
    "collapsed": false
   },
   "outputs": [
    {
     "name": "stdout",
     "output_type": "stream",
     "text": [
      "(614, 6)\n",
      "(614, 8)\n"
     ]
    }
   ],
   "source": [
    "# Assess how to join the principal component and train data\n",
    "print pcs_train.shape\n",
    "print X_train.shape"
   ]
  },
  {
   "cell_type": "code",
   "execution_count": 47,
   "metadata": {
    "collapsed": false
   },
   "outputs": [
    {
     "data": {
      "text/html": [
       "<div>\n",
       "<table border=\"1\" class=\"dataframe\">\n",
       "  <thead>\n",
       "    <tr style=\"text-align: right;\">\n",
       "      <th></th>\n",
       "      <th>preg</th>\n",
       "      <th>plas</th>\n",
       "      <th>pres</th>\n",
       "      <th>skin</th>\n",
       "      <th>insu</th>\n",
       "      <th>mass</th>\n",
       "      <th>pedi</th>\n",
       "      <th>age</th>\n",
       "    </tr>\n",
       "  </thead>\n",
       "  <tbody>\n",
       "    <tr>\n",
       "      <th>289</th>\n",
       "      <td>0.343</td>\n",
       "      <td>-0.449</td>\n",
       "      <td>-0.032</td>\n",
       "      <td>1.699</td>\n",
       "      <td>-0.186</td>\n",
       "      <td>0.531</td>\n",
       "      <td>-0.631</td>\n",
       "      <td>-0.020</td>\n",
       "    </tr>\n",
       "    <tr>\n",
       "      <th>328</th>\n",
       "      <td>-0.548</td>\n",
       "      <td>-0.646</td>\n",
       "      <td>1.126</td>\n",
       "      <td>0.940</td>\n",
       "      <td>0.240</td>\n",
       "      <td>1.899</td>\n",
       "      <td>-1.042</td>\n",
       "      <td>-0.871</td>\n",
       "    </tr>\n",
       "    <tr>\n",
       "      <th>394</th>\n",
       "      <td>0.046</td>\n",
       "      <td>1.195</td>\n",
       "      <td>0.464</td>\n",
       "      <td>-0.470</td>\n",
       "      <td>-0.608</td>\n",
       "      <td>0.065</td>\n",
       "      <td>1.000</td>\n",
       "      <td>-0.191</td>\n",
       "    </tr>\n",
       "    <tr>\n",
       "      <th>321</th>\n",
       "      <td>-0.251</td>\n",
       "      <td>-0.317</td>\n",
       "      <td>0.133</td>\n",
       "      <td>0.289</td>\n",
       "      <td>-0.608</td>\n",
       "      <td>-0.124</td>\n",
       "      <td>-0.830</td>\n",
       "      <td>-0.701</td>\n",
       "    </tr>\n",
       "    <tr>\n",
       "      <th>326</th>\n",
       "      <td>-0.845</td>\n",
       "      <td>0.011</td>\n",
       "      <td>-0.694</td>\n",
       "      <td>0.506</td>\n",
       "      <td>0.582</td>\n",
       "      <td>0.386</td>\n",
       "      <td>0.665</td>\n",
       "      <td>-0.276</td>\n",
       "    </tr>\n",
       "  </tbody>\n",
       "</table>\n",
       "</div>"
      ],
      "text/plain": [
       "      preg   plas   pres   skin   insu   mass   pedi    age\n",
       "289  0.343 -0.449 -0.032  1.699 -0.186  0.531 -0.631 -0.020\n",
       "328 -0.548 -0.646  1.126  0.940  0.240  1.899 -1.042 -0.871\n",
       "394  0.046  1.195  0.464 -0.470 -0.608  0.065  1.000 -0.191\n",
       "321 -0.251 -0.317  0.133  0.289 -0.608 -0.124 -0.830 -0.701\n",
       "326 -0.845  0.011 -0.694  0.506  0.582  0.386  0.665 -0.276"
      ]
     },
     "execution_count": 47,
     "metadata": {},
     "output_type": "execute_result"
    }
   ],
   "source": [
    "X_train.head()"
   ]
  },
  {
   "cell_type": "markdown",
   "metadata": {},
   "source": [
    "Observe the unordered indices of X_train. Reset indices for easier concatenation."
   ]
  },
  {
   "cell_type": "code",
   "execution_count": 48,
   "metadata": {
    "collapsed": false
   },
   "outputs": [
    {
     "data": {
      "text/html": [
       "<div>\n",
       "<table border=\"1\" class=\"dataframe\">\n",
       "  <thead>\n",
       "    <tr style=\"text-align: right;\">\n",
       "      <th></th>\n",
       "      <th>preg</th>\n",
       "      <th>plas</th>\n",
       "      <th>pres</th>\n",
       "      <th>skin</th>\n",
       "      <th>insu</th>\n",
       "      <th>mass</th>\n",
       "      <th>pedi</th>\n",
       "      <th>age</th>\n",
       "    </tr>\n",
       "  </thead>\n",
       "  <tbody>\n",
       "    <tr>\n",
       "      <th>0</th>\n",
       "      <td>0.343</td>\n",
       "      <td>-0.449</td>\n",
       "      <td>-0.032</td>\n",
       "      <td>1.699</td>\n",
       "      <td>-0.186</td>\n",
       "      <td>0.531</td>\n",
       "      <td>-0.631</td>\n",
       "      <td>-0.020</td>\n",
       "    </tr>\n",
       "    <tr>\n",
       "      <th>1</th>\n",
       "      <td>-0.548</td>\n",
       "      <td>-0.646</td>\n",
       "      <td>1.126</td>\n",
       "      <td>0.940</td>\n",
       "      <td>0.240</td>\n",
       "      <td>1.899</td>\n",
       "      <td>-1.042</td>\n",
       "      <td>-0.871</td>\n",
       "    </tr>\n",
       "    <tr>\n",
       "      <th>2</th>\n",
       "      <td>0.046</td>\n",
       "      <td>1.195</td>\n",
       "      <td>0.464</td>\n",
       "      <td>-0.470</td>\n",
       "      <td>-0.608</td>\n",
       "      <td>0.065</td>\n",
       "      <td>1.000</td>\n",
       "      <td>-0.191</td>\n",
       "    </tr>\n",
       "    <tr>\n",
       "      <th>3</th>\n",
       "      <td>-0.251</td>\n",
       "      <td>-0.317</td>\n",
       "      <td>0.133</td>\n",
       "      <td>0.289</td>\n",
       "      <td>-0.608</td>\n",
       "      <td>-0.124</td>\n",
       "      <td>-0.830</td>\n",
       "      <td>-0.701</td>\n",
       "    </tr>\n",
       "    <tr>\n",
       "      <th>4</th>\n",
       "      <td>-0.845</td>\n",
       "      <td>0.011</td>\n",
       "      <td>-0.694</td>\n",
       "      <td>0.506</td>\n",
       "      <td>0.582</td>\n",
       "      <td>0.386</td>\n",
       "      <td>0.665</td>\n",
       "      <td>-0.276</td>\n",
       "    </tr>\n",
       "  </tbody>\n",
       "</table>\n",
       "</div>"
      ],
      "text/plain": [
       "    preg   plas   pres   skin   insu   mass   pedi    age\n",
       "0  0.343 -0.449 -0.032  1.699 -0.186  0.531 -0.631 -0.020\n",
       "1 -0.548 -0.646  1.126  0.940  0.240  1.899 -1.042 -0.871\n",
       "2  0.046  1.195  0.464 -0.470 -0.608  0.065  1.000 -0.191\n",
       "3 -0.251 -0.317  0.133  0.289 -0.608 -0.124 -0.830 -0.701\n",
       "4 -0.845  0.011 -0.694  0.506  0.582  0.386  0.665 -0.276"
      ]
     },
     "execution_count": 48,
     "metadata": {},
     "output_type": "execute_result"
    }
   ],
   "source": [
    "# Remove index of training data for easier concatenation\n",
    "X_train = X_train.reset_index(drop=True)\n",
    "X_train.head()"
   ]
  },
  {
   "cell_type": "code",
   "execution_count": 49,
   "metadata": {
    "collapsed": false
   },
   "outputs": [
    {
     "data": {
      "image/png": "[encoded data removed]",
      "text/plain": [
       "<matplotlib.figure.Figure at 0x1ddc8048>"
      ]
     },
     "metadata": {},
     "output_type": "display_data"
    }
   ],
   "source": [
    "# Create correlation matrix for principal components and variables\n",
    "# pcs_train.index = X_train.index\n",
    "corrmat = pd.concat([pcs_train,X_train],axis=1,join='inner').corr()\n",
    "\n",
    "labels = ['PC1','PC2','PC3','PC4','PC5','PC6',\n",
    "         'preg', 'plas', 'pres', 'skin', 'insu', 'mass', 'pedi', 'age']\n",
    "column_labels = row_labels = labels\n",
    "\n",
    "fig, ax = plt.subplots()\n",
    "fig.set_figheight(10)\n",
    "fig.set_figwidth(10)\n",
    "plt.imshow(corrmat, interpolation='nearest', cmap=plt.cm.Blues)\n",
    "plt.colorbar()\n",
    "\n",
    "ax.set_xticks(np.arange(corrmat.shape[0]), minor=False)\n",
    "ax.set_yticks(np.arange(corrmat.shape[1]), minor=False)\n",
    "ax.set_xticklabels(row_labels, minor=False)\n",
    "ax.set_yticklabels(column_labels, minor=False)\n",
    "\n",
    "plt.show()"
   ]
  },
  {
   "cell_type": "markdown",
   "metadata": {},
   "source": [
    "Applying principal component analysis yields potentially significant gains in computational speed as we can retain 90% of the variance in the data while compressing the training data by 25%, from 8 column variables to 6. \n",
    "\n",
    "While this may yield efficiency gains further down the model pipeline, this will reduce explainability of the model as we see few obvious linear relationships (read correlations) between the principal components and the original prediction variables."
   ]
  },
  {
   "cell_type": "markdown",
   "metadata": {},
   "source": [
    "**Use the cluster outputs you got from running k-means as a new feature. Rerun your \"worst\" and \"best\" model from HW2, including this new feature along with your old features. Describe your results.**"
   ]
  },
  {
   "cell_type": "code",
   "execution_count": 50,
   "metadata": {
    "collapsed": false
   },
   "outputs": [
    {
     "data": {
      "text/html": [
       "<div>\n",
       "<table border=\"1\" class=\"dataframe\">\n",
       "  <thead>\n",
       "    <tr style=\"text-align: right;\">\n",
       "      <th></th>\n",
       "      <th>preg</th>\n",
       "      <th>plas</th>\n",
       "      <th>pres</th>\n",
       "      <th>skin</th>\n",
       "      <th>insu</th>\n",
       "      <th>mass</th>\n",
       "      <th>pedi</th>\n",
       "      <th>age</th>\n",
       "      <th>clstr</th>\n",
       "    </tr>\n",
       "  </thead>\n",
       "  <tbody>\n",
       "    <tr>\n",
       "      <th>0</th>\n",
       "      <td>0.343</td>\n",
       "      <td>-0.449</td>\n",
       "      <td>-0.032</td>\n",
       "      <td>1.699</td>\n",
       "      <td>-0.186</td>\n",
       "      <td>0.531</td>\n",
       "      <td>-0.631</td>\n",
       "      <td>-0.020</td>\n",
       "      <td>4</td>\n",
       "    </tr>\n",
       "    <tr>\n",
       "      <th>1</th>\n",
       "      <td>-0.548</td>\n",
       "      <td>-0.646</td>\n",
       "      <td>1.126</td>\n",
       "      <td>0.940</td>\n",
       "      <td>0.240</td>\n",
       "      <td>1.899</td>\n",
       "      <td>-1.042</td>\n",
       "      <td>-0.871</td>\n",
       "      <td>4</td>\n",
       "    </tr>\n",
       "    <tr>\n",
       "      <th>2</th>\n",
       "      <td>0.046</td>\n",
       "      <td>1.195</td>\n",
       "      <td>0.464</td>\n",
       "      <td>-0.470</td>\n",
       "      <td>-0.608</td>\n",
       "      <td>0.065</td>\n",
       "      <td>1.000</td>\n",
       "      <td>-0.191</td>\n",
       "      <td>3</td>\n",
       "    </tr>\n",
       "    <tr>\n",
       "      <th>3</th>\n",
       "      <td>-0.251</td>\n",
       "      <td>-0.317</td>\n",
       "      <td>0.133</td>\n",
       "      <td>0.289</td>\n",
       "      <td>-0.608</td>\n",
       "      <td>-0.124</td>\n",
       "      <td>-0.830</td>\n",
       "      <td>-0.701</td>\n",
       "      <td>4</td>\n",
       "    </tr>\n",
       "    <tr>\n",
       "      <th>4</th>\n",
       "      <td>-0.845</td>\n",
       "      <td>0.011</td>\n",
       "      <td>-0.694</td>\n",
       "      <td>0.506</td>\n",
       "      <td>0.582</td>\n",
       "      <td>0.386</td>\n",
       "      <td>0.665</td>\n",
       "      <td>-0.276</td>\n",
       "      <td>4</td>\n",
       "    </tr>\n",
       "  </tbody>\n",
       "</table>\n",
       "</div>"
      ],
      "text/plain": [
       "    preg   plas   pres   skin   insu   mass   pedi    age  clstr\n",
       "0  0.343 -0.449 -0.032  1.699 -0.186  0.531 -0.631 -0.020      4\n",
       "1 -0.548 -0.646  1.126  0.940  0.240  1.899 -1.042 -0.871      4\n",
       "2  0.046  1.195  0.464 -0.470 -0.608  0.065  1.000 -0.191      3\n",
       "3 -0.251 -0.317  0.133  0.289 -0.608 -0.124 -0.830 -0.701      4\n",
       "4 -0.845  0.011 -0.694  0.506  0.582  0.386  0.665 -0.276      4"
      ]
     },
     "execution_count": 50,
     "metadata": {},
     "output_type": "execute_result"
    }
   ],
   "source": [
    "# Add clusters to existing X_train dataframe\n",
    "X_train_cls = X_train.copy()\n",
    "X_train_cls['clstr'] = pd.Series(cluster_labels)\n",
    "X_train_cls.head()"
   ]
  },
  {
   "cell_type": "code",
   "execution_count": 51,
   "metadata": {
    "collapsed": false
   },
   "outputs": [
    {
     "data": {
      "text/html": [
       "<div>\n",
       "<table border=\"1\" class=\"dataframe\">\n",
       "  <thead>\n",
       "    <tr style=\"text-align: right;\">\n",
       "      <th></th>\n",
       "      <th>preg</th>\n",
       "      <th>plas</th>\n",
       "      <th>pres</th>\n",
       "      <th>skin</th>\n",
       "      <th>insu</th>\n",
       "      <th>mass</th>\n",
       "      <th>pedi</th>\n",
       "      <th>age</th>\n",
       "      <th>clstr</th>\n",
       "    </tr>\n",
       "  </thead>\n",
       "  <tbody>\n",
       "    <tr>\n",
       "      <th>353</th>\n",
       "      <td>-0.845</td>\n",
       "      <td>-1.041</td>\n",
       "      <td>-0.859</td>\n",
       "      <td>-1.663</td>\n",
       "      <td>-0.490</td>\n",
       "      <td>-0.764</td>\n",
       "      <td>0.327</td>\n",
       "      <td>-0.786</td>\n",
       "      <td>0</td>\n",
       "    </tr>\n",
       "    <tr>\n",
       "      <th>236</th>\n",
       "      <td>0.937</td>\n",
       "      <td>1.951</td>\n",
       "      <td>0.961</td>\n",
       "      <td>-0.687</td>\n",
       "      <td>0.923</td>\n",
       "      <td>0.502</td>\n",
       "      <td>0.345</td>\n",
       "      <td>1.511</td>\n",
       "      <td>3</td>\n",
       "    </tr>\n",
       "    <tr>\n",
       "      <th>323</th>\n",
       "      <td>2.719</td>\n",
       "      <td>0.998</td>\n",
       "      <td>1.457</td>\n",
       "      <td>0.614</td>\n",
       "      <td>-0.622</td>\n",
       "      <td>-0.822</td>\n",
       "      <td>0.783</td>\n",
       "      <td>0.830</td>\n",
       "      <td>3</td>\n",
       "    </tr>\n",
       "    <tr>\n",
       "      <th>98</th>\n",
       "      <td>0.640</td>\n",
       "      <td>-0.942</td>\n",
       "      <td>-1.852</td>\n",
       "      <td>0.289</td>\n",
       "      <td>-0.291</td>\n",
       "      <td>-0.546</td>\n",
       "      <td>-0.350</td>\n",
       "      <td>-0.871</td>\n",
       "      <td>0</td>\n",
       "    </tr>\n",
       "    <tr>\n",
       "      <th>701</th>\n",
       "      <td>0.640</td>\n",
       "      <td>0.110</td>\n",
       "      <td>0.464</td>\n",
       "      <td>0.397</td>\n",
       "      <td>-0.608</td>\n",
       "      <td>-0.706</td>\n",
       "      <td>0.281</td>\n",
       "      <td>1.341</td>\n",
       "      <td>3</td>\n",
       "    </tr>\n",
       "  </tbody>\n",
       "</table>\n",
       "</div>"
      ],
      "text/plain": [
       "      preg   plas   pres   skin   insu   mass   pedi    age  clstr\n",
       "353 -0.845 -1.041 -0.859 -1.663 -0.490 -0.764  0.327 -0.786      0\n",
       "236  0.937  1.951  0.961 -0.687  0.923  0.502  0.345  1.511      3\n",
       "323  2.719  0.998  1.457  0.614 -0.622 -0.822  0.783  0.830      3\n",
       "98   0.640 -0.942 -1.852  0.289 -0.291 -0.546 -0.350 -0.871      0\n",
       "701  0.640  0.110  0.464  0.397 -0.608 -0.706  0.281  1.341      3"
      ]
     },
     "execution_count": 51,
     "metadata": {},
     "output_type": "execute_result"
    }
   ],
   "source": [
    "X_test_cls = X_test.copy()\n",
    "X_test_cls['clstr'] = km_train.predict(X_test)\n",
    "X_test_cls.head()"
   ]
  },
  {
   "cell_type": "markdown",
   "metadata": {},
   "source": [
    "Test kNN using 11 neighbors as \"best\" model from Homework 2 with the same GridSearch-ed parameters."
   ]
  },
  {
   "cell_type": "code",
   "execution_count": 52,
   "metadata": {
    "collapsed": false
   },
   "outputs": [
    {
     "name": "stdout",
     "output_type": "stream",
     "text": [
      "100 loops, best of 3: 3.99 ms per loop\n"
     ]
    }
   ],
   "source": [
    "%%%timeit\n",
    "# Initialize chosen \"best model\" from Homework 2 with and without clusters\n",
    "knn_orig = KNeighborsClassifier(n_neighbors=11, weights='uniform', p=1)\n",
    "knn_orig.fit(X_train, y_train)\n",
    "knn_orig.predict(X_test)"
   ]
  },
  {
   "cell_type": "code",
   "execution_count": 53,
   "metadata": {
    "collapsed": false
   },
   "outputs": [
    {
     "data": {
      "text/plain": [
       "KNeighborsClassifier(algorithm='auto', leaf_size=30, metric='minkowski',\n",
       "           metric_params=None, n_jobs=1, n_neighbors=11, p=1,\n",
       "           weights='uniform')"
      ]
     },
     "execution_count": 53,
     "metadata": {},
     "output_type": "execute_result"
    }
   ],
   "source": [
    "knn_orig = KNeighborsClassifier(n_neighbors=11, weights='uniform', p=1)\n",
    "knn_orig.fit(X_train, y_train)"
   ]
  },
  {
   "cell_type": "code",
   "execution_count": 54,
   "metadata": {
    "collapsed": false
   },
   "outputs": [
    {
     "name": "stdout",
     "output_type": "stream",
     "text": [
      "100 loops, best of 3: 4.25 ms per loop\n"
     ]
    }
   ],
   "source": [
    "%%%timeit\n",
    "# Initialize the knn with the cluster-augmented data\n",
    "knn = KNeighborsClassifier(n_neighbors=11, weights='uniform', p=1)\n",
    "knn.fit(X_train_cls, y_train)\n",
    "knn.predict(X_test_cls)"
   ]
  },
  {
   "cell_type": "code",
   "execution_count": 55,
   "metadata": {
    "collapsed": false
   },
   "outputs": [
    {
     "data": {
      "text/plain": [
       "KNeighborsClassifier(algorithm='auto', leaf_size=30, metric='minkowski',\n",
       "           metric_params=None, n_jobs=1, n_neighbors=11, p=1,\n",
       "           weights='uniform')"
      ]
     },
     "execution_count": 55,
     "metadata": {},
     "output_type": "execute_result"
    }
   ],
   "source": [
    "knn = KNeighborsClassifier(n_neighbors=11, weights='uniform', p=1)\n",
    "knn.fit(X_train_cls, y_train)"
   ]
  },
  {
   "cell_type": "markdown",
   "metadata": {},
   "source": [
    "Oserve the marginal speed loss for the additional feature."
   ]
  },
  {
   "cell_type": "markdown",
   "metadata": {},
   "source": [
    "Find predicted cluster centers of the X_test data before assessing performance."
   ]
  },
  {
   "cell_type": "code",
   "execution_count": 56,
   "metadata": {
    "collapsed": false
   },
   "outputs": [
    {
     "name": "stdout",
     "output_type": "stream",
     "text": [
      "Prediction accuracy of original kNN model with 11 neighbors = 77.27%\n",
      "Prediction accuracy of 11 neighbor kNN model augmented with cluster labels = 75.32%\n"
     ]
    }
   ],
   "source": [
    "print \"Prediction accuracy of original kNN model with 11 neighbors = %.2f%%\" % (\n",
    "    knn_orig.score(X_test, y_test)*100)\n",
    "\n",
    "print \"Prediction accuracy of 11 neighbor kNN model augmented with cluster labels = %.2f%%\" % (\n",
    "    knn.score(X_test_cls, y_test)*100)"
   ]
  },
  {
   "cell_type": "markdown",
   "metadata": {},
   "source": [
    "Using the cluster centers does not add tremendously to the predictive accuracy of the nearest neighbors model employed in project 2."
   ]
  },
  {
   "cell_type": "code",
   "execution_count": 57,
   "metadata": {
    "collapsed": false
   },
   "outputs": [
    {
     "name": "stdout",
     "output_type": "stream",
     "text": [
      "Original kNN model:\n",
      "Precision = 56.14%, recall = 76.19%, f1 score = 64.65%.\n",
      "\n",
      "Clustered kNN model:\n",
      "Precision = 52.63%, recall = 73.17%, f1 score = 61.22%.\n"
     ]
    }
   ],
   "source": [
    "# Assess other metrics of performance\n",
    "y_pred_orig = knn_orig.predict(X_test)\n",
    "y_pred = knn.predict(X_test_cls)\n",
    "\n",
    "precision_recall_fscore_support(y_test, y_pred, average='binary')    \n",
    "\n",
    "print \"Original kNN model:\\nPrecision = %.2f%%, recall = %.2f%%, f1 score = %.2f%%.\" % (\n",
    "        precision_recall_fscore_support(y_pred_orig, y_test, average='binary')[0]*100,\n",
    "        precision_recall_fscore_support(y_pred_orig, y_test, average='binary')[1]*100,\n",
    "        precision_recall_fscore_support(y_pred_orig, y_test, average='binary')[2]*100)\n",
    "\n",
    "print \"\\nClustered kNN model:\\nPrecision = %.2f%%, recall = %.2f%%, f1 score = %.2f%%.\" % (\n",
    "        precision_recall_fscore_support(y_pred, y_test, average='binary')[0]*100,\n",
    "        precision_recall_fscore_support(y_pred, y_test, average='binary')[1]*100,\n",
    "        precision_recall_fscore_support(y_pred, y_test, average='binary')[2]*100)"
   ]
  },
  {
   "cell_type": "markdown",
   "metadata": {},
   "source": [
    "Adding the cluster variable does appear, however, to have notable effect on precision and while leaving recall largely unchanged and therfore f1 score. ***It is important to note that, when running the same analysis with a 75/25 split rather than 80/20, adding the cluster variable actually diminished performance in regard to prediction accuracy and recall/f1 sore.*** This may result from having too few samples in each cluster.\n",
    "\n",
    "Now try reapplying the GridSearch."
   ]
  },
  {
   "cell_type": "code",
   "execution_count": 82,
   "metadata": {
    "collapsed": false
   },
   "outputs": [
    {
     "name": "stdout",
     "output_type": "stream",
     "text": [
      "{'n_neighbors': 12, 'weights': 'distance', 'p': 2}\n"
     ]
    }
   ],
   "source": [
    "knn = KNeighborsClassifier()\n",
    "parameters = {'n_neighbors': range(1,20), 'weights': ['uniform', 'distance'],\n",
    "             'p': range(1,3)}\n",
    "clf = GridSearchCV(knn, parameters, cv=cv)\n",
    "\n",
    "clf.fit(X_train_cls, y_train)\n",
    "best_knn = clf.best_estimator_\n",
    "\n",
    "print clf.best_params_"
   ]
  },
  {
   "cell_type": "code",
   "execution_count": 83,
   "metadata": {
    "collapsed": false
   },
   "outputs": [
    {
     "name": "stdout",
     "output_type": "stream",
     "text": [
      "Prediction accuracy of the new kNN model with 12 neighbors = 75.32%,\n",
      "while we observe precision = 52.63%, recall = 73.17% and f1 score = 61.22%.\n"
     ]
    }
   ],
   "source": [
    "# Compare accuracy of the models\n",
    "y_pred_test = None\n",
    "y_pred_test = best_knn.predict(X_test_cls)\n",
    "print \"Prediction accuracy of the new kNN model with %d neighbors = %.2f%%,\" % (\n",
    "    pd.Series(clf.best_params_)[0], best_knn.score(X_test_cls, y_test)*100)\n",
    "print \"while we observe precision = %.2f%%, recall = %.2f%% and f1 score = %.2f%%.\" % (\n",
    "        precision_recall_fscore_support(y_pred_test, y_test, average='binary')[0]*100,\n",
    "        precision_recall_fscore_support(y_pred_test, y_test, average='binary')[1]*100,\n",
    "        precision_recall_fscore_support(y_pred_test, y_test, average='binary')[2]*100)"
   ]
  },
  {
   "cell_type": "markdown",
   "metadata": {},
   "source": [
    "***The effect of the cluster variable seems largely dependent on the sampling. While running the analysis will sometimes show the cluster variable adversely affecting performance by most metrics, other samplings will show the cluster variable sharply improving recall or precision.***\n",
    "\n",
    "In my first analysis, adding the cluster recall at the expense of precision, with a marginal increase in the f1 score. While not a definite improvement, the directional gains are alligned with our objectives, as it would seem more prudent to allow a greater type 1 error over type 2 error - i.e. false positives (false diabetes diagnosis) are better than false negatives (leaving patients untreated)."
   ]
  },
  {
   "cell_type": "markdown",
   "metadata": {},
   "source": [
    "Test Gaussian Naive Bayes model as \"worst\" model from Homework 2.\n",
    "\n",
    "*Note: precision_recall_fscore of the Homework 2 GNB model was (0.657, 0.657, 0.657).*"
   ]
  },
  {
   "cell_type": "code",
   "execution_count": 60,
   "metadata": {
    "collapsed": false
   },
   "outputs": [],
   "source": [
    "# Initialize Gaussian NB\n",
    "from sklearn.naive_bayes import GaussianNB\n",
    "gnb_orig = GaussianNB()\n",
    "gnb = GaussianNB()"
   ]
  },
  {
   "cell_type": "code",
   "execution_count": 61,
   "metadata": {
    "collapsed": false
   },
   "outputs": [
    {
     "name": "stdout",
     "output_type": "stream",
     "text": [
      "1000 loops, best of 3: 1.11 ms per loop\n"
     ]
    }
   ],
   "source": [
    "%%%timeit\n",
    "gnb = GaussianNB()\n",
    "nb = gnb.fit(X_train_cls, y_train)\n",
    "y_pred_train = nb.predict(X_test_cls)\n",
    "y_pred_test = nb.predict(X_test_cls)"
   ]
  },
  {
   "cell_type": "code",
   "execution_count": 62,
   "metadata": {
    "collapsed": false
   },
   "outputs": [
    {
     "data": {
      "text/plain": [
       "(154, 8)"
      ]
     },
     "execution_count": 62,
     "metadata": {},
     "output_type": "execute_result"
    }
   ],
   "source": [
    "X_test.shape"
   ]
  },
  {
   "cell_type": "code",
   "execution_count": 63,
   "metadata": {
    "collapsed": false
   },
   "outputs": [
    {
     "name": "stdout",
     "output_type": "stream",
     "text": [
      "This 'bad' model yields prediction accuracy on training data of 74.10% while achieving\n",
      " prediction accuracy of 73.78% when adding clusters.\n",
      "\n",
      "The model achieves prediction accuracy on the test data of 74.68% and 74.03%\n",
      " when including clusters.\n"
     ]
    }
   ],
   "source": [
    "# Initialize models\n",
    "nb_orig_model = gnb_orig.fit(X_train, y_train)\n",
    "nb_model = gnb.fit(X_train_cls, y_train)\n",
    "\n",
    "# Reset prediction variables\n",
    "y_orig_pred_train = y_orig_pred_test = y_pred_train = y_pred_test = None\n",
    "\n",
    "# Calculate predictions for train and test data\n",
    "y_orig_pred_train = nb_orig_model.predict(X_train)\n",
    "y_orig_pred_test = nb_orig_model.predict(X_test)\n",
    "\n",
    "y_pred_train = nb_model.predict(X_train_cls)\n",
    "y_pred_test = nb_model.predict(X_test_cls)\n",
    "\n",
    "print \"This 'bad' model yields prediction accuracy on training data of\",\\\n",
    "      \"%.2f%% while achieving\\n prediction accuracy of %.2f%% when adding clusters.\" % (\n",
    "    nb_orig_model.score(X_train, y_train)*100, nb_model.score(X_train_cls, y_train)*100)\n",
    "\n",
    "print \"\\nThe model achieves prediction accuracy on the test data of\",\\\n",
    "    \"%.2f%% and %.2f%%\\n when including clusters.\" % (\n",
    "        nb_orig_model.score(X_test, y_test)*100,nb_model.score(X_test_cls, y_test)*100)"
   ]
  },
  {
   "cell_type": "code",
   "execution_count": 64,
   "metadata": {
    "collapsed": false,
    "scrolled": true
   },
   "outputs": [
    {
     "name": "stdout",
     "output_type": "stream",
     "text": [
      "The original GNB model without clustering yields precision of 64.91%, recall of 66.07% and an f1 score of 65.49%.\n",
      "\n",
      "The GNB model using the clustering variable yields precision of 70.18%, recall of 63.49% and an f1 score of 66.67%.\n"
     ]
    }
   ],
   "source": [
    "print \"The original GNB model without clustering yields precision of\",\\\n",
    "      \"%.2f%%, recall of %.2f%% and an f1 score of %.2f%%.\" % (\n",
    "        precision_recall_fscore_support(y_orig_pred_test, y_test, average='binary')[0]*100,\n",
    "        precision_recall_fscore_support(y_orig_pred_test, y_test, average='binary')[1]*100,\n",
    "        precision_recall_fscore_support(y_orig_pred_test, y_test, average='binary')[2]*100)\n",
    "\n",
    "print \"\\nThe GNB model using the clustering variable yields precision of\",\\\n",
    "      \"%.2f%%, recall of %.2f%% and an f1 score of %.2f%%.\" % (\n",
    "        precision_recall_fscore_support(y_pred_test, y_test, average='binary')[0]*100,\n",
    "        precision_recall_fscore_support(y_pred_test, y_test, average='binary')[1]*100,\n",
    "        precision_recall_fscore_support(y_pred_test, y_test, average='binary')[2]*100)"
   ]
  },
  {
   "cell_type": "markdown",
   "metadata": {},
   "source": [
    "While the Gaussian Naive Bayes algorithm seemed to be the laggard of the algorithms tested in Homework 2, when used in conjunction with the clustering, the GNB model outperforms the nearest neighbors model in terms of accuracy, recall, and f1 score, while essentially matching in terms of precision."
   ]
  },
  {
   "cell_type": "markdown",
   "metadata": {},
   "source": [
    "**Use the PCA outputs you got from running PCA above as your features. Rerun your \"worst\" and \"best\" model from HW2, with the PCA features instead of your old features. Describe your results.**"
   ]
  },
  {
   "cell_type": "markdown",
   "metadata": {},
   "source": [
    "Test refit Nearest Neighbors model using principal components."
   ]
  },
  {
   "cell_type": "code",
   "execution_count": 65,
   "metadata": {
    "collapsed": true
   },
   "outputs": [],
   "source": [
    "# Apply pca_train() mapping onto the test data\n",
    "pcs_test = pd.DataFrame(pca_train.transform(X_test))"
   ]
  },
  {
   "cell_type": "code",
   "execution_count": 66,
   "metadata": {
    "collapsed": false
   },
   "outputs": [
    {
     "name": "stdout",
     "output_type": "stream",
     "text": [
      "100 loops, best of 3: 3.86 ms per loop\n"
     ]
    }
   ],
   "source": [
    "%%%timeit\n",
    "# Fit GridSearch model on PCA training data\n",
    "best_knn.fit(pcs_train, y_train)\n",
    "# Predict using kNN on PCs of X_test\n",
    "y_pred_test = best_knn.predict(pcs_test)"
   ]
  },
  {
   "cell_type": "code",
   "execution_count": 67,
   "metadata": {
    "collapsed": false
   },
   "outputs": [
    {
     "name": "stdout",
     "output_type": "stream",
     "text": [
      "Prediction accuracy of the new kNN model is 78.57% on the test data\n",
      "while we observe precision = 70.18%, recall = 63.49% and f1 score = 66.67%.\n"
     ]
    }
   ],
   "source": [
    "print \"Prediction accuracy of the new kNN model is %.2f%% on the test data\" % (\n",
    "    best_knn.score(pcs_test, y_test)*100)\n",
    "print \"while we observe precision = %.2f%%, recall = %.2f%% and f1 score = %.2f%%.\" % (\n",
    "        precision_recall_fscore_support(y_pred_test, y_test, average='binary')[0]*100,\n",
    "        precision_recall_fscore_support(y_pred_test, y_test, average='binary')[1]*100,\n",
    "        precision_recall_fscore_support(y_pred_test, y_test, average='binary')[2]*100)"
   ]
  },
  {
   "cell_type": "markdown",
   "metadata": {},
   "source": [
    "Test GNB model using principal components."
   ]
  },
  {
   "cell_type": "code",
   "execution_count": 68,
   "metadata": {
    "collapsed": false
   },
   "outputs": [
    {
     "name": "stdout",
     "output_type": "stream",
     "text": [
      "The slowest run took 5.12 times longer than the fastest. This could mean that an intermediate result is being cached \n",
      "1000 loops, best of 3: 1.09 ms per loop\n"
     ]
    }
   ],
   "source": [
    "%%%timeit\n",
    "gnb = GaussianNB()\n",
    "nb_model2 = gnb.fit(pcs_train, y_train)\n",
    "y_pred_train = nb_model2.predict(pcs_train)\n",
    "y_pred_test = nb_model2.predict(pcs_test)"
   ]
  },
  {
   "cell_type": "code",
   "execution_count": 69,
   "metadata": {
    "collapsed": true
   },
   "outputs": [],
   "source": [
    "gnb = GaussianNB()\n",
    "nb_model2 = gnb.fit(pcs_train, y_train)\n",
    "y_pred_train = nb_model2.predict(pcs_train)\n",
    "y_pred_test = nb_model2.predict(pcs_test)"
   ]
  },
  {
   "cell_type": "code",
   "execution_count": 70,
   "metadata": {
    "collapsed": false
   },
   "outputs": [
    {
     "name": "stdout",
     "output_type": "stream",
     "text": [
      "This 'bad' model yields prediction accuracy on training data of 75.57%.\n",
      "and prediction accuracy on the test data of 74.03%.\n"
     ]
    }
   ],
   "source": [
    "print \"This 'bad' model yields prediction accuracy on training data of %.2f%%.\" % (\n",
    "    nb_model2.score(pcs_train, y_train)*100)\n",
    "\n",
    "print \"and prediction accuracy on the test data of %.2f%%.\" % (\n",
    "    nb_model2.score(pcs_test, y_test)*100)"
   ]
  },
  {
   "cell_type": "code",
   "execution_count": 71,
   "metadata": {
    "collapsed": false
   },
   "outputs": [
    {
     "name": "stdout",
     "output_type": "stream",
     "text": [
      "The GNB model using 6 principal components yields precision of 61.40%, recall of 66.04% and an f1 score of 63.64%.\n"
     ]
    }
   ],
   "source": [
    "print \"The GNB model using 6 principal components yields precision of\",\\\n",
    "      \"%.2f%%, recall of %.2f%% and an f1 score of %.2f%%.\" % (\n",
    "        precision_recall_fscore_support(y_pred_test, y_test, average='binary')[0]*100,\n",
    "        precision_recall_fscore_support(y_pred_test, y_test, average='binary')[1]*100,\n",
    "        precision_recall_fscore_support(y_pred_test, y_test, average='binary')[2]*100)"
   ]
  },
  {
   "cell_type": "markdown",
   "metadata": {},
   "source": [
    "**Give your conclusions on the use of k-Means and PCA on the Diabetes dataset**"
   ]
  },
  {
   "cell_type": "markdown",
   "metadata": {},
   "source": [
    "***Gains using PCA***\n",
    "\n",
    "- While kNN yields significant gains in run-time when training on pricipal components, this does not appear to be the case for Naive Bayes, where run-time is roughly unchanged (or even increased!)\n",
    "- Especially with kNN, performance metrics - e.g. prediction accuracy, precision, recall - appear roughly unchanged when using principal component data \n",
    "\n",
    "***Change in performance when using clusters***\n",
    "\n",
    "- Adding clusters only seems to marginally affect perforance for kNN, while providing much more noticeable performance tailwinds for the Gaussian Naive Bayes, boosting prediction accuracy by 4% and f1 score by 5%\n",
    "\n",
    "***Effect of Sampling***\n",
    "\n",
    "- Performing this analysis without defining a random state in the sampling caused analysis to be inconsistent and sometimes even contradictory, as different sample compositions lead to completely different conclusions with respect to the best model\n",
    "- This seems to be the case also with clustering, as clusters can shift materially both in response to sampling of the training data and the initial cluster centers"
   ]
  }
 ],
 "metadata": {
  "kernelspec": {
   "display_name": "Python 2",
   "language": "python",
   "name": "python2"
  },
  "language_info": {
   "codemirror_mode": {
    "name": "ipython",
    "version": 2
   },
   "file_extension": ".py",
   "mimetype": "text/x-python",
   "name": "python",
   "nbconvert_exporter": "python",
   "pygments_lexer": "ipython2",
   "version": "2.7.11"
  }
 },
 "nbformat": 4,
 "nbformat_minor": 0
}
