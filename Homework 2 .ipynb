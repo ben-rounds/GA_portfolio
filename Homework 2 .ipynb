{
 "cells": [
  {
   "cell_type": "markdown",
   "metadata": {},
   "source": [
    "# Homework 2: Supervised Learning\n",
    "\n",
    "\n",
    "# Dataset: [Pima Indians Diabetes Dataset](https://archive.ics.uci.edu/ml/datasets/Pima+Indians+Diabetes)"
   ]
  },
  {
   "cell_type": "markdown",
   "metadata": {},
   "source": [
    "## Instructions: answer the following questions with data and visuals\n",
    "\n",
    "- Describe the content of the dataset and its goals\n",
    "- Describe the features and formulate a hypothesis on which might be relevant in predicting diabetes\n",
    "- Describe the missing/NULL values. Decide if you should impute or drop them and justify your choice.\n",
    "- Come up with a benchmark for the minimum performance that an algorithm should have on this dataset\n",
    "- What's the best performance you can get with kNN? Is kNN a good choice for this dataset?\n",
    "- What's the best performance you can get with Naive Bayes? Is NB a good choice for this dataset?\n",
    "- What's the best performance you can get with Logistic Regression? Is LR a good choice for this dataset?\n",
    "- What's the best performance you can get with Random Forest? Is RF a good choice for this dataset?\n",
    "- If you could only choose one, which classifer from the above that you already ran is best? How do you define best? (hint: could be prediction accuracy, running time, interpretability, etc)\n",
    "\n",
    "\n",
    "## Note: you should know by now, but here is the order of importance:\n",
    "\n",
    "- Your analysis (there is no \"right\" answer, only good and bad defense of it)\n",
    "- Your visuals\n",
    "- Your coding implementation\n"
   ]
  },
  {
   "cell_type": "code",
   "execution_count": 298,
   "metadata": {
    "collapsed": true
   },
   "outputs": [],
   "source": [
    "import pandas as pd\n",
    "import numpy as np\n",
    "import matplotlib.pyplot as plt\n",
    "%matplotlib inline"
   ]
  },
  {
   "cell_type": "code",
   "execution_count": 299,
   "metadata": {
    "collapsed": false
   },
   "outputs": [
    {
     "data": {
      "text/html": [
       "<div>\n",
       "<table border=\"1\" class=\"dataframe\">\n",
       "  <thead>\n",
       "    <tr style=\"text-align: right;\">\n",
       "      <th></th>\n",
       "      <th>preg</th>\n",
       "      <th>plas</th>\n",
       "      <th>pres</th>\n",
       "      <th>skin</th>\n",
       "      <th>insu</th>\n",
       "      <th>mass</th>\n",
       "      <th>pedi</th>\n",
       "      <th>age</th>\n",
       "      <th>class</th>\n",
       "    </tr>\n",
       "  </thead>\n",
       "  <tbody>\n",
       "    <tr>\n",
       "      <th>0</th>\n",
       "      <td>6</td>\n",
       "      <td>148</td>\n",
       "      <td>72</td>\n",
       "      <td>35</td>\n",
       "      <td>0</td>\n",
       "      <td>33.6</td>\n",
       "      <td>0.627</td>\n",
       "      <td>50</td>\n",
       "      <td>1</td>\n",
       "    </tr>\n",
       "    <tr>\n",
       "      <th>1</th>\n",
       "      <td>1</td>\n",
       "      <td>85</td>\n",
       "      <td>66</td>\n",
       "      <td>29</td>\n",
       "      <td>0</td>\n",
       "      <td>26.6</td>\n",
       "      <td>0.351</td>\n",
       "      <td>31</td>\n",
       "      <td>0</td>\n",
       "    </tr>\n",
       "    <tr>\n",
       "      <th>2</th>\n",
       "      <td>8</td>\n",
       "      <td>183</td>\n",
       "      <td>64</td>\n",
       "      <td>0</td>\n",
       "      <td>0</td>\n",
       "      <td>23.3</td>\n",
       "      <td>0.672</td>\n",
       "      <td>32</td>\n",
       "      <td>1</td>\n",
       "    </tr>\n",
       "    <tr>\n",
       "      <th>3</th>\n",
       "      <td>1</td>\n",
       "      <td>89</td>\n",
       "      <td>66</td>\n",
       "      <td>23</td>\n",
       "      <td>94</td>\n",
       "      <td>28.1</td>\n",
       "      <td>0.167</td>\n",
       "      <td>21</td>\n",
       "      <td>0</td>\n",
       "    </tr>\n",
       "    <tr>\n",
       "      <th>4</th>\n",
       "      <td>0</td>\n",
       "      <td>137</td>\n",
       "      <td>40</td>\n",
       "      <td>35</td>\n",
       "      <td>168</td>\n",
       "      <td>43.1</td>\n",
       "      <td>2.288</td>\n",
       "      <td>33</td>\n",
       "      <td>1</td>\n",
       "    </tr>\n",
       "  </tbody>\n",
       "</table>\n",
       "</div>"
      ],
      "text/plain": [
       "   preg  plas  pres  skin  insu  mass   pedi  age  class\n",
       "0     6   148    72    35     0  33.6  0.627   50      1\n",
       "1     1    85    66    29     0  26.6  0.351   31      0\n",
       "2     8   183    64     0     0  23.3  0.672   32      1\n",
       "3     1    89    66    23    94  28.1  0.167   21      0\n",
       "4     0   137    40    35   168  43.1  2.288   33      1"
      ]
     },
     "execution_count": 299,
     "metadata": {},
     "output_type": "execute_result"
    }
   ],
   "source": [
    "# Step 1: load data\n",
    "\n",
    "NA_data = pd.read_csv('https://archive.ics.uci.edu/ml/machine-learning-databases/pima-indians-diabetes/pima-indians-diabetes.data',\n",
    "                    sep = \",\", header = None)\n",
    "\n",
    "colnames =  ['preg', 'plas', 'pres', 'skin', 'insu', 'mass', 'pedi', 'age', 'class']\n",
    "\n",
    "NA_data\n",
    "NA_data.columns = colnames\n",
    "NA_data.head()"
   ]
  },
  {
   "cell_type": "markdown",
   "metadata": {},
   "source": [
    "# Describe the contents of the dataset and it's goals\n",
    "- The dataset describes females at least 21 years of age pf Pima Indian heritage\n",
    "- The first 8 columns contain descriptive information about the population\n",
    "- The 9th column 'class' contains a binary-valued prediction variable as to whether the subject in question may or may not have diabetes (this original prediction using a 75/25 training/testing split had 76% accuracy)"
   ]
  },
  {
   "cell_type": "markdown",
   "metadata": {},
   "source": [
    "# Describe the features and formulate a hypothesis on which might be relevant in predicting diabetes\n",
    "- From my remedial education regarding factors that correlate with diabetes, I assume the factors plasma glucose concentration (plas), diastolic BP (pres), BMI (mass), diabetes pedigree function (pedi) and age may all have some explanatory power on the subject having diabetes\n",
    "- It may very well be the case that all of these variables are relevant metrics by which to predict the instance of diabetes; in this case, the question will be to effectively weight the various characteristics in the most effective manner"
   ]
  },
  {
   "cell_type": "markdown",
   "metadata": {},
   "source": [
    "# Describe the missing/NULL values. Decide if you should impute or drop them and justify your choice."
   ]
  },
  {
   "cell_type": "code",
   "execution_count": 300,
   "metadata": {
    "collapsed": false,
    "scrolled": true
   },
   "outputs": [
    {
     "data": {
      "text/plain": [
       "preg     False\n",
       "plas     False\n",
       "pres     False\n",
       "skin     False\n",
       "insu     False\n",
       "mass     False\n",
       "pedi     False\n",
       "age      False\n",
       "class    False\n",
       "dtype: bool"
      ]
     },
     "execution_count": 300,
     "metadata": {},
     "output_type": "execute_result"
    }
   ],
   "source": [
    "# Check for missing data - appears to be no missing data\n",
    "NA_data.isnull().any()"
   ]
  },
  {
   "cell_type": "code",
   "execution_count": 301,
   "metadata": {
    "collapsed": false
   },
   "outputs": [
    {
     "data": {
      "text/html": [
       "<div>\n",
       "<table border=\"1\" class=\"dataframe\">\n",
       "  <thead>\n",
       "    <tr style=\"text-align: right;\">\n",
       "      <th></th>\n",
       "      <th>preg</th>\n",
       "      <th>plas</th>\n",
       "      <th>pres</th>\n",
       "      <th>skin</th>\n",
       "      <th>insu</th>\n",
       "      <th>mass</th>\n",
       "      <th>pedi</th>\n",
       "      <th>age</th>\n",
       "      <th>class</th>\n",
       "    </tr>\n",
       "  </thead>\n",
       "  <tbody>\n",
       "    <tr>\n",
       "      <th>count</th>\n",
       "      <td>768.000000</td>\n",
       "      <td>768.000000</td>\n",
       "      <td>768.000000</td>\n",
       "      <td>768.000000</td>\n",
       "      <td>768.000000</td>\n",
       "      <td>768.000000</td>\n",
       "      <td>768.000000</td>\n",
       "      <td>768.000000</td>\n",
       "      <td>768.000000</td>\n",
       "    </tr>\n",
       "    <tr>\n",
       "      <th>mean</th>\n",
       "      <td>3.845052</td>\n",
       "      <td>120.894531</td>\n",
       "      <td>69.105469</td>\n",
       "      <td>20.536458</td>\n",
       "      <td>79.799479</td>\n",
       "      <td>31.992578</td>\n",
       "      <td>0.471876</td>\n",
       "      <td>33.240885</td>\n",
       "      <td>0.348958</td>\n",
       "    </tr>\n",
       "    <tr>\n",
       "      <th>std</th>\n",
       "      <td>3.369578</td>\n",
       "      <td>31.972618</td>\n",
       "      <td>19.355807</td>\n",
       "      <td>15.952218</td>\n",
       "      <td>115.244002</td>\n",
       "      <td>7.884160</td>\n",
       "      <td>0.331329</td>\n",
       "      <td>11.760232</td>\n",
       "      <td>0.476951</td>\n",
       "    </tr>\n",
       "    <tr>\n",
       "      <th>min</th>\n",
       "      <td>0.000000</td>\n",
       "      <td>0.000000</td>\n",
       "      <td>0.000000</td>\n",
       "      <td>0.000000</td>\n",
       "      <td>0.000000</td>\n",
       "      <td>0.000000</td>\n",
       "      <td>0.078000</td>\n",
       "      <td>21.000000</td>\n",
       "      <td>0.000000</td>\n",
       "    </tr>\n",
       "    <tr>\n",
       "      <th>25%</th>\n",
       "      <td>1.000000</td>\n",
       "      <td>99.000000</td>\n",
       "      <td>62.000000</td>\n",
       "      <td>0.000000</td>\n",
       "      <td>0.000000</td>\n",
       "      <td>27.300000</td>\n",
       "      <td>0.243750</td>\n",
       "      <td>24.000000</td>\n",
       "      <td>0.000000</td>\n",
       "    </tr>\n",
       "    <tr>\n",
       "      <th>50%</th>\n",
       "      <td>3.000000</td>\n",
       "      <td>117.000000</td>\n",
       "      <td>72.000000</td>\n",
       "      <td>23.000000</td>\n",
       "      <td>30.500000</td>\n",
       "      <td>32.000000</td>\n",
       "      <td>0.372500</td>\n",
       "      <td>29.000000</td>\n",
       "      <td>0.000000</td>\n",
       "    </tr>\n",
       "    <tr>\n",
       "      <th>75%</th>\n",
       "      <td>6.000000</td>\n",
       "      <td>140.250000</td>\n",
       "      <td>80.000000</td>\n",
       "      <td>32.000000</td>\n",
       "      <td>127.250000</td>\n",
       "      <td>36.600000</td>\n",
       "      <td>0.626250</td>\n",
       "      <td>41.000000</td>\n",
       "      <td>1.000000</td>\n",
       "    </tr>\n",
       "    <tr>\n",
       "      <th>max</th>\n",
       "      <td>17.000000</td>\n",
       "      <td>199.000000</td>\n",
       "      <td>122.000000</td>\n",
       "      <td>99.000000</td>\n",
       "      <td>846.000000</td>\n",
       "      <td>67.100000</td>\n",
       "      <td>2.420000</td>\n",
       "      <td>81.000000</td>\n",
       "      <td>1.000000</td>\n",
       "    </tr>\n",
       "  </tbody>\n",
       "</table>\n",
       "</div>"
      ],
      "text/plain": [
       "             preg        plas        pres        skin        insu        mass  \\\n",
       "count  768.000000  768.000000  768.000000  768.000000  768.000000  768.000000   \n",
       "mean     3.845052  120.894531   69.105469   20.536458   79.799479   31.992578   \n",
       "std      3.369578   31.972618   19.355807   15.952218  115.244002    7.884160   \n",
       "min      0.000000    0.000000    0.000000    0.000000    0.000000    0.000000   \n",
       "25%      1.000000   99.000000   62.000000    0.000000    0.000000   27.300000   \n",
       "50%      3.000000  117.000000   72.000000   23.000000   30.500000   32.000000   \n",
       "75%      6.000000  140.250000   80.000000   32.000000  127.250000   36.600000   \n",
       "max     17.000000  199.000000  122.000000   99.000000  846.000000   67.100000   \n",
       "\n",
       "             pedi         age       class  \n",
       "count  768.000000  768.000000  768.000000  \n",
       "mean     0.471876   33.240885    0.348958  \n",
       "std      0.331329   11.760232    0.476951  \n",
       "min      0.078000   21.000000    0.000000  \n",
       "25%      0.243750   24.000000    0.000000  \n",
       "50%      0.372500   29.000000    0.000000  \n",
       "75%      0.626250   41.000000    1.000000  \n",
       "max      2.420000   81.000000    1.000000  "
      ]
     },
     "execution_count": 301,
     "metadata": {},
     "output_type": "execute_result"
    }
   ],
   "source": [
    "# Check for outliers\n",
    "NA_data.describe()"
   ]
  },
  {
   "cell_type": "markdown",
   "metadata": {},
   "source": [
    "- It appears missing data has been filled with zeroes, as can be inferred becaues plasma glucose concentratrion (plas), diastolic BP (pres), skin fold thickness (skin), and BMI (mass) cannot realistically achieve zero values\n",
    "- As several of these zero entries will bias means downward and otherwise skew data if we choose to normalize the variables, I think the most appropriate solution will be either to (1) replace these values with the median of the dataset or (2) drop rows with zero entries"
   ]
  },
  {
   "cell_type": "code",
   "execution_count": 302,
   "metadata": {
    "collapsed": false
   },
   "outputs": [
    {
     "name": "stdout",
     "output_type": "stream",
     "text": [
      "Shape of data before dropping missing rows:\n",
      "(768, 9)\n",
      "\n",
      "Shape of data after dropping missing rows:\n",
      "(392, 9)\n"
     ]
    }
   ],
   "source": [
    "# Drop rows where 'plas', 'pres', 'skin', 'insu' or 'mass' take zero values\n",
    "clean_data = NA_data.copy()\n",
    "print \"Shape of data before dropping missing rows:\"\n",
    "print clean_data.shape\n",
    "\n",
    "# Define columns over which to test the zero condition\n",
    "zerovars = clean_data[['plas', 'pres', 'skin', 'insu', 'mass']]\n",
    "\n",
    "# Create list denoting zero values in tested variables; subset over this\n",
    "zeros = np.any(zerovars == 0, axis=1)\n",
    "clean_data = clean_data.drop(clean_data.index[zeros])\n",
    "\n",
    "print \"\\nShape of data after dropping missing rows:\"\n",
    "print clean_data.shape"
   ]
  },
  {
   "cell_type": "markdown",
   "metadata": {},
   "source": [
    "Due to the large quantity of missing data, it seems the prudent solution is to impute missing datapoints with the median values."
   ]
  },
  {
   "cell_type": "code",
   "execution_count": 303,
   "metadata": {
    "collapsed": false
   },
   "outputs": [],
   "source": [
    "# Replace 0 values in the aforementioned columns with median\n",
    "medians = NA_data.apply(lambda col: col.median(), axis=0)\n",
    "data = NA_data.copy()\n",
    "\n",
    "missing_col = ['plas', 'pres', 'skin', 'insu', 'mass']\n",
    "for col in missing_col:\n",
    "    filler = NA_data[col].replace(0,medians[col])\n",
    "    data[col] = filler"
   ]
  },
  {
   "cell_type": "code",
   "execution_count": 304,
   "metadata": {
    "collapsed": false
   },
   "outputs": [
    {
     "data": {
      "text/html": [
       "<div>\n",
       "<table border=\"1\" class=\"dataframe\">\n",
       "  <thead>\n",
       "    <tr style=\"text-align: right;\">\n",
       "      <th></th>\n",
       "      <th>preg</th>\n",
       "      <th>plas</th>\n",
       "      <th>pres</th>\n",
       "      <th>skin</th>\n",
       "      <th>insu</th>\n",
       "      <th>mass</th>\n",
       "      <th>pedi</th>\n",
       "      <th>age</th>\n",
       "      <th>class</th>\n",
       "    </tr>\n",
       "  </thead>\n",
       "  <tbody>\n",
       "    <tr>\n",
       "      <th>count</th>\n",
       "      <td>768.000000</td>\n",
       "      <td>768.000000</td>\n",
       "      <td>768.000000</td>\n",
       "      <td>768.000000</td>\n",
       "      <td>768.000000</td>\n",
       "      <td>768.000000</td>\n",
       "      <td>768.000000</td>\n",
       "      <td>768.000000</td>\n",
       "      <td>768.000000</td>\n",
       "    </tr>\n",
       "    <tr>\n",
       "      <th>mean</th>\n",
       "      <td>3.845052</td>\n",
       "      <td>121.656250</td>\n",
       "      <td>72.386719</td>\n",
       "      <td>27.334635</td>\n",
       "      <td>94.652344</td>\n",
       "      <td>32.450911</td>\n",
       "      <td>0.471876</td>\n",
       "      <td>33.240885</td>\n",
       "      <td>0.348958</td>\n",
       "    </tr>\n",
       "    <tr>\n",
       "      <th>std</th>\n",
       "      <td>3.369578</td>\n",
       "      <td>30.438286</td>\n",
       "      <td>12.096642</td>\n",
       "      <td>9.229014</td>\n",
       "      <td>105.547598</td>\n",
       "      <td>6.875366</td>\n",
       "      <td>0.331329</td>\n",
       "      <td>11.760232</td>\n",
       "      <td>0.476951</td>\n",
       "    </tr>\n",
       "    <tr>\n",
       "      <th>min</th>\n",
       "      <td>0.000000</td>\n",
       "      <td>44.000000</td>\n",
       "      <td>24.000000</td>\n",
       "      <td>7.000000</td>\n",
       "      <td>14.000000</td>\n",
       "      <td>18.200000</td>\n",
       "      <td>0.078000</td>\n",
       "      <td>21.000000</td>\n",
       "      <td>0.000000</td>\n",
       "    </tr>\n",
       "    <tr>\n",
       "      <th>25%</th>\n",
       "      <td>1.000000</td>\n",
       "      <td>99.750000</td>\n",
       "      <td>64.000000</td>\n",
       "      <td>23.000000</td>\n",
       "      <td>30.500000</td>\n",
       "      <td>27.500000</td>\n",
       "      <td>0.243750</td>\n",
       "      <td>24.000000</td>\n",
       "      <td>0.000000</td>\n",
       "    </tr>\n",
       "    <tr>\n",
       "      <th>50%</th>\n",
       "      <td>3.000000</td>\n",
       "      <td>117.000000</td>\n",
       "      <td>72.000000</td>\n",
       "      <td>23.000000</td>\n",
       "      <td>31.250000</td>\n",
       "      <td>32.000000</td>\n",
       "      <td>0.372500</td>\n",
       "      <td>29.000000</td>\n",
       "      <td>0.000000</td>\n",
       "    </tr>\n",
       "    <tr>\n",
       "      <th>75%</th>\n",
       "      <td>6.000000</td>\n",
       "      <td>140.250000</td>\n",
       "      <td>80.000000</td>\n",
       "      <td>32.000000</td>\n",
       "      <td>127.250000</td>\n",
       "      <td>36.600000</td>\n",
       "      <td>0.626250</td>\n",
       "      <td>41.000000</td>\n",
       "      <td>1.000000</td>\n",
       "    </tr>\n",
       "    <tr>\n",
       "      <th>max</th>\n",
       "      <td>17.000000</td>\n",
       "      <td>199.000000</td>\n",
       "      <td>122.000000</td>\n",
       "      <td>99.000000</td>\n",
       "      <td>846.000000</td>\n",
       "      <td>67.100000</td>\n",
       "      <td>2.420000</td>\n",
       "      <td>81.000000</td>\n",
       "      <td>1.000000</td>\n",
       "    </tr>\n",
       "  </tbody>\n",
       "</table>\n",
       "</div>"
      ],
      "text/plain": [
       "             preg        plas        pres        skin        insu        mass  \\\n",
       "count  768.000000  768.000000  768.000000  768.000000  768.000000  768.000000   \n",
       "mean     3.845052  121.656250   72.386719   27.334635   94.652344   32.450911   \n",
       "std      3.369578   30.438286   12.096642    9.229014  105.547598    6.875366   \n",
       "min      0.000000   44.000000   24.000000    7.000000   14.000000   18.200000   \n",
       "25%      1.000000   99.750000   64.000000   23.000000   30.500000   27.500000   \n",
       "50%      3.000000  117.000000   72.000000   23.000000   31.250000   32.000000   \n",
       "75%      6.000000  140.250000   80.000000   32.000000  127.250000   36.600000   \n",
       "max     17.000000  199.000000  122.000000   99.000000  846.000000   67.100000   \n",
       "\n",
       "             pedi         age       class  \n",
       "count  768.000000  768.000000  768.000000  \n",
       "mean     0.471876   33.240885    0.348958  \n",
       "std      0.331329   11.760232    0.476951  \n",
       "min      0.078000   21.000000    0.000000  \n",
       "25%      0.243750   24.000000    0.000000  \n",
       "50%      0.372500   29.000000    0.000000  \n",
       "75%      0.626250   41.000000    1.000000  \n",
       "max      2.420000   81.000000    1.000000  "
      ]
     },
     "execution_count": 304,
     "metadata": {},
     "output_type": "execute_result"
    }
   ],
   "source": [
    "data.describe()"
   ]
  },
  {
   "cell_type": "markdown",
   "metadata": {},
   "source": [
    "Observe how medians are unchanged, but the minima of the imputed variables are now reflective of biologically plausible outcomes."
   ]
  },
  {
   "cell_type": "code",
   "execution_count": 305,
   "metadata": {
    "collapsed": false
   },
   "outputs": [
    {
     "name": "stdout",
     "output_type": "stream",
     "text": [
      "Percentage of Native American sample with daibetes = 34.90%.\n"
     ]
    }
   ],
   "source": [
    "# Look at percentage of population that has diabetes\n",
    "print \"Percentage of Native American sample with daibetes = %.2f%%.\" % (\n",
    "    100*float(data['class'].sum())/len(data))"
   ]
  },
  {
   "cell_type": "markdown",
   "metadata": {},
   "source": [
    "# Come up with a benchmark for the minimum performance that an algorithm should have on this dataset\n",
    "- Being a generally ambitious guy, I see the ADAP algorithm employed in the 1988 study by Smith et. al achieved 76% accuracy on the test data after splitting 75/25; I'll thus set a benchmark of 76%, as this accurate an algorithm has already been developed "
   ]
  },
  {
   "cell_type": "markdown",
   "metadata": {},
   "source": [
    "# What's the best performance you can get with kNN? Is kNN a good choice for this dataset?"
   ]
  },
  {
   "cell_type": "code",
   "execution_count": 306,
   "metadata": {
    "collapsed": false
   },
   "outputs": [],
   "source": [
    "# Assign labels vs data\n",
    "data_labels = data['class']\n",
    "data_X = data.drop('class', axis=1).astype(float)"
   ]
  },
  {
   "cell_type": "code",
   "execution_count": 307,
   "metadata": {
    "collapsed": false
   },
   "outputs": [],
   "source": [
    "# Split data into testing vs training\n",
    "from sklearn.cross_validation import train_test_split\n",
    "X_train, X_test, y_train, y_test = train_test_split(data_X, data_labels, \n",
    "                                                    test_size=0.25, random_state=7)"
   ]
  },
  {
   "cell_type": "code",
   "execution_count": 308,
   "metadata": {
    "collapsed": true
   },
   "outputs": [],
   "source": [
    "# Cross-validate in 10 iterations with 75/25 split for consistency\n",
    "from sklearn.cross_validation import ShuffleSplit\n",
    "cv = ShuffleSplit(X_train.shape[0], n_iter=10, test_size=0.25, random_state=0)"
   ]
  },
  {
   "cell_type": "markdown",
   "metadata": {},
   "source": [
    "Since the biological variables are all on various different scales, it seems logical to normalize the variables prior to employing any of the models."
   ]
  },
  {
   "cell_type": "code",
   "execution_count": 309,
   "metadata": {
    "collapsed": false
   },
   "outputs": [],
   "source": [
    "# Normalize the data\n",
    "from sklearn.preprocessing import StandardScaler\n",
    "stdsc = StandardScaler()\n",
    "\n",
    "X_train_std = stdsc.fit_transform(X_train) \n",
    "X_test_std = stdsc.transform(X_test)"
   ]
  },
  {
   "cell_type": "code",
   "execution_count": 316,
   "metadata": {
    "collapsed": false
   },
   "outputs": [
    {
     "data": {
      "text/html": [
       "<div>\n",
       "<table border=\"1\" class=\"dataframe\">\n",
       "  <thead>\n",
       "    <tr style=\"text-align: right;\">\n",
       "      <th></th>\n",
       "      <th>preg</th>\n",
       "      <th>plas</th>\n",
       "      <th>pres</th>\n",
       "      <th>skin</th>\n",
       "      <th>insu</th>\n",
       "      <th>mass</th>\n",
       "      <th>pedi</th>\n",
       "      <th>age</th>\n",
       "    </tr>\n",
       "  </thead>\n",
       "  <tbody>\n",
       "    <tr>\n",
       "      <th>count</th>\n",
       "      <td>5.760000e+02</td>\n",
       "      <td>5.760000e+02</td>\n",
       "      <td>5.760000e+02</td>\n",
       "      <td>5.760000e+02</td>\n",
       "      <td>5.760000e+02</td>\n",
       "      <td>5.760000e+02</td>\n",
       "      <td>5.760000e+02</td>\n",
       "      <td>5.760000e+02</td>\n",
       "    </tr>\n",
       "    <tr>\n",
       "      <th>mean</th>\n",
       "      <td>2.312965e-17</td>\n",
       "      <td>1.040834e-16</td>\n",
       "      <td>1.738699e-16</td>\n",
       "      <td>-5.358368e-17</td>\n",
       "      <td>9.213309e-17</td>\n",
       "      <td>7.735843e-16</td>\n",
       "      <td>1.353084e-16</td>\n",
       "      <td>-1.349229e-18</td>\n",
       "    </tr>\n",
       "    <tr>\n",
       "      <th>std</th>\n",
       "      <td>1.000869e+00</td>\n",
       "      <td>1.000869e+00</td>\n",
       "      <td>1.000869e+00</td>\n",
       "      <td>1.000869e+00</td>\n",
       "      <td>1.000869e+00</td>\n",
       "      <td>1.000869e+00</td>\n",
       "      <td>1.000869e+00</td>\n",
       "      <td>1.000869e+00</td>\n",
       "    </tr>\n",
       "    <tr>\n",
       "      <th>min</th>\n",
       "      <td>-1.147146e+00</td>\n",
       "      <td>-2.525531e+00</td>\n",
       "      <td>-3.485254e+00</td>\n",
       "      <td>-2.161996e+00</td>\n",
       "      <td>-7.789921e-01</td>\n",
       "      <td>-2.069370e+00</td>\n",
       "      <td>-1.170865e+00</td>\n",
       "      <td>-1.033821e+00</td>\n",
       "    </tr>\n",
       "    <tr>\n",
       "      <th>25%</th>\n",
       "      <td>-8.461180e-01</td>\n",
       "      <td>-7.171359e-01</td>\n",
       "      <td>-6.601209e-01</td>\n",
       "      <td>-4.521398e-01</td>\n",
       "      <td>-6.131031e-01</td>\n",
       "      <td>-7.197680e-01</td>\n",
       "      <td>-6.899361e-01</td>\n",
       "      <td>-7.723010e-01</td>\n",
       "    </tr>\n",
       "    <tr>\n",
       "      <th>50%</th>\n",
       "      <td>-2.440624e-01</td>\n",
       "      <td>-1.252976e-01</td>\n",
       "      <td>4.616230e-03</td>\n",
       "      <td>-4.521398e-01</td>\n",
       "      <td>-6.131031e-01</td>\n",
       "      <td>-3.060933e-02</td>\n",
       "      <td>-3.044357e-01</td>\n",
       "      <td>-3.364345e-01</td>\n",
       "    </tr>\n",
       "    <tr>\n",
       "      <th>75%</th>\n",
       "      <td>6.590208e-01</td>\n",
       "      <td>6.062804e-01</td>\n",
       "      <td>6.693534e-01</td>\n",
       "      <td>5.096545e-01</td>\n",
       "      <td>3.369881e-01</td>\n",
       "      <td>5.724045e-01</td>\n",
       "      <td>4.506604e-01</td>\n",
       "      <td>6.224718e-01</td>\n",
       "    </tr>\n",
       "    <tr>\n",
       "      <th>max</th>\n",
       "      <td>3.368271e+00</td>\n",
       "      <td>2.570855e+00</td>\n",
       "      <td>4.159223e+00</td>\n",
       "      <td>7.669678e+00</td>\n",
       "      <td>5.916889e+00</td>\n",
       "      <td>4.951434e+00</td>\n",
       "      <td>5.924160e+00</td>\n",
       "      <td>4.196577e+00</td>\n",
       "    </tr>\n",
       "  </tbody>\n",
       "</table>\n",
       "</div>"
      ],
      "text/plain": [
       "               preg          plas          pres          skin          insu  \\\n",
       "count  5.760000e+02  5.760000e+02  5.760000e+02  5.760000e+02  5.760000e+02   \n",
       "mean   2.312965e-17  1.040834e-16  1.738699e-16 -5.358368e-17  9.213309e-17   \n",
       "std    1.000869e+00  1.000869e+00  1.000869e+00  1.000869e+00  1.000869e+00   \n",
       "min   -1.147146e+00 -2.525531e+00 -3.485254e+00 -2.161996e+00 -7.789921e-01   \n",
       "25%   -8.461180e-01 -7.171359e-01 -6.601209e-01 -4.521398e-01 -6.131031e-01   \n",
       "50%   -2.440624e-01 -1.252976e-01  4.616230e-03 -4.521398e-01 -6.131031e-01   \n",
       "75%    6.590208e-01  6.062804e-01  6.693534e-01  5.096545e-01  3.369881e-01   \n",
       "max    3.368271e+00  2.570855e+00  4.159223e+00  7.669678e+00  5.916889e+00   \n",
       "\n",
       "               mass          pedi           age  \n",
       "count  5.760000e+02  5.760000e+02  5.760000e+02  \n",
       "mean   7.735843e-16  1.353084e-16 -1.349229e-18  \n",
       "std    1.000869e+00  1.000869e+00  1.000869e+00  \n",
       "min   -2.069370e+00 -1.170865e+00 -1.033821e+00  \n",
       "25%   -7.197680e-01 -6.899361e-01 -7.723010e-01  \n",
       "50%   -3.060933e-02 -3.044357e-01 -3.364345e-01  \n",
       "75%    5.724045e-01  4.506604e-01  6.224718e-01  \n",
       "max    4.951434e+00  5.924160e+00  4.196577e+00  "
      ]
     },
     "execution_count": 316,
     "metadata": {},
     "output_type": "execute_result"
    }
   ],
   "source": [
    "X_train_std.describe()"
   ]
  },
  {
   "cell_type": "code",
   "execution_count": 310,
   "metadata": {
    "collapsed": false
   },
   "outputs": [
    {
     "data": {
      "text/html": [
       "<div>\n",
       "<table border=\"1\" class=\"dataframe\">\n",
       "  <thead>\n",
       "    <tr style=\"text-align: right;\">\n",
       "      <th></th>\n",
       "      <th>preg</th>\n",
       "      <th>plas</th>\n",
       "      <th>pres</th>\n",
       "      <th>skin</th>\n",
       "      <th>insu</th>\n",
       "      <th>mass</th>\n",
       "      <th>pedi</th>\n",
       "      <th>age</th>\n",
       "    </tr>\n",
       "  </thead>\n",
       "  <tbody>\n",
       "    <tr>\n",
       "      <th>0</th>\n",
       "      <td>3.067243</td>\n",
       "      <td>1.781737</td>\n",
       "      <td>-0.826305</td>\n",
       "      <td>0.295922</td>\n",
       "      <td>-0.613103</td>\n",
       "      <td>0.141680</td>\n",
       "      <td>-0.764916</td>\n",
       "      <td>0.448125</td>\n",
       "    </tr>\n",
       "    <tr>\n",
       "      <th>1</th>\n",
       "      <td>-0.244062</td>\n",
       "      <td>1.748857</td>\n",
       "      <td>-1.158674</td>\n",
       "      <td>-0.559006</td>\n",
       "      <td>1.030705</td>\n",
       "      <td>0.041178</td>\n",
       "      <td>0.389314</td>\n",
       "      <td>0.273779</td>\n",
       "    </tr>\n",
       "    <tr>\n",
       "      <th>2</th>\n",
       "      <td>1.863132</td>\n",
       "      <td>0.400781</td>\n",
       "      <td>-0.327752</td>\n",
       "      <td>-0.452140</td>\n",
       "      <td>-0.613103</td>\n",
       "      <td>-0.805913</td>\n",
       "      <td>-0.664943</td>\n",
       "      <td>0.273779</td>\n",
       "    </tr>\n",
       "    <tr>\n",
       "      <th>3</th>\n",
       "      <td>0.357993</td>\n",
       "      <td>0.170622</td>\n",
       "      <td>0.503169</td>\n",
       "      <td>-0.024676</td>\n",
       "      <td>-0.698561</td>\n",
       "      <td>-0.432619</td>\n",
       "      <td>-0.077225</td>\n",
       "      <td>0.622472</td>\n",
       "    </tr>\n",
       "    <tr>\n",
       "      <th>4</th>\n",
       "      <td>0.659021</td>\n",
       "      <td>1.091259</td>\n",
       "      <td>0.170801</td>\n",
       "      <td>0.509654</td>\n",
       "      <td>1.020652</td>\n",
       "      <td>-0.475691</td>\n",
       "      <td>1.134564</td>\n",
       "      <td>0.535299</td>\n",
       "    </tr>\n",
       "  </tbody>\n",
       "</table>\n",
       "</div>"
      ],
      "text/plain": [
       "       preg      plas      pres      skin      insu      mass      pedi  \\\n",
       "0  3.067243  1.781737 -0.826305  0.295922 -0.613103  0.141680 -0.764916   \n",
       "1 -0.244062  1.748857 -1.158674 -0.559006  1.030705  0.041178  0.389314   \n",
       "2  1.863132  0.400781 -0.327752 -0.452140 -0.613103 -0.805913 -0.664943   \n",
       "3  0.357993  0.170622  0.503169 -0.024676 -0.698561 -0.432619 -0.077225   \n",
       "4  0.659021  1.091259  0.170801  0.509654  1.020652 -0.475691  1.134564   \n",
       "\n",
       "        age  \n",
       "0  0.448125  \n",
       "1  0.273779  \n",
       "2  0.273779  \n",
       "3  0.622472  \n",
       "4  0.535299  "
      ]
     },
     "execution_count": 310,
     "metadata": {},
     "output_type": "execute_result"
    }
   ],
   "source": [
    "# All independent variables are now normalized\n",
    "X_train_std = pd.DataFrame(X_train_std, columns=X_train.columns)\n",
    "X_test_std = pd.DataFrame(X_test_std, columns=X_test.columns)\n",
    "\n",
    "pd.DataFrame(X_train_std, columns=X_train.columns).head()"
   ]
  },
  {
   "cell_type": "code",
   "execution_count": 311,
   "metadata": {
    "collapsed": false
   },
   "outputs": [
    {
     "name": "stdout",
     "output_type": "stream",
     "text": [
      "(576, 8)\n",
      "(192, 8)\n"
     ]
    }
   ],
   "source": [
    "print (X_train_std.shape)\n",
    "print (X_test_std.shape)"
   ]
  },
  {
   "cell_type": "code",
   "execution_count": 312,
   "metadata": {
    "collapsed": false
   },
   "outputs": [
    {
     "data": {
      "text/html": [
       "<div>\n",
       "<table border=\"1\" class=\"dataframe\">\n",
       "  <thead>\n",
       "    <tr style=\"text-align: right;\">\n",
       "      <th></th>\n",
       "      <th>preg</th>\n",
       "      <th>plas</th>\n",
       "      <th>pres</th>\n",
       "      <th>skin</th>\n",
       "      <th>insu</th>\n",
       "      <th>mass</th>\n",
       "      <th>pedi</th>\n",
       "      <th>age</th>\n",
       "      <th>class</th>\n",
       "    </tr>\n",
       "  </thead>\n",
       "  <tbody>\n",
       "    <tr>\n",
       "      <th>preg</th>\n",
       "      <td>1.000000</td>\n",
       "      <td>0.128213</td>\n",
       "      <td>0.208615</td>\n",
       "      <td>0.032568</td>\n",
       "      <td>-0.055697</td>\n",
       "      <td>0.021546</td>\n",
       "      <td>-0.033523</td>\n",
       "      <td>0.544341</td>\n",
       "      <td>0.221898</td>\n",
       "    </tr>\n",
       "    <tr>\n",
       "      <th>plas</th>\n",
       "      <td>0.128213</td>\n",
       "      <td>1.000000</td>\n",
       "      <td>0.218937</td>\n",
       "      <td>0.172143</td>\n",
       "      <td>0.357573</td>\n",
       "      <td>0.231400</td>\n",
       "      <td>0.137327</td>\n",
       "      <td>0.266909</td>\n",
       "      <td>0.492782</td>\n",
       "    </tr>\n",
       "    <tr>\n",
       "      <th>pres</th>\n",
       "      <td>0.208615</td>\n",
       "      <td>0.218937</td>\n",
       "      <td>1.000000</td>\n",
       "      <td>0.147809</td>\n",
       "      <td>-0.028721</td>\n",
       "      <td>0.281132</td>\n",
       "      <td>-0.002378</td>\n",
       "      <td>0.324915</td>\n",
       "      <td>0.165723</td>\n",
       "    </tr>\n",
       "    <tr>\n",
       "      <th>skin</th>\n",
       "      <td>0.032568</td>\n",
       "      <td>0.172143</td>\n",
       "      <td>0.147809</td>\n",
       "      <td>1.000000</td>\n",
       "      <td>0.238188</td>\n",
       "      <td>0.546951</td>\n",
       "      <td>0.142977</td>\n",
       "      <td>0.054514</td>\n",
       "      <td>0.189065</td>\n",
       "    </tr>\n",
       "    <tr>\n",
       "      <th>insu</th>\n",
       "      <td>-0.055697</td>\n",
       "      <td>0.357573</td>\n",
       "      <td>-0.028721</td>\n",
       "      <td>0.238188</td>\n",
       "      <td>1.000000</td>\n",
       "      <td>0.189022</td>\n",
       "      <td>0.178029</td>\n",
       "      <td>-0.015413</td>\n",
       "      <td>0.148457</td>\n",
       "    </tr>\n",
       "    <tr>\n",
       "      <th>mass</th>\n",
       "      <td>0.021546</td>\n",
       "      <td>0.231400</td>\n",
       "      <td>0.281132</td>\n",
       "      <td>0.546951</td>\n",
       "      <td>0.189022</td>\n",
       "      <td>1.000000</td>\n",
       "      <td>0.153506</td>\n",
       "      <td>0.025744</td>\n",
       "      <td>0.312249</td>\n",
       "    </tr>\n",
       "    <tr>\n",
       "      <th>pedi</th>\n",
       "      <td>-0.033523</td>\n",
       "      <td>0.137327</td>\n",
       "      <td>-0.002378</td>\n",
       "      <td>0.142977</td>\n",
       "      <td>0.178029</td>\n",
       "      <td>0.153506</td>\n",
       "      <td>1.000000</td>\n",
       "      <td>0.033561</td>\n",
       "      <td>0.173844</td>\n",
       "    </tr>\n",
       "    <tr>\n",
       "      <th>age</th>\n",
       "      <td>0.544341</td>\n",
       "      <td>0.266909</td>\n",
       "      <td>0.324915</td>\n",
       "      <td>0.054514</td>\n",
       "      <td>-0.015413</td>\n",
       "      <td>0.025744</td>\n",
       "      <td>0.033561</td>\n",
       "      <td>1.000000</td>\n",
       "      <td>0.238356</td>\n",
       "    </tr>\n",
       "    <tr>\n",
       "      <th>class</th>\n",
       "      <td>0.221898</td>\n",
       "      <td>0.492782</td>\n",
       "      <td>0.165723</td>\n",
       "      <td>0.189065</td>\n",
       "      <td>0.148457</td>\n",
       "      <td>0.312249</td>\n",
       "      <td>0.173844</td>\n",
       "      <td>0.238356</td>\n",
       "      <td>1.000000</td>\n",
       "    </tr>\n",
       "  </tbody>\n",
       "</table>\n",
       "</div>"
      ],
      "text/plain": [
       "           preg      plas      pres      skin      insu      mass      pedi  \\\n",
       "preg   1.000000  0.128213  0.208615  0.032568 -0.055697  0.021546 -0.033523   \n",
       "plas   0.128213  1.000000  0.218937  0.172143  0.357573  0.231400  0.137327   \n",
       "pres   0.208615  0.218937  1.000000  0.147809 -0.028721  0.281132 -0.002378   \n",
       "skin   0.032568  0.172143  0.147809  1.000000  0.238188  0.546951  0.142977   \n",
       "insu  -0.055697  0.357573 -0.028721  0.238188  1.000000  0.189022  0.178029   \n",
       "mass   0.021546  0.231400  0.281132  0.546951  0.189022  1.000000  0.153506   \n",
       "pedi  -0.033523  0.137327 -0.002378  0.142977  0.178029  0.153506  1.000000   \n",
       "age    0.544341  0.266909  0.324915  0.054514 -0.015413  0.025744  0.033561   \n",
       "class  0.221898  0.492782  0.165723  0.189065  0.148457  0.312249  0.173844   \n",
       "\n",
       "            age     class  \n",
       "preg   0.544341  0.221898  \n",
       "plas   0.266909  0.492782  \n",
       "pres   0.324915  0.165723  \n",
       "skin   0.054514  0.189065  \n",
       "insu  -0.015413  0.148457  \n",
       "mass   0.025744  0.312249  \n",
       "pedi   0.033561  0.173844  \n",
       "age    1.000000  0.238356  \n",
       "class  0.238356  1.000000  "
      ]
     },
     "execution_count": 312,
     "metadata": {},
     "output_type": "execute_result"
    }
   ],
   "source": [
    "data.corr()"
   ]
  },
  {
   "cell_type": "markdown",
   "metadata": {},
   "source": [
    "Correlations are generally pretty low between variables, which should bode well for all of our models, but particularly for KNN and NB."
   ]
  },
  {
   "cell_type": "code",
   "execution_count": 315,
   "metadata": {
    "collapsed": false
   },
   "outputs": [
    {
     "data": {
      "image/png": "[encoded data removed]",
      "text/plain": [
       "<matplotlib.figure.Figure at 0xd899da0>"
      ]
     },
     "metadata": {},
     "output_type": "display_data"
    }
   ],
   "source": [
    "# Assess dispersion among our normalized variables w.r.t. class\n",
    "plt.figure()\n",
    "pd.tools.plotting.parallel_coordinates(data, 'class');"
   ]
  },
  {
   "cell_type": "markdown",
   "metadata": {},
   "source": [
    "The plot above shows that the two variables with the greatest dispersion are plasma glucose concentration (plas) and 2-hr serum insulin (insu), followed distantly by diastolic blood pressure (pres) and age."
   ]
  },
  {
   "cell_type": "code",
   "execution_count": 313,
   "metadata": {
    "collapsed": true
   },
   "outputs": [],
   "source": [
    "# Initialize kNN\n",
    "from sklearn.neighbors import KNeighborsClassifier\n",
    "knn = KNeighborsClassifier()"
   ]
  },
  {
   "cell_type": "code",
   "execution_count": 332,
   "metadata": {
    "collapsed": false
   },
   "outputs": [
    {
     "name": "stdout",
     "output_type": "stream",
     "text": [
      "{'n_neighbors': 11, 'weights': 'uniform', 'p': 1}\n",
      "{'n_neighbors': 18, 'weights': 'distance', 'p': 2}\n"
     ]
    }
   ],
   "source": [
    "# Use GridSearch to find the optimal parameters for kNN\n",
    "from sklearn.grid_search import GridSearchCV\n",
    "\n",
    "parameters1 = {'n_neighbors': range(1,15), 'weights': ['uniform', 'distance'],\n",
    "             'p': range(1,3)}\n",
    "parameters2 = {'n_neighbors': range(1,20), 'weights': ['uniform', 'distance'],\n",
    "             'p': range(1,3)}\n",
    "\n",
    "# Apply GridSearch to the kNN algo using cross-validated data\n",
    "clf1 = GridSearchCV(knn, parameters1, cv=cv)\n",
    "clf2 = GridSearchCV(knn, parameters2, cv=cv)\n",
    "\n",
    "clf1.fit(X_train_std, y_train)\n",
    "clf2.fit(X_train_std, y_train)\n",
    "\n",
    "# Assign kNN parameters as the optimal parameters from GridSearch\n",
    "best_knn1 = clf1.best_estimator_\n",
    "best_knn2 = clf2.best_estimator_\n",
    "\n",
    "print clf1.best_params_\n",
    "print clf2.best_params_"
   ]
  },
  {
   "cell_type": "code",
   "execution_count": 342,
   "metadata": {
    "collapsed": false,
    "scrolled": true
   },
   "outputs": [
    {
     "name": "stdout",
     "output_type": "stream",
     "text": [
      "Score of kNN model with 11 neighbors = 78.12%\n",
      "\n",
      "Score of kNN model with 18 neighbors = 80.73%\n"
     ]
    }
   ],
   "source": [
    "# Compare accuracy of the models\n",
    "print \"Score of kNN model with 11 neighbors = %.2f%%\" % (\n",
    "    best_knn1.score(X_test_std, y_test)*100)\n",
    "print \"\\nScore of kNN model with 18 neighbors = %.2f%%\" % (\n",
    "    best_knn2.score(X_test_std, y_test)*100)"
   ]
  },
  {
   "cell_type": "code",
   "execution_count": 318,
   "metadata": {
    "collapsed": false,
    "scrolled": true
   },
   "outputs": [
    {
     "name": "stdout",
     "output_type": "stream",
     "text": [
      "Percentage of population with diabetes = 34.90%\n"
     ]
    }
   ],
   "source": [
    "# Check percentage of population with diabetes\n",
    "print \"Percentage of population with diabetes = %.2f%%\" % (\n",
    "    float(sum(data['class']==1))/len(data)*100)"
   ]
  },
  {
   "cell_type": "code",
   "execution_count": 340,
   "metadata": {
    "collapsed": false
   },
   "outputs": [
    {
     "name": "stdout",
     "output_type": "stream",
     "text": [
      "100 loops, best of 3: 3.92 ms per loop\n"
     ]
    }
   ],
   "source": [
    "# Compare run time of the two models\n",
    "%timeit best_knn1.predict(X_test_std)"
   ]
  },
  {
   "cell_type": "code",
   "execution_count": 341,
   "metadata": {
    "collapsed": false,
    "scrolled": true
   },
   "outputs": [
    {
     "name": "stdout",
     "output_type": "stream",
     "text": [
      "100 loops, best of 3: 4.91 ms per loop\n"
     ]
    }
   ],
   "source": [
    "%timeit best_knn2.predict(X_test_std)"
   ]
  },
  {
   "cell_type": "code",
   "execution_count": 376,
   "metadata": {
    "collapsed": false
   },
   "outputs": [
    {
     "name": "stdout",
     "output_type": "stream",
     "text": [
      "Using k=18 takes about 25.26% more time to run.\n"
     ]
    }
   ],
   "source": [
    "print 'Using k=18 takes about %.2f%% more time to run.' % (100*(4.91/3.92-1))"
   ]
  },
  {
   "cell_type": "markdown",
   "metadata": {},
   "source": [
    "**Results**\n",
    "\n",
    "- The nearest neighbors algorithm delivers almost 81% accuracy on the test data using the parameters resulting from GridSearchCV - e.g. 18 neighbors and exponential weighting with a factor or 2. \n",
    "\n",
    "\n",
    "- Using GridSearchCV on the range (1,15), the 'optimal' parameters determined are 11 neighbors using uniform weighting, delivering test-data accuracy of 78% accuracy.  \n",
    "\n",
    "Unsure if this marginal increase in performance is worth the significantly increased runtime."
   ]
  },
  {
   "cell_type": "code",
   "execution_count": 319,
   "metadata": {
    "collapsed": false
   },
   "outputs": [],
   "source": [
    "# Declare and employ the learning curve graph to assess \n",
    "# the bias vs variance of kNN with these parameters\n",
    "from sklearn.learning_curve import learning_curve\n",
    "title = 'title'"
   ]
  },
  {
   "cell_type": "code",
   "execution_count": 326,
   "metadata": {
    "collapsed": true
   },
   "outputs": [],
   "source": [
    "def plot_learning_curve(estimator, title, X, y, ylim=None, cv=None,\n",
    "                       train_sizes=np.linspace(.2,1.0,10), n_jobs=1):\n",
    "    plt.figure()\n",
    "    plt.title(title)\n",
    "    if ylim is not None:\n",
    "        plt.ylim(*ylim)\n",
    "    \n",
    "    plt.xlabel(\"Number of training examples used\")\n",
    "    plt.ylabel(\"Accuracy\")\n",
    "    train_sizes, train_scores, test_scores = learning_curve(\n",
    "        estimator, X, y, cv=cv, n_jobs=n_jobs, train_sizes=train_sizes)\n",
    "    train_scores_mean = np.mean(train_scores, axis=1)\n",
    "    train_scores_std = np.std(train_scores, axis=1)\n",
    "    test_scores_mean = np.mean(test_scores, axis=1)\n",
    "    test_scores_std = np.std(test_scores, axis=1)\n",
    "    plt.grid()\n",
    "\n",
    "    plt.fill_between(train_sizes, train_scores_mean - train_scores_std,\n",
    "                     train_scores_mean + train_scores_std, alpha=0.1,\n",
    "                     color=\"r\")\n",
    "    plt.fill_between(train_sizes, test_scores_mean - test_scores_std,\n",
    "                     test_scores_mean + test_scores_std, alpha=0.1, color=\"g\")\n",
    "    plt.plot(train_sizes, train_scores_mean, 'o-', color=\"r\",\n",
    "             label=\"Training score\")\n",
    "    plt.plot(train_sizes, test_scores_mean, 'o-', color=\"g\",\n",
    "             label=\"Cross-validation score\")\n",
    "\n",
    "    plt.legend(loc=\"best\")\n",
    "    return plt"
   ]
  },
  {
   "cell_type": "code",
   "execution_count": 346,
   "metadata": {
    "collapsed": false
   },
   "outputs": [
    {
     "data": {
      "text/plain": [
       "<matplotlib.figure.Figure at 0x231279e8>"
      ]
     },
     "metadata": {},
     "output_type": "display_data"
    },
    {
     "data": {
      "image/png": "[encoded data removed]",
      "text/plain": [
       "<matplotlib.figure.Figure at 0x23046e80>"
      ]
     },
     "metadata": {},
     "output_type": "display_data"
    }
   ],
   "source": [
    "# Produce learning curve chart\n",
    "plt.figure()\n",
    "plot_learning_curve(best_knn2, \"Learning Curve for 'Optimal' kNN\", \n",
    "                    X_train_std, y_train, cv=cv);"
   ]
  },
  {
   "cell_type": "markdown",
   "metadata": {},
   "source": [
    "The model under 'optimal' GridSearch-defined parameters appears to exhibit a significant degrees of bias and variance"
   ]
  },
  {
   "cell_type": "code",
   "execution_count": 353,
   "metadata": {
    "collapsed": false
   },
   "outputs": [],
   "source": [
    "# use matplotlib to make a visualization showing how the score\n",
    "# changes when we change n_neighbors\n",
    "\n",
    "scores1, scores2 = [], []\n",
    "n_neighbors = range(1, 101)\n",
    "\n",
    "# my code\n",
    "for num in n_neighbors:\n",
    "    knn1 = KNeighborsClassifier(n_neighbors=num, weights='uniform', p=1)\n",
    "    knn2 = KNeighborsClassifier(n_neighbors=num, weights='distance', p=2)\n",
    "    \n",
    "    knn1.fit(X_train_std, y_train)\n",
    "    knn2.fit(X_train_std, y_train)\n",
    "    \n",
    "    scores1.append(knn1.score(X_test_std,y_test))   \n",
    "    scores2.append(knn2.score(X_test_std,y_test))   "
   ]
  },
  {
   "cell_type": "code",
   "execution_count": 369,
   "metadata": {
    "collapsed": false
   },
   "outputs": [
    {
     "data": {
      "text/plain": [
       "<matplotlib.text.Text at 0x1d0e8e48>"
      ]
     },
     "execution_count": 369,
     "metadata": {},
     "output_type": "execute_result"
    },
    {
     "data": {
      "image/png": "[encoded data removed]",
      "text/plain": [
       "<matplotlib.figure.Figure at 0x2214e208>"
      ]
     },
     "metadata": {},
     "output_type": "display_data"
    }
   ],
   "source": [
    "# Plot using MatplotLib\n",
    "plt.rc('figure', figsize=(10,5))\n",
    "\n",
    "# Define X-axis\n",
    "x = np.linspace(0,100,100)\n",
    "\n",
    "# Define plot\n",
    "plt.plot(x, scores1, 'r-', label = 'Uniform Weight')\n",
    "plt.plot(x, scores2, 'b-', label = 'Distance Weight')\n",
    "plt.legend(loc = 'best')\n",
    "plt.title('kNN Varying the Number of Neighbors')\n",
    "plt.xlabel('Number of Neighbors')\n",
    "plt.ylabel('Prediction Percentage')"
   ]
  },
  {
   "cell_type": "markdown",
   "metadata": {},
   "source": [
    "** Conclusion for KNN**\n",
    "\n",
    "Nearest neighbors is likely the best model for the data in terms of its combination of test accuracy and explainability, beating the algorithm performance of the original study conducted by UC Irvine (I said I'm competitive). However, I believe this result can likely be improved with some moderate feature engineering. "
   ]
  },
  {
   "cell_type": "markdown",
   "metadata": {},
   "source": [
    "# What's the best performance you can get with Naive Bayes? Is NB a good choice for this dataset?"
   ]
  },
  {
   "cell_type": "markdown",
   "metadata": {},
   "source": [
    "I don't believe Naive Bayes is a good model for the data, as the assumption of independence between the predicting variables seems, despite generally low correlations, to be unfounded. It seems logical that several variables relating to general health and characteristics therein would not be entirely independent, but would rather share some directional relationships."
   ]
  },
  {
   "cell_type": "code",
   "execution_count": 370,
   "metadata": {
    "collapsed": true
   },
   "outputs": [],
   "source": [
    "# Initialize Gaussian Naive Bayes since data has already been normlized\n",
    "# and multinomial doesn't really make sense in this context\n",
    "from sklearn.naive_bayes import GaussianNB\n",
    "gnb = GaussianNB()"
   ]
  },
  {
   "cell_type": "code",
   "execution_count": 371,
   "metadata": {
    "collapsed": false
   },
   "outputs": [],
   "source": [
    "# Fit the Gaussian NB model on the training data\n",
    "nb_model = gnb.fit(X_train_std, y_train)"
   ]
  },
  {
   "cell_type": "code",
   "execution_count": 374,
   "metadata": {
    "collapsed": false
   },
   "outputs": [
    {
     "name": "stdout",
     "output_type": "stream",
     "text": [
      "Number of mislabeled points in training data out of a total 576 points : 148\n",
      "\n",
      "This yields a percent accuracy on training data of 74.31%.\n",
      "Running the model on the test data yields similar accuracy of 75.00%.\n"
     ]
    }
   ],
   "source": [
    "# Look at accuracy\n",
    "y_pred = nb_model.predict(X_train_std)\n",
    "\n",
    "print(\"Number of mislabeled points in training data out of a total %d points : %d\"\n",
    "      % (X_train_std.shape[0],(y_train != y_pred).sum()))\n",
    "\n",
    "print \"\\nThis yields a percent accuracy on training data of %.2f%%.\" % (\n",
    "    100-100*float(((y_train != y_pred).sum()))/X_train_std.shape[0])\n",
    "\n",
    "print \"Running the model on the test data yields similar accuracy of %.2f%%.\" % (\n",
    "    100*nb_model.score(X_test_std, y_test))"
   ]
  },
  {
   "cell_type": "markdown",
   "metadata": {},
   "source": [
    "Assess the speed of the Gaussian Naive Bayes"
   ]
  },
  {
   "cell_type": "code",
   "execution_count": 375,
   "metadata": {
    "collapsed": false
   },
   "outputs": [
    {
     "name": "stdout",
     "output_type": "stream",
     "text": [
      "10000 loops, best of 3: 176 µs per loop\n"
     ]
    }
   ],
   "source": [
    "%timeit nb_model.predict(X_test_std)"
   ]
  },
  {
   "cell_type": "code",
   "execution_count": 443,
   "metadata": {
    "collapsed": false
   },
   "outputs": [
    {
     "name": "stdout",
     "output_type": "stream",
     "text": [
      "The NB model takes 4.49% as long as Nearest Neighbors\n",
      "and is thus 22.3x faster.\n"
     ]
    }
   ],
   "source": [
    "print 'The NB model takes %.2f%% as long as Nearest Neighbors' % (100*(176e-3/3.92))\n",
    "print 'and is thus %.1fx faster.' % (1/(176e-3/3.92))"
   ]
  },
  {
   "cell_type": "markdown",
   "metadata": {},
   "source": [
    "**Results**\n",
    "\n",
    "- While 75% is reasonable performance, this is not as strong as the performance achieved using nearest neighbors\n",
    "- Comparing run-time, however, the 176 microseconds taken by the Naive Bayes requires less than 5% the time as a nearest neighbors model\n",
    "- The 75% performance may have the potential for improvement by adding additional features (reducing variance), which I will come back to time-permitting."
   ]
  },
  {
   "cell_type": "markdown",
   "metadata": {},
   "source": [
    "# What's the best performance you can get with Logistic Regression? Is LR a good choice for this dataset?"
   ]
  },
  {
   "cell_type": "markdown",
   "metadata": {},
   "source": [
    "First try vanilla logistic regression with no penalizing term"
   ]
  },
  {
   "cell_type": "code",
   "execution_count": 390,
   "metadata": {
    "collapsed": false
   },
   "outputs": [
    {
     "data": {
      "text/html": [
       "<div>\n",
       "<table border=\"1\" class=\"dataframe\">\n",
       "  <thead>\n",
       "    <tr style=\"text-align: right;\">\n",
       "      <th></th>\n",
       "      <th>0</th>\n",
       "      <th>1</th>\n",
       "    </tr>\n",
       "  </thead>\n",
       "  <tbody>\n",
       "    <tr>\n",
       "      <th>0</th>\n",
       "      <td>preg</td>\n",
       "      <td>0.432425</td>\n",
       "    </tr>\n",
       "    <tr>\n",
       "      <th>1</th>\n",
       "      <td>plas</td>\n",
       "      <td>1.101051</td>\n",
       "    </tr>\n",
       "    <tr>\n",
       "      <th>2</th>\n",
       "      <td>pres</td>\n",
       "      <td>-0.071503</td>\n",
       "    </tr>\n",
       "    <tr>\n",
       "      <th>3</th>\n",
       "      <td>skin</td>\n",
       "      <td>0.119928</td>\n",
       "    </tr>\n",
       "    <tr>\n",
       "      <th>4</th>\n",
       "      <td>insu</td>\n",
       "      <td>-0.155528</td>\n",
       "    </tr>\n",
       "    <tr>\n",
       "      <th>5</th>\n",
       "      <td>mass</td>\n",
       "      <td>0.564155</td>\n",
       "    </tr>\n",
       "    <tr>\n",
       "      <th>6</th>\n",
       "      <td>pedi</td>\n",
       "      <td>0.386138</td>\n",
       "    </tr>\n",
       "    <tr>\n",
       "      <th>7</th>\n",
       "      <td>age</td>\n",
       "      <td>0.089754</td>\n",
       "    </tr>\n",
       "  </tbody>\n",
       "</table>\n",
       "</div>"
      ],
      "text/plain": [
       "      0         1\n",
       "0  preg  0.432425\n",
       "1  plas  1.101051\n",
       "2  pres -0.071503\n",
       "3  skin  0.119928\n",
       "4  insu -0.155528\n",
       "5  mass  0.564155\n",
       "6  pedi  0.386138\n",
       "7   age  0.089754"
      ]
     },
     "execution_count": 390,
     "metadata": {},
     "output_type": "execute_result"
    }
   ],
   "source": [
    "from sklearn.linear_model import LogisticRegression\n",
    "lr = LogisticRegression()\n",
    "\n",
    "lr.fit(X_train_std, y_train)\n",
    "pd.DataFrame(zip(colnames, lr.coef_[0]))"
   ]
  },
  {
   "cell_type": "code",
   "execution_count": 399,
   "metadata": {
    "collapsed": false
   },
   "outputs": [],
   "source": [
    "# Make predictions using X_test_std \n",
    "y_pred = lr.predict(X_test_std)"
   ]
  },
  {
   "cell_type": "code",
   "execution_count": 400,
   "metadata": {
    "collapsed": false
   },
   "outputs": [
    {
     "name": "stdout",
     "output_type": "stream",
     "text": [
      "The slowest run took 4.96 times longer than the fastest. This could mean that an intermediate result is being cached \n",
      "10000 loops, best of 3: 79.2 µs per loop\n"
     ]
    }
   ],
   "source": [
    "# Time prediction using the logistic regression\n",
    "%timeit lr.predict(X_test_std)"
   ]
  },
  {
   "cell_type": "code",
   "execution_count": 392,
   "metadata": {
    "collapsed": false
   },
   "outputs": [
    {
     "name": "stdout",
     "output_type": "stream",
     "text": [
      "The OOB logistic regression achieves accuracy of 77.08%.\n"
     ]
    }
   ],
   "source": [
    "# calculate classification accuracy\n",
    "from sklearn import metrics\n",
    "print \"The OOB logistic regression achieves accuracy of %.2f%%.\" % (\n",
    "    metrics.accuracy_score(y_test, y_pred)*100)"
   ]
  },
  {
   "cell_type": "code",
   "execution_count": 393,
   "metadata": {
    "collapsed": false
   },
   "outputs": [
    {
     "data": {
      "image/png": "[encoded data removed]",
      "text/plain": [
       "<matplotlib.figure.Figure at 0x1d9e65c0>"
      ]
     },
     "metadata": {},
     "output_type": "display_data"
    }
   ],
   "source": [
    "plot_learning_curve(lr, 'Learning Curve for LogReg', X_train_std, y_train, cv=cv);"
   ]
  },
  {
   "cell_type": "markdown",
   "metadata": {},
   "source": [
    "- The out of the box logistic regression exhibits significant bias with only a moderate degree of variane. Assessing the initial regression coefficients, it seems that we may see some improvement by employing lasso and/or ridge.\n",
    "- Despite its high-bias property, the model delivers 77% accuracy with no additional model tuning, along with a run-time of less than half that of Naive Bayes"
   ]
  },
  {
   "cell_type": "code",
   "execution_count": 401,
   "metadata": {
    "collapsed": false
   },
   "outputs": [
    {
     "data": {
      "text/plain": [
       "GridSearchCV(cv=ShuffleSplit(576, n_iter=10, test_size=0.25, random_state=0),\n",
       "       error_score='raise',\n",
       "       estimator=LogisticRegression(C=1.0, class_weight=None, dual=False, fit_intercept=True,\n",
       "          intercept_scaling=1, max_iter=100, multi_class='ovr', n_jobs=1,\n",
       "          penalty='l2', random_state=None, solver='liblinear', tol=0.0001,\n",
       "          verbose=0, warm_start=False),\n",
       "       fit_params={}, iid=True, n_jobs=1,\n",
       "       param_grid={'C': array([  1.00000e-05,   1.01010e+03, ...,   9.89899e+04,   1.00000e+05]), 'class_weight': [None, 'balanced']},\n",
       "       pre_dispatch='2*n_jobs', refit=True, scoring=None, verbose=0)"
      ]
     },
     "execution_count": 401,
     "metadata": {},
     "output_type": "execute_result"
    }
   ],
   "source": [
    "# Tune regression parameters\n",
    "parameters = {'C': np.linspace(1e-5, 1e5, 100), 'class_weight': [None, 'balanced']}\n",
    "clf = GridSearchCV(lr, parameters, cv=cv)\n",
    "clf.fit(X_train_std, y_train)"
   ]
  },
  {
   "cell_type": "code",
   "execution_count": 402,
   "metadata": {
    "collapsed": false
   },
   "outputs": [
    {
     "data": {
      "text/plain": [
       "{'C': 1010.1010199999999, 'class_weight': None}"
      ]
     },
     "execution_count": 402,
     "metadata": {},
     "output_type": "execute_result"
    }
   ],
   "source": [
    "# View resulting parameters from the GridSearch\n",
    "clf.best_params_"
   ]
  },
  {
   "cell_type": "code",
   "execution_count": 403,
   "metadata": {
    "collapsed": false
   },
   "outputs": [
    {
     "data": {
      "text/plain": [
       "0.76736111111111116"
      ]
     },
     "execution_count": 403,
     "metadata": {},
     "output_type": "execute_result"
    }
   ],
   "source": [
    "# View score of regression on train data\n",
    "clf.best_score_"
   ]
  },
  {
   "cell_type": "code",
   "execution_count": 404,
   "metadata": {
    "collapsed": true
   },
   "outputs": [],
   "source": [
    "best_log = clf.best_estimator_"
   ]
  },
  {
   "cell_type": "code",
   "execution_count": 406,
   "metadata": {
    "collapsed": false
   },
   "outputs": [
    {
     "name": "stdout",
     "output_type": "stream",
     "text": [
      "The tuned logistic regression achieves accuracy of 77.08%.\n"
     ]
    }
   ],
   "source": [
    "y_pred_tune = clf.predict(X_test_std)\n",
    "print \"The tuned logistic regression achieves accuracy of %.2f%%.\" % (\n",
    "    metrics.accuracy_score(y_test, y_pred_tune)*100)"
   ]
  },
  {
   "cell_type": "code",
   "execution_count": 405,
   "metadata": {
    "collapsed": false
   },
   "outputs": [
    {
     "data": {
      "image/png": "[encoded data removed]",
      "text/plain": [
       "<matplotlib.figure.Figure at 0x225ca6a0>"
      ]
     },
     "metadata": {},
     "output_type": "display_data"
    }
   ],
   "source": [
    "plot_learning_curve(best_log, 'Learning Curve for LogReg', X_train_std, y_train, cv=cv);"
   ]
  },
  {
   "cell_type": "markdown",
   "metadata": {},
   "source": [
    "Notes for tuning logistic regression:\n",
    "\n",
    "- penalty: 'l1' for lasso, 'l2' for ridge\n",
    "- C: smaller values imply higher regularization and therefore more robustness against overfitting but potentially weaker predictions"
   ]
  },
  {
   "cell_type": "code",
   "execution_count": 255,
   "metadata": {
    "collapsed": true
   },
   "outputs": [],
   "source": [
    "# Try logist regression again using lasso and ridge respectively\n",
    "lasso_reg = LogisticRegression(penalty='l1')\n",
    "ridge_reg = LogisticRegression(penalty='l2')"
   ]
  },
  {
   "cell_type": "code",
   "execution_count": 259,
   "metadata": {
    "collapsed": false
   },
   "outputs": [],
   "source": [
    "# Fit two models to the training data\n",
    "# lasso_reg.fit(X_train_std,y_train)\n",
    "# ridge_reg.fit(X_train_std,y_train)\n",
    "\n",
    "# Compare Coefficients\n",
    "#print pd.DataFrame(zip(colnames, lasso_reg.coef_[0]))\n",
    "#print pd.DataFrame(zip(colnames, ridge_reg.coef_[0]))"
   ]
  },
  {
   "cell_type": "code",
   "execution_count": 256,
   "metadata": {
    "collapsed": true
   },
   "outputs": [],
   "source": [
    "# Declare parameters over which to optimize the regression\n",
    "parameters = {'C': np.linspace(1e-5, 1e5, 100), 'class_weight': [None, 'balanced']}"
   ]
  },
  {
   "cell_type": "code",
   "execution_count": 257,
   "metadata": {
    "collapsed": false
   },
   "outputs": [
    {
     "data": {
      "text/plain": [
       "{'C': 1010.1010199999999, 'class_weight': None}"
      ]
     },
     "execution_count": 257,
     "metadata": {},
     "output_type": "execute_result"
    }
   ],
   "source": [
    "# Fit model using lasso regression\n",
    "lasso_model = GridSearchCV(lasso_reg, parameters, cv=cv)\n",
    "lasso_model.fit(X_train_std, y_train)\n",
    "lasso_model.best_params_"
   ]
  },
  {
   "cell_type": "code",
   "execution_count": 263,
   "metadata": {
    "collapsed": false
   },
   "outputs": [
    {
     "data": {
      "text/plain": [
       "0.76736111111111116"
      ]
     },
     "execution_count": 263,
     "metadata": {},
     "output_type": "execute_result"
    }
   ],
   "source": [
    "# Test accuracy of lasso model on training set\n",
    "lasso_model.best_score_"
   ]
  },
  {
   "cell_type": "code",
   "execution_count": 260,
   "metadata": {
    "collapsed": true
   },
   "outputs": [],
   "source": [
    "best_lasso = lasso_model.best_estimator_"
   ]
  },
  {
   "cell_type": "code",
   "execution_count": 407,
   "metadata": {
    "collapsed": false
   },
   "outputs": [
    {
     "name": "stdout",
     "output_type": "stream",
     "text": [
      "The tuned logistic regression achieves accuracy of 77.08%.\n"
     ]
    }
   ],
   "source": [
    "y_pred_lasso = lasso_model.predict(X_test_std)\n",
    "print \"The tuned logistic regression achieves accuracy of %.2f%%.\" % (\n",
    "    metrics.accuracy_score(y_test, y_pred_lasso)*100)"
   ]
  },
  {
   "cell_type": "code",
   "execution_count": 268,
   "metadata": {
    "collapsed": false
   },
   "outputs": [
    {
     "data": {
      "image/png": "[encoded data removed]",
      "text/plain": [
       "<matplotlib.figure.Figure at 0x1d602da0>"
      ]
     },
     "metadata": {},
     "output_type": "display_data"
    }
   ],
   "source": [
    "plot_learning_curve(best_lasso, 'Learning Curve for LogReg', X_train_std, y_train, cv=cv);"
   ]
  },
  {
   "cell_type": "code",
   "execution_count": 258,
   "metadata": {
    "collapsed": false
   },
   "outputs": [
    {
     "data": {
      "text/plain": [
       "{'C': 1010.1010199999999, 'class_weight': None}"
      ]
     },
     "execution_count": 258,
     "metadata": {},
     "output_type": "execute_result"
    }
   ],
   "source": [
    "# Fit model using ridge regression\n",
    "ridge_model = GridSearchCV(ridge_reg, parameters, cv=cv)\n",
    "ridge_model.fit(X_train_std, y_train)\n",
    "ridge_model.best_params_"
   ]
  },
  {
   "cell_type": "code",
   "execution_count": 264,
   "metadata": {
    "collapsed": false
   },
   "outputs": [
    {
     "data": {
      "text/plain": [
       "0.76736111111111116"
      ]
     },
     "execution_count": 264,
     "metadata": {},
     "output_type": "execute_result"
    }
   ],
   "source": [
    "# Test accuracy of ridge model on training set\n",
    "ridge_model.best_score_"
   ]
  },
  {
   "cell_type": "code",
   "execution_count": 261,
   "metadata": {
    "collapsed": true
   },
   "outputs": [],
   "source": [
    "best_ridge = ridge_model.best_estimator_"
   ]
  },
  {
   "cell_type": "code",
   "execution_count": 408,
   "metadata": {
    "collapsed": false
   },
   "outputs": [
    {
     "name": "stdout",
     "output_type": "stream",
     "text": [
      "The tuned logistic regression achieves accuracy of 77.08%.\n"
     ]
    }
   ],
   "source": [
    "y_pred_ridge = ridge_model.predict(X_test_std)\n",
    "print \"The tuned logistic regression achieves accuracy of %.2f%%.\" % (\n",
    "    metrics.accuracy_score(y_test, y_pred_ridge)*100)"
   ]
  },
  {
   "cell_type": "code",
   "execution_count": 270,
   "metadata": {
    "collapsed": false
   },
   "outputs": [
    {
     "data": {
      "image/png": "[encoded data removed]",
      "text/plain": [
       "<matplotlib.figure.Figure at 0x215f3ba8>"
      ]
     },
     "metadata": {},
     "output_type": "display_data"
    }
   ],
   "source": [
    "plot_learning_curve(best_ridge, 'Learning Curve for LogReg', X_train_std, y_train, cv=cv);"
   ]
  },
  {
   "cell_type": "code",
   "execution_count": 265,
   "metadata": {
    "collapsed": false
   },
   "outputs": [
    {
     "name": "stdout",
     "output_type": "stream",
     "text": [
      "      0         1\n",
      "0  preg  0.443380\n",
      "1  plas  1.125244\n",
      "2  pres -0.079059\n",
      "3  skin  0.118958\n",
      "4  insu -0.164576\n",
      "5  mass  0.577477\n",
      "6  pedi  0.393933\n",
      "7   age  0.085648\n",
      "      0         1\n",
      "0  preg  0.443588\n",
      "1  plas  1.125360\n",
      "2  pres -0.079090\n",
      "3  skin  0.118980\n",
      "4  insu -0.164617\n",
      "5  mass  0.577462\n",
      "6  pedi  0.393964\n",
      "7   age  0.085507\n"
     ]
    }
   ],
   "source": [
    "# Compare Coefficients\n",
    "print pd.DataFrame(zip(colnames, best_lasso.coef_[0]))\n",
    "print pd.DataFrame(zip(colnames, best_ridge.coef_[0]))"
   ]
  },
  {
   "cell_type": "code",
   "execution_count": 419,
   "metadata": {
    "collapsed": false
   },
   "outputs": [
    {
     "name": "stdout",
     "output_type": "stream",
     "text": [
      "1000 loops, best of 3: 252 µs per loop\n"
     ]
    }
   ],
   "source": [
    "%timeit best_lasso.score(X_test_std, y_test) "
   ]
  },
  {
   "cell_type": "code",
   "execution_count": 420,
   "metadata": {
    "collapsed": false
   },
   "outputs": [
    {
     "data": {
      "text/plain": [
       "0.77083333333333337"
      ]
     },
     "execution_count": 420,
     "metadata": {},
     "output_type": "execute_result"
    }
   ],
   "source": [
    "# Prediction accuracy of lasso model\n",
    "best_lasso.score(X_test_std, y_test)"
   ]
  },
  {
   "cell_type": "code",
   "execution_count": 410,
   "metadata": {
    "collapsed": false
   },
   "outputs": [
    {
     "data": {
      "text/plain": [
       "0.77083333333333337"
      ]
     },
     "execution_count": 410,
     "metadata": {},
     "output_type": "execute_result"
    }
   ],
   "source": [
    "# Prediction accuracy of ridge model\n",
    "best_ridge.score(X_test_std, y_test)"
   ]
  },
  {
   "cell_type": "code",
   "execution_count": 428,
   "metadata": {
    "collapsed": false
   },
   "outputs": [
    {
     "name": "stdout",
     "output_type": "stream",
     "text": [
      "The lasso model takes about about 218.18% longer than the untuned model\n",
      "about takes about 43.18% slower than Naive Bayes.\n"
     ]
    }
   ],
   "source": [
    "print \"The lasso model takes about about %.2f%% longer than the untuned model\" % (\n",
    "    100*(252./79.2-1))\n",
    "print \"about takes about %.2f%% slower than Naive Bayes.\" % (100*(252./176-1))"
   ]
  },
  {
   "cell_type": "markdown",
   "metadata": {},
   "source": [
    "**Results**\n",
    "\n",
    "- Accuracy of the logistic regression is on par with the other models\n",
    "- However, as discussed in the class, this model can sometimes be difficult to explain to a non-technical audience\n",
    "- In terms of speed, the untuned logistic regression is the fastest of the 4 models\n",
    "- After employing a penalty term, the model takes about 3x as long, making it a still fast though less desirable model"
   ]
  },
  {
   "cell_type": "markdown",
   "metadata": {},
   "source": [
    "# What's the best performance you can get with Random Forest? Is RF a good choice for this dataset?"
   ]
  },
  {
   "cell_type": "code",
   "execution_count": 272,
   "metadata": {
    "collapsed": false
   },
   "outputs": [
    {
     "data": {
      "text/plain": [
       "RandomForestClassifier(bootstrap=True, class_weight=None, criterion='gini',\n",
       "            max_depth=None, max_features='auto', max_leaf_nodes=None,\n",
       "            min_samples_leaf=1, min_samples_split=2,\n",
       "            min_weight_fraction_leaf=0.0, n_estimators=20, n_jobs=1,\n",
       "            oob_score=False, random_state=None, verbose=0,\n",
       "            warm_start=False)"
      ]
     },
     "execution_count": 272,
     "metadata": {},
     "output_type": "execute_result"
    }
   ],
   "source": [
    "# Initialize random forest\n",
    "from sklearn.ensemble import RandomForestClassifier\n",
    "\n",
    "# Fit model to the training data\n",
    "rf = RandomForestClassifier(n_estimators = 20)\n",
    "rf.fit(X_train_std, y_train)"
   ]
  },
  {
   "cell_type": "code",
   "execution_count": 282,
   "metadata": {
    "collapsed": false
   },
   "outputs": [
    {
     "name": "stdout",
     "output_type": "stream",
     "text": [
      "The initial random forest achieved performance of 75.00%.\n"
     ]
    }
   ],
   "source": [
    "# Assess predictive performance of random forest\n",
    "print \"The initial random forest achieved performance of %.2f%%.\" %(\n",
    "    100*rf.score(X_test_std, y_test))"
   ]
  },
  {
   "cell_type": "code",
   "execution_count": 434,
   "metadata": {
    "collapsed": false
   },
   "outputs": [
    {
     "name": "stdout",
     "output_type": "stream",
     "text": [
      "1000 loops, best of 3: 1.62 ms per loop\n"
     ]
    }
   ],
   "source": [
    "%timeit rf.predict(X_test_std)"
   ]
  },
  {
   "cell_type": "code",
   "execution_count": 275,
   "metadata": {
    "collapsed": false
   },
   "outputs": [
    {
     "data": {
      "text/html": [
       "<div>\n",
       "<table border=\"1\" class=\"dataframe\">\n",
       "  <thead>\n",
       "    <tr style=\"text-align: right;\">\n",
       "      <th></th>\n",
       "      <th>Features</th>\n",
       "      <th>Importance Score</th>\n",
       "    </tr>\n",
       "  </thead>\n",
       "  <tbody>\n",
       "    <tr>\n",
       "      <th>1</th>\n",
       "      <td>plas</td>\n",
       "      <td>0.256370</td>\n",
       "    </tr>\n",
       "    <tr>\n",
       "      <th>5</th>\n",
       "      <td>mass</td>\n",
       "      <td>0.175256</td>\n",
       "    </tr>\n",
       "    <tr>\n",
       "      <th>7</th>\n",
       "      <td>age</td>\n",
       "      <td>0.148867</td>\n",
       "    </tr>\n",
       "    <tr>\n",
       "      <th>6</th>\n",
       "      <td>pedi</td>\n",
       "      <td>0.119683</td>\n",
       "    </tr>\n",
       "    <tr>\n",
       "      <th>2</th>\n",
       "      <td>pres</td>\n",
       "      <td>0.089247</td>\n",
       "    </tr>\n",
       "  </tbody>\n",
       "</table>\n",
       "</div>"
      ],
      "text/plain": [
       "  Features  Importance Score\n",
       "1     plas          0.256370\n",
       "5     mass          0.175256\n",
       "7      age          0.148867\n",
       "6     pedi          0.119683\n",
       "2     pres          0.089247"
      ]
     },
     "execution_count": 275,
     "metadata": {},
     "output_type": "execute_result"
    }
   ],
   "source": [
    "# Assess feature importance across random forest\n",
    "features = X_train_std.columns\n",
    "feature_importances = rf.feature_importances_\n",
    "\n",
    "features_df = pd.DataFrame({'Features': features, 'Importance Score': feature_importances})\n",
    "features_df.sort_values('Importance Score', inplace=True, ascending=False)\n",
    "\n",
    "features_df.head()"
   ]
  },
  {
   "cell_type": "markdown",
   "metadata": {},
   "source": [
    "This model appears to derive the most predictive power from the plasma glucose concentration, BMI, age, the diabetes pedigree function, and blood pressure. "
   ]
  },
  {
   "cell_type": "markdown",
   "metadata": {},
   "source": [
    "Assess the cross-validated scores across a range of tree numbers."
   ]
  },
  {
   "cell_type": "code",
   "execution_count": 430,
   "metadata": {
    "collapsed": false
   },
   "outputs": [
    {
     "name": "stdout",
     "output_type": "stream",
     "text": [
      "Accuracy of the initial model:\n",
      "CV accuracy [ 0.75862069  0.76724138  0.6637931   0.78070175  0.75438596], Average accuracy 0.744948578342\n",
      "\n",
      "CV accuracy [ 0.70689655  0.63793103  0.64655172  0.78947368  0.74561404], Average accuracy 0.705293405929\n",
      "Accuracy of 1 tree model on the test data is 67.71%.\n",
      "\n",
      "CV accuracy [ 0.70689655  0.78448276  0.73275862  0.77192982  0.77192982], Average accuracy 0.753599516031\n",
      "Accuracy of 11 tree model on the test data is 78.12%.\n",
      "\n",
      "CV accuracy [ 0.76724138  0.75862069  0.70689655  0.79824561  0.76315789], Average accuracy 0.758832425892\n",
      "Accuracy of 21 tree model on the test data is 77.08%.\n",
      "\n",
      "CV accuracy [ 0.75862069  0.79310345  0.67241379  0.79824561  0.78070175], Average accuracy 0.760617059891\n",
      "Accuracy of 31 tree model on the test data is 77.08%.\n",
      "\n",
      "CV accuracy [ 0.75        0.77586207  0.6637931   0.81578947  0.75438596], Average accuracy 0.751966122202\n",
      "Accuracy of 41 tree model on the test data is 78.65%.\n",
      "\n",
      "CV accuracy [ 0.75        0.76724138  0.68103448  0.75438596  0.77192982], Average accuracy 0.744918330309\n",
      "Accuracy of 51 tree model on the test data is 76.56%.\n",
      "\n",
      "CV accuracy [ 0.71551724  0.79310345  0.69827586  0.78947368  0.75438596], Average accuracy 0.750151240169\n",
      "Accuracy of 61 tree model on the test data is 77.60%.\n",
      "\n",
      "CV accuracy [ 0.73275862  0.77586207  0.6637931   0.79824561  0.78070175], Average accuracy 0.750272232305\n",
      "Accuracy of 71 tree model on the test data is 76.56%.\n",
      "\n",
      "CV accuracy [ 0.74137931  0.78448276  0.67241379  0.83333333  0.75438596], Average accuracy 0.757199032063\n",
      "Accuracy of 81 tree model on the test data is 76.04%.\n",
      "\n",
      "CV accuracy [ 0.72413793  0.78448276  0.68103448  0.79824561  0.75438596], Average accuracy 0.748457350272\n",
      "Accuracy of 91 tree model on the test data is 76.04%.\n",
      "\n"
     ]
    }
   ],
   "source": [
    "from sklearn.cross_validation import cross_val_score\n",
    "\n",
    "# Assess cross-validated accuracy of the initial random forest with 20 trees\n",
    "scores = cross_val_score(rf, X_train_std, y_train, scoring='accuracy', cv=5)\n",
    "print \"Accuracy of the initial model:\"\n",
    "print('CV accuracy {}, Average accuracy {}\\n'.format(scores, scores.mean()))\n",
    "\n",
    "# Assess cross-validated results across a range of forest sizes\n",
    "for n_trees in range(1, 100, 10):\n",
    "    model = RandomForestClassifier(n_estimators = n_trees)\n",
    "    scores = cross_val_score(model, X_train_std, y_train, scoring='accuracy' ,cv=5)\n",
    "    model.fit(X_train_std, y_train)\n",
    "    print('CV accuracy {}, Average accuracy {}'.format(scores, scores.mean()))\n",
    "    print \"Accuracy of %d tree model on the test data is %.2f%%.\\n\" % (\n",
    "        n_trees, 100*model.score(X_test_std, y_test))"
   ]
  },
  {
   "cell_type": "code",
   "execution_count": 290,
   "metadata": {
    "collapsed": true
   },
   "outputs": [],
   "source": [
    "scores = pd.DataFrame(range(1,101))\n",
    "for est in range(1,101):\n",
    "    rf_model = RandomForestClassifier(n_estimators = est)\n",
    "    rf_model.fit(X_train_std, y_train)\n",
    "    scores.ix[est, 'score'] = rf_model.score(X_test_std, y_test)"
   ]
  },
  {
   "cell_type": "code",
   "execution_count": 292,
   "metadata": {
    "collapsed": false
   },
   "outputs": [
    {
     "data": {
      "text/plain": [
       "<matplotlib.text.Text at 0x1d620f98>"
      ]
     },
     "execution_count": 292,
     "metadata": {},
     "output_type": "execute_result"
    },
    {
     "data": {
      "image/png": "[encoded data removed]",
      "text/plain": [
       "<matplotlib.figure.Figure at 0x20db15c0>"
      ]
     },
     "metadata": {},
     "output_type": "display_data"
    }
   ],
   "source": [
    "plt.style.use('ggplot')\n",
    "scores.score.plot()\n",
    "plt.title(\"Model Accuracy Across A Differing Number of Estimators\")"
   ]
  },
  {
   "cell_type": "markdown",
   "metadata": {
    "collapsed": true
   },
   "source": [
    "**Run same analysis on non-normalized data.**"
   ]
  },
  {
   "cell_type": "code",
   "execution_count": 288,
   "metadata": {
    "collapsed": false
   },
   "outputs": [
    {
     "name": "stdout",
     "output_type": "stream",
     "text": [
      "The initial random forest achieved performance of 74.48%.\n"
     ]
    }
   ],
   "source": [
    "# Fit model to the training data\n",
    "rf = RandomForestClassifier(n_estimators = 20)\n",
    "rf.fit(X_train, y_train)\n",
    "\n",
    "# Assess predictive performance of random forest\n",
    "print \"The initial random forest achieved performance of %.2f%%.\" %(\n",
    "    100*rf.score(X_test, y_test))"
   ]
  },
  {
   "cell_type": "code",
   "execution_count": 433,
   "metadata": {
    "collapsed": false
   },
   "outputs": [
    {
     "name": "stdout",
     "output_type": "stream",
     "text": [
      "100 loops, best of 3: 1.78 ms per loop\n"
     ]
    }
   ],
   "source": [
    "%timeit rf.predict(X_test)"
   ]
  },
  {
   "cell_type": "code",
   "execution_count": 431,
   "metadata": {
    "collapsed": false
   },
   "outputs": [
    {
     "name": "stdout",
     "output_type": "stream",
     "text": [
      "Accuracy of the initial model:\n",
      "CV accuracy [ 0.72413793  0.75        0.72413793  0.77192982  0.74561404], Average accuracy 0.743163944344\n",
      "\n",
      "CV accuracy [ 0.67241379  0.73275862  0.60344828  0.6754386   0.68421053], Average accuracy 0.673653962492\n",
      "Accuracy of 1 tree model on the test data is 65.10%.\n",
      "\n",
      "CV accuracy [ 0.71551724  0.79310345  0.71551724  0.8245614   0.71929825], Average accuracy 0.753599516031\n",
      "Accuracy of 11 tree model on the test data is 75.52%.\n",
      "\n",
      "CV accuracy [ 0.72413793  0.75862069  0.65517241  0.77192982  0.74561404], Average accuracy 0.731094978826\n",
      "Accuracy of 21 tree model on the test data is 77.08%.\n",
      "\n",
      "CV accuracy [ 0.73275862  0.73275862  0.68965517  0.78947368  0.77192982], Average accuracy 0.743315184513\n",
      "Accuracy of 31 tree model on the test data is 75.00%.\n",
      "\n",
      "CV accuracy [ 0.74137931  0.78448276  0.74137931  0.81578947  0.77192982], Average accuracy 0.770992135511\n",
      "Accuracy of 41 tree model on the test data is 77.08%.\n",
      "\n",
      "CV accuracy [ 0.69827586  0.77586207  0.70689655  0.80701754  0.75438596], Average accuracy 0.748487598306\n",
      "Accuracy of 51 tree model on the test data is 76.56%.\n",
      "\n",
      "CV accuracy [ 0.75        0.78448276  0.67241379  0.83333333  0.77192982], Average accuracy 0.762431941924\n",
      "Accuracy of 61 tree model on the test data is 79.17%.\n",
      "\n",
      "CV accuracy [ 0.74137931  0.79310345  0.70689655  0.79824561  0.76315789], Average accuracy 0.760556563823\n",
      "Accuracy of 71 tree model on the test data is 77.60%.\n",
      "\n",
      "CV accuracy [ 0.72413793  0.77586207  0.68103448  0.79824561  0.76315789], Average accuracy 0.748487598306\n",
      "Accuracy of 81 tree model on the test data is 77.08%.\n",
      "\n",
      "CV accuracy [ 0.73275862  0.81034483  0.68965517  0.79824561  0.77192982], Average accuracy 0.760586811857\n",
      "Accuracy of 91 tree model on the test data is 77.60%.\n",
      "\n"
     ]
    }
   ],
   "source": [
    "# Assess cross-validated accuracy of the initial random forest with 20 trees\n",
    "scores = cross_val_score(rf, X_train, y_train, scoring='accuracy' , cv=5)\n",
    "print \"Accuracy of the initial model:\"\n",
    "print('CV accuracy {}, Average accuracy {}\\n'.format(scores, scores.mean()))\n",
    "\n",
    "# Assess cross-validated results across a range of forest sizes\n",
    "for n_trees in range(1, 100, 10):\n",
    "    model = RandomForestClassifier(n_estimators = n_trees)\n",
    "    scores = cross_val_score(model, X_train, y_train, scoring='accuracy',cv=5)\n",
    "    model.fit(X_train, y_train)\n",
    "    print('CV accuracy {}, Average accuracy {}'.format(scores, scores.mean()))\n",
    "    print \"Accuracy of %d tree model on the test data is %.2f%%.\\n\" % (\n",
    "        n_trees, 100*model.score(X_test, y_test))"
   ]
  },
  {
   "cell_type": "markdown",
   "metadata": {},
   "source": [
    "Differences of the random forest for the standardized versus non-standardized data are minimal, which is to be expected due to the nonlinearity of the random forest model."
   ]
  },
  {
   "cell_type": "markdown",
   "metadata": {},
   "source": [
    "# If you could only choose one, which classifer is best? How do you define best? \n",
    "\n",
    "- Compare prediction accuracy, run time, interpretability, etc."
   ]
  },
  {
   "cell_type": "markdown",
   "metadata": {},
   "source": [
    "Choosing a single model on the joint bases of accuracy, run time and interpretability, I would choose the nearest neighbors algorithm, and particularly the instance with fewer neighbors. Though this model takes more than 20x longer than Naive Bayes and seems particularly sluggish when compared to logistic regression, for data of this size, the speed is not too much a hindrance. Furthermore, the model exhibits moderate variance, which should have the potential to diminish with more data.\n",
    "\n",
    "But the primary reason I would prefer Nearest Neighbors is the interpretability. While Naive Bayes, logistic regression, and random forests have the potential for greater speed and accuracy, the gains in speed, at least in this instance, seem to be outweighed by the remarkable ease with which Nearest Neighbors can be explained to non-technical audiences (I've tested this)."
   ]
  }
 ],
 "metadata": {
  "kernelspec": {
   "display_name": "Python 2",
   "language": "python",
   "name": "python2"
  },
  "language_info": {
   "codemirror_mode": {
    "name": "ipython",
    "version": 2
   },
   "file_extension": ".py",
   "mimetype": "text/x-python",
   "name": "python",
   "nbconvert_exporter": "python",
   "pygments_lexer": "ipython2",
   "version": "2.7.11"
  }
 },
 "nbformat": 4,
 "nbformat_minor": 0
}
